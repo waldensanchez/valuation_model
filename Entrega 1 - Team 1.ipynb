{
 "cells": [
  {
   "cell_type": "markdown",
   "id": "a5981a3f",
   "metadata": {},
   "source": [
    "\n",
    "# Optimización de Procesos de Inversión\n",
    "<img style=\"float: right; margin: 15px 15px 15px 15px;\" src=\"https://upload.wikimedia.org/wikipedia/commons/d/db/Logo_ITESO_normal.jpg\" title=\"git\" width=\"180\" height=\"50\">\n",
    "\n",
    "**Proyecto de Aplicación Profesional**\n",
    "\n",
    "#### Mtro. Nicolás Vázquez González\n",
    "\n",
    "\n",
    "### Equipo 1\n",
    "##### CASTILLO MEDA, LUCÍA\n",
    "##### GUTIÉRREZ VALDIVIA, JUAN CARLOS\n",
    "##### OROZCO GÓMEZ, DANIEL\n",
    "##### PONCE ANGUIANO, CARLOS DANIEL\n",
    "##### SÁNCHEZ PASZKO, JOSÉ WALDEN\n",
    "\n"
   ]
  },
  {
   "cell_type": "markdown",
   "id": "56cdd3eb",
   "metadata": {},
   "source": [
    "<br>"
   ]
  },
  {
   "cell_type": "markdown",
   "id": "7b609e4f",
   "metadata": {},
   "source": [
    "\n",
    "## Primera Entrega\n",
    "**Definición y Alcance del Proyecto**\n"
   ]
  },
  {
   "cell_type": "markdown",
   "id": "43c1c2bc",
   "metadata": {},
   "source": [
    "### Proyecto 1: Selección y Evaluación de Activos\n",
    "\n",
    "> Objetivo: Automatizar el análisis bursátil en la selección de activos financieros.\n"
   ]
  },
  {
   "cell_type": "markdown",
   "id": "8a04f69d",
   "metadata": {},
   "source": [
    "<div class=\"alert alert-block alert-info\">\n",
    "<b>Introduccion</b> \n",
    "</div>"
   ]
  },
  {
   "cell_type": "markdown",
   "id": "49549705",
   "metadata": {},
   "source": [
    "En este proyecto se realiza la implementación programática de un modelo que de manera automática realiza análisis fundamental de activos financieros.\n",
    "Utilizando Python, se plantea un flujo de trabajo con métricas específicas a calcular que ayudan a llegar a una decisión de inversión, las cuales serán definidas en conjunto con el profesor.\n"
   ]
  },
  {
   "cell_type": "markdown",
   "id": "8fd6efcb",
   "metadata": {},
   "source": [
    "Definicion del proyecto  evaluando los alcances del mismo (ideas?):\n",
    "\n",
    " - Automatizar el analisis de activos financieros podrá reducir tiempos de los profesionales del área bursatil. \n",
    " - Analisis de activos con personas no expertas en el tema de inversiones\n",
    " - Herramienta para que mas personas inviertan su dinero, cerca del 7% de los mexicanos invierte su dinero. "
   ]
  },
  {
   "cell_type": "markdown",
   "id": "2f5ae1fd",
   "metadata": {},
   "source": [
    "El análisis fundamental intenta calcular el valor real de un título mediante el análisis de balances y lo compara con el valor de mercado, para así descubrir si en un momento determinado el precio del mismo está infravalorado. Siempre teniendo en cuenta que los resultados de los balances y los precios se encuentran en constante cambio y que la cotización se puede ver influenciada también por otros factores entre los que se incluyen los políticos y los económicos.\n",
    "\n",
    "El análisis fundamental es una herramienta que permite evaluar el riesgo financiero de las empresas a partir de un análisis del entorno, el cálculo de ciertos ratios clave y la valoración de las propias empresas. Fuera de este análisis quedarían las tendencias de mercado y las gráficas de bolsa, que son el objeto de estudio principal del **análisis técnico**."
   ]
  },
  {
   "cell_type": "markdown",
   "id": "01a96c8e",
   "metadata": {},
   "source": [
    "<div class=\"alert alert-block alert-info\">\n",
    "<b>Conceptos Básicos</b> \n",
    "</div>"
   ]
  },
  {
   "cell_type": "markdown",
   "id": "61353dd6",
   "metadata": {},
   "source": [
    "##### Generalidades del proyecto con conceptos basicos necesarios: Metricas de Analisis Fundamental  y MOdelos propuestos  para la realizacion del analisis"
   ]
  },
  {
   "cell_type": "markdown",
   "id": "f61c4d55",
   "metadata": {},
   "source": [
    "Definir conceptos básicos: \n",
    "\n",
    "    -análisis fundamental \n",
    "    -activo\n",
    "    -acción\n",
    "    -índices bursátiles, \n",
    "    -liquidez, \n",
    "    -riesgo de mercado, \n",
    "    -regresión logística, \n",
    "    -modelo matemático (cuantitativo), \n",
    "    -teoría moderna de portafolios \n",
    "    -(y pos moderna), \n",
    "    Ciclo económico,\n",
    " - **Definir parsemonia. **\n",
    " - El mercado de valores siempre va adelantado del ciclo económico. \n",
    " - Sentimiento de mercado"
   ]
  },
  {
   "cell_type": "markdown",
   "id": "f8d0ba20",
   "metadata": {},
   "source": [
    "3 modelos posibles a utilizar y definir: \n",
    "\n",
    "    -regresión lineal\n",
    "    -regresión logística \n",
    "    -XGBoost, RedNeuronal\n",
    "    \n",
    "Definir métricas de inversión: \n",
    "\n",
    "    -radio de Sharpe, beta, \n",
    "    -Alpha de Jensen, \n",
    "    -rendimiento, \n",
    "    -volatilidad"
   ]
  },
  {
   "cell_type": "markdown",
   "id": "0f0754d1",
   "metadata": {},
   "source": [
    "<div>"
   ]
  },
  {
   "cell_type": "markdown",
   "id": "9cc87d26",
   "metadata": {},
   "source": [
    "<div class=\"alert alert-block alert-info\">\n",
    "<b>Flujo de Proyecto</b> \n",
    "</div>"
   ]
  },
  {
   "cell_type": "markdown",
   "id": "e6edf797",
   "metadata": {},
   "source": [
    "#### Realizar una propuesta extensa, clara y específica del flujo de trabajo."
   ]
  },
  {
   "cell_type": "markdown",
   "id": "98875adf",
   "metadata": {},
   "source": [
    "<img style=\"center\" src=\"https://ibm.box.com/shared/static/oeyhn9eiz48mf8m5hpf53kzo8upv24ba.jpeg\" width=\"500px\" height=\"200px\" alt=\"atom\" />"
   ]
  },
  {
   "cell_type": "markdown",
   "id": "2342d665",
   "metadata": {},
   "source": [
    "- 1ra entrega\n",
    "    - Definir conceptos básicos. \n",
    "    - Definir 3 modelos posibles a utilizar.\n",
    "    - Definir métricas de inversión.\n",
    "    - Definir Fundamentales \n",
    "    \n",
    "    \n",
    "- 2da entrega: Algoritmo que jale fundamentales de las compañías \n",
    "    - Bajar y limpiar datos fundamentales\n",
    "    - **Qué estadísticas, acorde a las empresas que ya cotizan en índices bursátiles (S&P, NASDAQ, etc.), IPC no debido a la falta de liquidez de activos mexicanos\n",
    "    - Diseñar algoritmo para descargar los fundamentales\n",
    "    \n",
    "\n",
    "\n",
    "- 3ra entrega: Implementación de análisis fundamental y demás tipos de análisis. Testing.\n",
    "    - Evaluar rendimiento de las acciones?\n",
    "    - Optimización de métricas de inversión\n",
    "    - Asignar \"1\" o \"0\" dependiendo de si superan o no cierta condición. \n",
    "    - Testear , hacer un Split aleatorio. Tomar en cuenta 3,4 años. \n",
    "    \n",
    "    \n",
    "- 4ta entrega: Back Testing \n",
    "    - Entrenamiento de modelo\n",
    "    - Seccionar tiempo y datos de entrenamiento\n",
    "    - Definir lista de tickers de entrenamiento: una bolsa o varias\n",
    "    - Back Testing, ya tengo mi modelo, ingreso las acciones que quiera. \n",
    "    \n",
    "- 5ta entrega\n",
    "    - Reporte y presentación PAP\n"
   ]
  },
  {
   "cell_type": "markdown",
   "id": "3767b864",
   "metadata": {},
   "source": [
    "<div class=\"alert alert-block alert-info\">\n",
    "<b>Documentacion, Herramientas y Recursos </b> \n",
    "</div>"
   ]
  },
  {
   "cell_type": "markdown",
   "id": "ca1c9ba7",
   "metadata": {},
   "source": [
    " - **Descarga de Fundamentales: [Alpha Vantage API](https://www.alphavantage.co/documentation/)**\n",
    "     - Free stock API service covering the majority of our datasets for up to 5 API requests per minute and 100 requests per day.\n",
    " - **Descarga de Precios: [Yahoo! Finance's API](https://pypi.org/project/yfinance/)**\n",
    " - **Trabajo Colaborativo: [GitHub](https://github.com)**\n",
    " - **Python**"
   ]
  },
  {
   "cell_type": "markdown",
   "id": "abb8700b",
   "metadata": {},
   "source": [
    "<div class=\"alert alert-block alert-warning\">\n",
    "<b>Example:</b> Use yellow boxes for examples that are not \n",
    "inside code cells, or use for mathematical formulas if needed.\n",
    "</div>"
   ]
  },
  {
   "cell_type": "markdown",
   "id": "0b10e468",
   "metadata": {},
   "source": [
    "<div class=\"alert alert-block alert-success\">\n",
    "<b>Up to you:</b> Use green boxes sparingly, and only for some specific \n",
    "purpose that the other boxes can't cover. For example, if you have a lot \n",
    "of related content to link to, maybe you decide to use green boxes for \n",
    "related links from each section of a notebook.\n",
    "</div>"
   ]
  },
  {
   "cell_type": "markdown",
   "id": "9db24b47",
   "metadata": {},
   "source": [
    "***"
   ]
  },
  {
   "cell_type": "code",
   "execution_count": null,
   "id": "b66594ee",
   "metadata": {},
   "outputs": [],
   "source": []
  }
 ],
 "metadata": {
  "kernelspec": {
   "display_name": "Python 3 (ipykernel)",
   "language": "python",
   "name": "python3"
  },
  "language_info": {
   "codemirror_mode": {
    "name": "ipython",
    "version": 3
   },
   "file_extension": ".py",
   "mimetype": "text/x-python",
   "name": "python",
   "nbconvert_exporter": "python",
   "pygments_lexer": "ipython3",
   "version": "3.9.7"
  }
 },
 "nbformat": 4,
 "nbformat_minor": 5
}
