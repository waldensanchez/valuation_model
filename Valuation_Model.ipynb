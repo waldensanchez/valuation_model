{
 "cells": [
  {
   "cell_type": "markdown",
   "id": "a25fcf9c",
   "metadata": {},
   "source": [
    "<img style=\"float: left; margin: 30px 15px 15px 15px;\" src=\"https://oci02.img.iteso.mx/Identidades-De-Instancia/ITESO/Logos%20ITESO/Logo-ITESO-Principal.jpg\" width=\"400\" height=\"600\" /> \n",
    "    \n",
    "    \n",
    "## <font color='navy'> Optimización de Programas de Inversión.\n",
    "    \n",
    "### <font color='navy'> Anexo #1: Código de Trabajo\n",
    "\n",
    "**Profesor:** Sean Nicolás González Vázquez.\n",
    "    \n",
    "**Elaboración:** \n",
    "- Castillo Meda, Lucía.\n",
    "- Gutiérrez Valdivia, Juan Carlos.\n",
    "- Orozco Gómez, Daniel.\n",
    "- Ponce Anguiano, Carlos Daniel.\n",
    "- Sánches Paszko, José Walden.\n",
    "    \n",
    "**Fecha:** 21 Septiembre 2023."
   ]
  },
  {
   "cell_type": "markdown",
   "id": "b4f3c828",
   "metadata": {},
   "source": [
    "## Preparación del entorno"
   ]
  },
  {
   "cell_type": "code",
   "execution_count": 175,
   "id": "bd193e7d",
   "metadata": {
    "scrolled": true
   },
   "outputs": [],
   "source": [
    "# Importar librerías \n",
    "import DataFunctions\n",
    "import ModelFunctions\n",
    "import seaborn as sns\n",
    "import yfinance as yf\n",
    "import matplotlib.pyplot as plt\n",
    "from datetime import datetime\n",
    "from valuation import Companies, Models\n",
    "from sklearn.impute import KNNImputer\n",
    "import statsmodels.api as sm\n",
    "import pandas as pd\n",
    "#from ydata_profiling import ProfileReport"
   ]
  },
  {
   "cell_type": "markdown",
   "id": "8a44807b",
   "metadata": {},
   "source": [
    "## Importación de datos y cálculo de fundamentales"
   ]
  },
  {
   "cell_type": "code",
   "execution_count": 176,
   "id": "29f31c65",
   "metadata": {},
   "outputs": [],
   "source": [
    "# Cargar Datos\n",
    "income_statement = DataFunctions.load_full_excel('Data/Income/Income_Statement.xlsx')\n",
    "balance_statement = DataFunctions.load_full_excel('Data/Balance/Balance_Statement.xlsx')\n",
    "sp500 = DataFunctions.assets(income_statement=income_statement)\n",
    "\n",
    "# Si se desea cambiar de periodo de analisis cambiar la siguiente fecha:\n",
    "prices = yf.download(tickers=sp500, start='2018-09-01', end='2023-09-23', progress=False)['Adj Close'] "
   ]
  },
  {
   "cell_type": "code",
   "execution_count": 177,
   "id": "9a04f1e6",
   "metadata": {},
   "outputs": [],
   "source": [
    "# Filtrado de fechas y correcciones temporales\n",
    "prices_fiscal = DataFunctions.prices_date(balance_statement=balance_statement, prices=prices, sp500=sp500)\n",
    "\n",
    "# DataFrame limpio con información consolidada de ambos estados financieros y precios\n",
    "financial_info = DataFunctions.clean_df(balance_statement=balance_statement, \n",
    "                                    income_statement=income_statement, \n",
    "                                    sp500=sp500, \n",
    "                                    prices_fiscal=prices_fiscal)"
   ]
  },
  {
   "cell_type": "code",
   "execution_count": 178,
   "id": "65b08589",
   "metadata": {},
   "outputs": [],
   "source": [
    "# Datos en formato tabular\n",
    "data_table = DataFunctions.tabular_df(financial_info=financial_info, sp500=sp500)"
   ]
  },
  {
   "cell_type": "code",
   "execution_count": 179,
   "id": "893d813c",
   "metadata": {},
   "outputs": [
    {
     "data": {
      "text/html": [
       "<div>\n",
       "<style scoped>\n",
       "    .dataframe tbody tr th:only-of-type {\n",
       "        vertical-align: middle;\n",
       "    }\n",
       "\n",
       "    .dataframe tbody tr th {\n",
       "        vertical-align: top;\n",
       "    }\n",
       "\n",
       "    .dataframe thead th {\n",
       "        text-align: right;\n",
       "    }\n",
       "</style>\n",
       "<table border=\"1\" class=\"dataframe\">\n",
       "  <thead>\n",
       "    <tr style=\"text-align: right;\">\n",
       "      <th></th>\n",
       "      <th>Stock</th>\n",
       "      <th>fiscalDateEnding</th>\n",
       "      <th>PER</th>\n",
       "      <th>PBV</th>\n",
       "      <th>Acid_test</th>\n",
       "      <th>ATR</th>\n",
       "      <th>CCC</th>\n",
       "      <th>ROA</th>\n",
       "      <th>DER</th>\n",
       "      <th>NPM</th>\n",
       "      <th>EM</th>\n",
       "      <th>Return</th>\n",
       "    </tr>\n",
       "  </thead>\n",
       "  <tbody>\n",
       "    <tr>\n",
       "      <th>0</th>\n",
       "      <td>A</td>\n",
       "      <td>2023-06-30</td>\n",
       "      <td>117.226398</td>\n",
       "      <td>3.280427</td>\n",
       "      <td>inf</td>\n",
       "      <td>0.156505</td>\n",
       "      <td>484.824339</td>\n",
       "      <td>0.027984</td>\n",
       "      <td>0.866805</td>\n",
       "      <td>0.178804</td>\n",
       "      <td>1.866805</td>\n",
       "      <td>1</td>\n",
       "    </tr>\n",
       "    <tr>\n",
       "      <th>1</th>\n",
       "      <td>A</td>\n",
       "      <td>2023-03-31</td>\n",
       "      <td>115.687540</td>\n",
       "      <td>3.729464</td>\n",
       "      <td>12.466387</td>\n",
       "      <td>0.159538</td>\n",
       "      <td>473.104821</td>\n",
       "      <td>0.032237</td>\n",
       "      <td>0.946693</td>\n",
       "      <td>0.202067</td>\n",
       "      <td>1.946693</td>\n",
       "      <td>1</td>\n",
       "    </tr>\n",
       "    <tr>\n",
       "      <th>2</th>\n",
       "      <td>A</td>\n",
       "      <td>2022-12-31</td>\n",
       "      <td>119.300078</td>\n",
       "      <td>4.168480</td>\n",
       "      <td>76.111111</td>\n",
       "      <td>0.174041</td>\n",
       "      <td>425.001250</td>\n",
       "      <td>0.034941</td>\n",
       "      <td>0.985297</td>\n",
       "      <td>0.200764</td>\n",
       "      <td>1.985297</td>\n",
       "      <td>1</td>\n",
       "    </tr>\n",
       "    <tr>\n",
       "      <th>3</th>\n",
       "      <td>A</td>\n",
       "      <td>2022-09-30</td>\n",
       "      <td>108.403277</td>\n",
       "      <td>3.401820</td>\n",
       "      <td>14.888889</td>\n",
       "      <td>0.163201</td>\n",
       "      <td>419.650125</td>\n",
       "      <td>0.031381</td>\n",
       "      <td>1.059320</td>\n",
       "      <td>0.192285</td>\n",
       "      <td>2.059320</td>\n",
       "      <td>0</td>\n",
       "    </tr>\n",
       "    <tr>\n",
       "      <th>4</th>\n",
       "      <td>A</td>\n",
       "      <td>2022-06-30</td>\n",
       "      <td>128.247944</td>\n",
       "      <td>3.361065</td>\n",
       "      <td>15.462857</td>\n",
       "      <td>0.151698</td>\n",
       "      <td>416.910303</td>\n",
       "      <td>0.026208</td>\n",
       "      <td>1.041195</td>\n",
       "      <td>0.172762</td>\n",
       "      <td>2.041195</td>\n",
       "      <td>0</td>\n",
       "    </tr>\n",
       "    <tr>\n",
       "      <th>...</th>\n",
       "      <td>...</td>\n",
       "      <td>...</td>\n",
       "      <td>...</td>\n",
       "      <td>...</td>\n",
       "      <td>...</td>\n",
       "      <td>...</td>\n",
       "      <td>...</td>\n",
       "      <td>...</td>\n",
       "      <td>...</td>\n",
       "      <td>...</td>\n",
       "      <td>...</td>\n",
       "      <td>...</td>\n",
       "    </tr>\n",
       "    <tr>\n",
       "      <th>14</th>\n",
       "      <td>XRAY</td>\n",
       "      <td>2019-12-31</td>\n",
       "      <td>197.198245</td>\n",
       "      <td>1.773366</td>\n",
       "      <td>4.074675</td>\n",
       "      <td>0.101090</td>\n",
       "      <td>520.351878</td>\n",
       "      <td>0.008993</td>\n",
       "      <td>0.990733</td>\n",
       "      <td>0.088959</td>\n",
       "      <td>1.990733</td>\n",
       "      <td>1</td>\n",
       "    </tr>\n",
       "    <tr>\n",
       "      <th>15</th>\n",
       "      <td>XRAY</td>\n",
       "      <td>2019-09-30</td>\n",
       "      <td>434.443223</td>\n",
       "      <td>1.833476</td>\n",
       "      <td>inf</td>\n",
       "      <td>0.116104</td>\n",
       "      <td>445.294066</td>\n",
       "      <td>0.004220</td>\n",
       "      <td>0.816937</td>\n",
       "      <td>0.036349</td>\n",
       "      <td>1.816937</td>\n",
       "      <td>0</td>\n",
       "    </tr>\n",
       "    <tr>\n",
       "      <th>16</th>\n",
       "      <td>XRAY</td>\n",
       "      <td>2019-06-30</td>\n",
       "      <td>450.749855</td>\n",
       "      <td>1.958479</td>\n",
       "      <td>inf</td>\n",
       "      <td>0.104921</td>\n",
       "      <td>447.986379</td>\n",
       "      <td>0.004345</td>\n",
       "      <td>0.760390</td>\n",
       "      <td>0.041411</td>\n",
       "      <td>1.760390</td>\n",
       "      <td>1</td>\n",
       "    </tr>\n",
       "    <tr>\n",
       "      <th>17</th>\n",
       "      <td>XRAY</td>\n",
       "      <td>2019-03-31</td>\n",
       "      <td>8354.720484</td>\n",
       "      <td>1.679904</td>\n",
       "      <td>inf</td>\n",
       "      <td>0.118376</td>\n",
       "      <td>407.148055</td>\n",
       "      <td>0.000201</td>\n",
       "      <td>0.777601</td>\n",
       "      <td>0.001699</td>\n",
       "      <td>1.777601</td>\n",
       "      <td>0</td>\n",
       "    </tr>\n",
       "    <tr>\n",
       "      <th>18</th>\n",
       "      <td>XRAY</td>\n",
       "      <td>2018-12-31</td>\n",
       "      <td>407.346079</td>\n",
       "      <td>1.332752</td>\n",
       "      <td>inf</td>\n",
       "      <td>0.107350</td>\n",
       "      <td>119.062181</td>\n",
       "      <td>0.003272</td>\n",
       "      <td>0.862399</td>\n",
       "      <td>0.030478</td>\n",
       "      <td>1.863270</td>\n",
       "      <td>0</td>\n",
       "    </tr>\n",
       "  </tbody>\n",
       "</table>\n",
       "<p>7372 rows × 12 columns</p>\n",
       "</div>"
      ],
      "text/plain": [
       "   Stock fiscalDateEnding          PER       PBV  Acid_test       ATR  \\\n",
       "0      A       2023-06-30   117.226398  3.280427        inf  0.156505   \n",
       "1      A       2023-03-31   115.687540  3.729464  12.466387  0.159538   \n",
       "2      A       2022-12-31   119.300078  4.168480  76.111111  0.174041   \n",
       "3      A       2022-09-30   108.403277  3.401820  14.888889  0.163201   \n",
       "4      A       2022-06-30   128.247944  3.361065  15.462857  0.151698   \n",
       "..   ...              ...          ...       ...        ...       ...   \n",
       "14  XRAY       2019-12-31   197.198245  1.773366   4.074675  0.101090   \n",
       "15  XRAY       2019-09-30   434.443223  1.833476        inf  0.116104   \n",
       "16  XRAY       2019-06-30   450.749855  1.958479        inf  0.104921   \n",
       "17  XRAY       2019-03-31  8354.720484  1.679904        inf  0.118376   \n",
       "18  XRAY       2018-12-31   407.346079  1.332752        inf  0.107350   \n",
       "\n",
       "           CCC       ROA       DER       NPM        EM  Return  \n",
       "0   484.824339  0.027984  0.866805  0.178804  1.866805       1  \n",
       "1   473.104821  0.032237  0.946693  0.202067  1.946693       1  \n",
       "2   425.001250  0.034941  0.985297  0.200764  1.985297       1  \n",
       "3   419.650125  0.031381  1.059320  0.192285  2.059320       0  \n",
       "4   416.910303  0.026208  1.041195  0.172762  2.041195       0  \n",
       "..         ...       ...       ...       ...       ...     ...  \n",
       "14  520.351878  0.008993  0.990733  0.088959  1.990733       1  \n",
       "15  445.294066  0.004220  0.816937  0.036349  1.816937       0  \n",
       "16  447.986379  0.004345  0.760390  0.041411  1.760390       1  \n",
       "17  407.148055  0.000201  0.777601  0.001699  1.777601       0  \n",
       "18  119.062181  0.003272  0.862399  0.030478  1.863270       0  \n",
       "\n",
       "[7372 rows x 12 columns]"
      ]
     },
     "execution_count": 179,
     "metadata": {},
     "output_type": "execute_result"
    }
   ],
   "source": [
    "# Cálculo de ratios financieros \n",
    "stock = Companies(data_table)\n",
    "stock.get_ratios()"
   ]
  },
  {
   "cell_type": "markdown",
   "id": "d57f895a",
   "metadata": {},
   "source": [
    "## Limpieza de datos"
   ]
  },
  {
   "cell_type": "code",
   "execution_count": 6,
   "id": "f68a8fb3",
   "metadata": {
    "scrolled": false
   },
   "outputs": [
    {
     "data": {
      "text/html": [
       "<div>\n",
       "<style scoped>\n",
       "    .dataframe tbody tr th:only-of-type {\n",
       "        vertical-align: middle;\n",
       "    }\n",
       "\n",
       "    .dataframe tbody tr th {\n",
       "        vertical-align: top;\n",
       "    }\n",
       "\n",
       "    .dataframe thead th {\n",
       "        text-align: right;\n",
       "    }\n",
       "</style>\n",
       "<table border=\"1\" class=\"dataframe\">\n",
       "  <thead>\n",
       "    <tr style=\"text-align: right;\">\n",
       "      <th></th>\n",
       "      <th>Nombres</th>\n",
       "      <th>Data_Type</th>\n",
       "      <th>Missing_Values</th>\n",
       "      <th>Present_Values</th>\n",
       "      <th>Num_Unique_Values</th>\n",
       "      <th>Min</th>\n",
       "      <th>Max</th>\n",
       "      <th>Categorical</th>\n",
       "      <th>Categories</th>\n",
       "    </tr>\n",
       "  </thead>\n",
       "  <tbody>\n",
       "    <tr>\n",
       "      <th>Stock</th>\n",
       "      <td>Stock</td>\n",
       "      <td>object</td>\n",
       "      <td>0</td>\n",
       "      <td>7372</td>\n",
       "      <td>388</td>\n",
       "      <td>A</td>\n",
       "      <td>XRAY</td>\n",
       "      <td>True</td>\n",
       "      <td>Category too large</td>\n",
       "    </tr>\n",
       "    <tr>\n",
       "      <th>fiscalDateEnding</th>\n",
       "      <td>fiscalDateEnding</td>\n",
       "      <td>datetime64[ns]</td>\n",
       "      <td>0</td>\n",
       "      <td>7372</td>\n",
       "      <td>19</td>\n",
       "      <td>2018-12-31 00:00:00</td>\n",
       "      <td>2023-06-30 00:00:00</td>\n",
       "      <td>False</td>\n",
       "      <td>Not categorical</td>\n",
       "    </tr>\n",
       "    <tr>\n",
       "      <th>PER</th>\n",
       "      <td>PER</td>\n",
       "      <td>float64</td>\n",
       "      <td>37</td>\n",
       "      <td>7335</td>\n",
       "      <td>7319</td>\n",
       "      <td>-123728.496361</td>\n",
       "      <td>inf</td>\n",
       "      <td>False</td>\n",
       "      <td>Not categorical</td>\n",
       "    </tr>\n",
       "    <tr>\n",
       "      <th>PBV</th>\n",
       "      <td>PBV</td>\n",
       "      <td>float64</td>\n",
       "      <td>0</td>\n",
       "      <td>7372</td>\n",
       "      <td>7317</td>\n",
       "      <td>0.0</td>\n",
       "      <td>173.594601</td>\n",
       "      <td>False</td>\n",
       "      <td>Not categorical</td>\n",
       "    </tr>\n",
       "    <tr>\n",
       "      <th>Acid_test</th>\n",
       "      <td>Acid_test</td>\n",
       "      <td>float64</td>\n",
       "      <td>0</td>\n",
       "      <td>7372</td>\n",
       "      <td>13</td>\n",
       "      <td>3.223702</td>\n",
       "      <td>inf</td>\n",
       "      <td>False</td>\n",
       "      <td>Not categorical</td>\n",
       "    </tr>\n",
       "    <tr>\n",
       "      <th>ATR</th>\n",
       "      <td>ATR</td>\n",
       "      <td>float64</td>\n",
       "      <td>0</td>\n",
       "      <td>7372</td>\n",
       "      <td>7233</td>\n",
       "      <td>-0.010471</td>\n",
       "      <td>13.58879</td>\n",
       "      <td>False</td>\n",
       "      <td>Not categorical</td>\n",
       "    </tr>\n",
       "    <tr>\n",
       "      <th>CCC</th>\n",
       "      <td>CCC</td>\n",
       "      <td>float64</td>\n",
       "      <td>40</td>\n",
       "      <td>7332</td>\n",
       "      <td>7273</td>\n",
       "      <td>-130229.268944</td>\n",
       "      <td>inf</td>\n",
       "      <td>False</td>\n",
       "      <td>Not categorical</td>\n",
       "    </tr>\n",
       "    <tr>\n",
       "      <th>ROA</th>\n",
       "      <td>ROA</td>\n",
       "      <td>float64</td>\n",
       "      <td>0</td>\n",
       "      <td>7372</td>\n",
       "      <td>7077</td>\n",
       "      <td>-5.261343</td>\n",
       "      <td>3.839063</td>\n",
       "      <td>False</td>\n",
       "      <td>Not categorical</td>\n",
       "    </tr>\n",
       "    <tr>\n",
       "      <th>DER</th>\n",
       "      <td>DER</td>\n",
       "      <td>float64</td>\n",
       "      <td>0</td>\n",
       "      <td>7372</td>\n",
       "      <td>19</td>\n",
       "      <td>0.76039</td>\n",
       "      <td>1.161746</td>\n",
       "      <td>False</td>\n",
       "      <td>Not categorical</td>\n",
       "    </tr>\n",
       "    <tr>\n",
       "      <th>NPM</th>\n",
       "      <td>NPM</td>\n",
       "      <td>float64</td>\n",
       "      <td>37</td>\n",
       "      <td>7335</td>\n",
       "      <td>7262</td>\n",
       "      <td>-inf</td>\n",
       "      <td>inf</td>\n",
       "      <td>False</td>\n",
       "      <td>Not categorical</td>\n",
       "    </tr>\n",
       "    <tr>\n",
       "      <th>EM</th>\n",
       "      <td>EM</td>\n",
       "      <td>float64</td>\n",
       "      <td>0</td>\n",
       "      <td>7372</td>\n",
       "      <td>19</td>\n",
       "      <td>1.76039</td>\n",
       "      <td>2.161746</td>\n",
       "      <td>False</td>\n",
       "      <td>Not categorical</td>\n",
       "    </tr>\n",
       "    <tr>\n",
       "      <th>Return</th>\n",
       "      <td>Return</td>\n",
       "      <td>int64</td>\n",
       "      <td>0</td>\n",
       "      <td>7372</td>\n",
       "      <td>2</td>\n",
       "      <td>0</td>\n",
       "      <td>1</td>\n",
       "      <td>False</td>\n",
       "      <td>Not categorical</td>\n",
       "    </tr>\n",
       "  </tbody>\n",
       "</table>\n",
       "</div>"
      ],
      "text/plain": [
       "                           Nombres       Data_Type  Missing_Values  \\\n",
       "Stock                        Stock          object               0   \n",
       "fiscalDateEnding  fiscalDateEnding  datetime64[ns]               0   \n",
       "PER                            PER         float64              37   \n",
       "PBV                            PBV         float64               0   \n",
       "Acid_test                Acid_test         float64               0   \n",
       "ATR                            ATR         float64               0   \n",
       "CCC                            CCC         float64              40   \n",
       "ROA                            ROA         float64               0   \n",
       "DER                            DER         float64               0   \n",
       "NPM                            NPM         float64              37   \n",
       "EM                              EM         float64               0   \n",
       "Return                      Return           int64               0   \n",
       "\n",
       "                  Present_Values  Num_Unique_Values                  Min  \\\n",
       "Stock                       7372                388                    A   \n",
       "fiscalDateEnding            7372                 19  2018-12-31 00:00:00   \n",
       "PER                         7335               7319       -123728.496361   \n",
       "PBV                         7372               7317                  0.0   \n",
       "Acid_test                   7372                 13             3.223702   \n",
       "ATR                         7372               7233            -0.010471   \n",
       "CCC                         7332               7273       -130229.268944   \n",
       "ROA                         7372               7077            -5.261343   \n",
       "DER                         7372                 19              0.76039   \n",
       "NPM                         7335               7262                 -inf   \n",
       "EM                          7372                 19              1.76039   \n",
       "Return                      7372                  2                    0   \n",
       "\n",
       "                                  Max  Categorical          Categories  \n",
       "Stock                            XRAY         True  Category too large  \n",
       "fiscalDateEnding  2023-06-30 00:00:00        False     Not categorical  \n",
       "PER                               inf        False     Not categorical  \n",
       "PBV                        173.594601        False     Not categorical  \n",
       "Acid_test                         inf        False     Not categorical  \n",
       "ATR                          13.58879        False     Not categorical  \n",
       "CCC                               inf        False     Not categorical  \n",
       "ROA                          3.839063        False     Not categorical  \n",
       "DER                          1.161746        False     Not categorical  \n",
       "NPM                               inf        False     Not categorical  \n",
       "EM                           2.161746        False     Not categorical  \n",
       "Return                              1        False     Not categorical  "
      ]
     },
     "execution_count": 6,
     "metadata": {},
     "output_type": "execute_result"
    }
   ],
   "source": [
    "# EDA con miras a limpieza de datos\n",
    "DataFunctions.dqr(stock.ratios)"
   ]
  },
  {
   "cell_type": "code",
   "execution_count": 181,
   "id": "8beea2c9",
   "metadata": {},
   "outputs": [
    {
     "data": {
      "text/html": [
       "<div>\n",
       "<style scoped>\n",
       "    .dataframe tbody tr th:only-of-type {\n",
       "        vertical-align: middle;\n",
       "    }\n",
       "\n",
       "    .dataframe tbody tr th {\n",
       "        vertical-align: top;\n",
       "    }\n",
       "\n",
       "    .dataframe thead th {\n",
       "        text-align: right;\n",
       "    }\n",
       "</style>\n",
       "<table border=\"1\" class=\"dataframe\">\n",
       "  <thead>\n",
       "    <tr style=\"text-align: right;\">\n",
       "      <th></th>\n",
       "      <th>Stock</th>\n",
       "      <th>fiscalDateEnding</th>\n",
       "      <th>PER</th>\n",
       "      <th>PBV</th>\n",
       "      <th>Acid_test</th>\n",
       "      <th>ATR</th>\n",
       "      <th>CCC</th>\n",
       "      <th>ROA</th>\n",
       "      <th>DER</th>\n",
       "      <th>NPM</th>\n",
       "      <th>EM</th>\n",
       "      <th>Return</th>\n",
       "    </tr>\n",
       "  </thead>\n",
       "  <tbody>\n",
       "    <tr>\n",
       "      <th>0</th>\n",
       "      <td>A</td>\n",
       "      <td>2023-06-30</td>\n",
       "      <td>117.226398</td>\n",
       "      <td>3.280427</td>\n",
       "      <td>26.970165</td>\n",
       "      <td>0.156505</td>\n",
       "      <td>484.824339</td>\n",
       "      <td>0.027984</td>\n",
       "      <td>0.866805</td>\n",
       "      <td>0.178804</td>\n",
       "      <td>1.866805</td>\n",
       "      <td>1</td>\n",
       "    </tr>\n",
       "    <tr>\n",
       "      <th>1</th>\n",
       "      <td>A</td>\n",
       "      <td>2023-03-31</td>\n",
       "      <td>115.687540</td>\n",
       "      <td>3.729464</td>\n",
       "      <td>12.466387</td>\n",
       "      <td>0.159538</td>\n",
       "      <td>473.104821</td>\n",
       "      <td>0.032237</td>\n",
       "      <td>0.946693</td>\n",
       "      <td>0.202067</td>\n",
       "      <td>1.946693</td>\n",
       "      <td>1</td>\n",
       "    </tr>\n",
       "    <tr>\n",
       "      <th>2</th>\n",
       "      <td>A</td>\n",
       "      <td>2022-12-31</td>\n",
       "      <td>119.300078</td>\n",
       "      <td>4.168480</td>\n",
       "      <td>76.111111</td>\n",
       "      <td>0.174041</td>\n",
       "      <td>425.001250</td>\n",
       "      <td>0.034941</td>\n",
       "      <td>0.985297</td>\n",
       "      <td>0.200764</td>\n",
       "      <td>1.985297</td>\n",
       "      <td>1</td>\n",
       "    </tr>\n",
       "    <tr>\n",
       "      <th>3</th>\n",
       "      <td>A</td>\n",
       "      <td>2022-09-30</td>\n",
       "      <td>108.403277</td>\n",
       "      <td>3.401820</td>\n",
       "      <td>14.888889</td>\n",
       "      <td>0.163201</td>\n",
       "      <td>419.650125</td>\n",
       "      <td>0.031381</td>\n",
       "      <td>1.059320</td>\n",
       "      <td>0.192285</td>\n",
       "      <td>2.059320</td>\n",
       "      <td>0</td>\n",
       "    </tr>\n",
       "    <tr>\n",
       "      <th>4</th>\n",
       "      <td>A</td>\n",
       "      <td>2022-06-30</td>\n",
       "      <td>128.247944</td>\n",
       "      <td>3.361065</td>\n",
       "      <td>15.462857</td>\n",
       "      <td>0.151698</td>\n",
       "      <td>416.910303</td>\n",
       "      <td>0.026208</td>\n",
       "      <td>1.041195</td>\n",
       "      <td>0.172762</td>\n",
       "      <td>2.041195</td>\n",
       "      <td>0</td>\n",
       "    </tr>\n",
       "    <tr>\n",
       "      <th>...</th>\n",
       "      <td>...</td>\n",
       "      <td>...</td>\n",
       "      <td>...</td>\n",
       "      <td>...</td>\n",
       "      <td>...</td>\n",
       "      <td>...</td>\n",
       "      <td>...</td>\n",
       "      <td>...</td>\n",
       "      <td>...</td>\n",
       "      <td>...</td>\n",
       "      <td>...</td>\n",
       "      <td>...</td>\n",
       "    </tr>\n",
       "    <tr>\n",
       "      <th>14</th>\n",
       "      <td>XRAY</td>\n",
       "      <td>2019-12-31</td>\n",
       "      <td>197.198245</td>\n",
       "      <td>1.773366</td>\n",
       "      <td>4.074675</td>\n",
       "      <td>0.101090</td>\n",
       "      <td>520.351878</td>\n",
       "      <td>0.008993</td>\n",
       "      <td>0.990733</td>\n",
       "      <td>0.088959</td>\n",
       "      <td>1.990733</td>\n",
       "      <td>1</td>\n",
       "    </tr>\n",
       "    <tr>\n",
       "      <th>15</th>\n",
       "      <td>XRAY</td>\n",
       "      <td>2019-09-30</td>\n",
       "      <td>434.443223</td>\n",
       "      <td>1.833476</td>\n",
       "      <td>26.970165</td>\n",
       "      <td>0.116104</td>\n",
       "      <td>445.294066</td>\n",
       "      <td>0.004220</td>\n",
       "      <td>0.816937</td>\n",
       "      <td>0.036349</td>\n",
       "      <td>1.816937</td>\n",
       "      <td>0</td>\n",
       "    </tr>\n",
       "    <tr>\n",
       "      <th>16</th>\n",
       "      <td>XRAY</td>\n",
       "      <td>2019-06-30</td>\n",
       "      <td>450.749855</td>\n",
       "      <td>1.958479</td>\n",
       "      <td>26.970165</td>\n",
       "      <td>0.104921</td>\n",
       "      <td>447.986379</td>\n",
       "      <td>0.004345</td>\n",
       "      <td>0.760390</td>\n",
       "      <td>0.041411</td>\n",
       "      <td>1.760390</td>\n",
       "      <td>1</td>\n",
       "    </tr>\n",
       "    <tr>\n",
       "      <th>17</th>\n",
       "      <td>XRAY</td>\n",
       "      <td>2019-03-31</td>\n",
       "      <td>8354.720484</td>\n",
       "      <td>1.679904</td>\n",
       "      <td>26.970165</td>\n",
       "      <td>0.118376</td>\n",
       "      <td>407.148055</td>\n",
       "      <td>0.000201</td>\n",
       "      <td>0.777601</td>\n",
       "      <td>0.001699</td>\n",
       "      <td>1.777601</td>\n",
       "      <td>0</td>\n",
       "    </tr>\n",
       "    <tr>\n",
       "      <th>18</th>\n",
       "      <td>XRAY</td>\n",
       "      <td>2018-12-31</td>\n",
       "      <td>407.346079</td>\n",
       "      <td>1.332752</td>\n",
       "      <td>26.970165</td>\n",
       "      <td>0.107350</td>\n",
       "      <td>119.062181</td>\n",
       "      <td>0.003272</td>\n",
       "      <td>0.862399</td>\n",
       "      <td>0.030478</td>\n",
       "      <td>1.863270</td>\n",
       "      <td>0</td>\n",
       "    </tr>\n",
       "  </tbody>\n",
       "</table>\n",
       "<p>7372 rows × 12 columns</p>\n",
       "</div>"
      ],
      "text/plain": [
       "   Stock fiscalDateEnding          PER       PBV  Acid_test       ATR  \\\n",
       "0      A       2023-06-30   117.226398  3.280427  26.970165  0.156505   \n",
       "1      A       2023-03-31   115.687540  3.729464  12.466387  0.159538   \n",
       "2      A       2022-12-31   119.300078  4.168480  76.111111  0.174041   \n",
       "3      A       2022-09-30   108.403277  3.401820  14.888889  0.163201   \n",
       "4      A       2022-06-30   128.247944  3.361065  15.462857  0.151698   \n",
       "..   ...              ...          ...       ...        ...       ...   \n",
       "14  XRAY       2019-12-31   197.198245  1.773366   4.074675  0.101090   \n",
       "15  XRAY       2019-09-30   434.443223  1.833476  26.970165  0.116104   \n",
       "16  XRAY       2019-06-30   450.749855  1.958479  26.970165  0.104921   \n",
       "17  XRAY       2019-03-31  8354.720484  1.679904  26.970165  0.118376   \n",
       "18  XRAY       2018-12-31   407.346079  1.332752  26.970165  0.107350   \n",
       "\n",
       "           CCC       ROA       DER       NPM        EM  Return  \n",
       "0   484.824339  0.027984  0.866805  0.178804  1.866805       1  \n",
       "1   473.104821  0.032237  0.946693  0.202067  1.946693       1  \n",
       "2   425.001250  0.034941  0.985297  0.200764  1.985297       1  \n",
       "3   419.650125  0.031381  1.059320  0.192285  2.059320       0  \n",
       "4   416.910303  0.026208  1.041195  0.172762  2.041195       0  \n",
       "..         ...       ...       ...       ...       ...     ...  \n",
       "14  520.351878  0.008993  0.990733  0.088959  1.990733       1  \n",
       "15  445.294066  0.004220  0.816937  0.036349  1.816937       0  \n",
       "16  447.986379  0.004345  0.760390  0.041411  1.760390       1  \n",
       "17  407.148055  0.000201  0.777601  0.001699  1.777601       0  \n",
       "18  119.062181  0.003272  0.862399  0.030478  1.863270       0  \n",
       "\n",
       "[7372 rows x 12 columns]"
      ]
     },
     "execution_count": 181,
     "metadata": {},
     "output_type": "execute_result"
    }
   ],
   "source": [
    "# Limpieza\n",
    "stock.clean_ratios()\n",
    "stock.clean"
   ]
  },
  {
   "cell_type": "markdown",
   "id": "71b95562",
   "metadata": {},
   "source": [
    "## Regresión logística"
   ]
  },
  {
   "cell_type": "code",
   "execution_count": 8,
   "id": "239170cb",
   "metadata": {},
   "outputs": [
    {
     "name": "stdout",
     "output_type": "stream",
     "text": [
      "Accuracy: 0.6237288135593221\n",
      "Confusion Matrix:\n",
      " [[920   0]\n",
      " [555   0]]\n",
      "Classification Report:\n",
      "               precision    recall  f1-score   support\n",
      "\n",
      "           0       0.62      1.00      0.77       920\n",
      "           1       0.00      0.00      0.00       555\n",
      "\n",
      "    accuracy                           0.62      1475\n",
      "   macro avg       0.31      0.50      0.38      1475\n",
      "weighted avg       0.39      0.62      0.48      1475\n",
      "\n"
     ]
    },
    {
     "name": "stderr",
     "output_type": "stream",
     "text": [
      "/Users/danielorozco/anaconda3/lib/python3.11/site-packages/sklearn/metrics/_classification.py:1469: UndefinedMetricWarning: Precision and F-score are ill-defined and being set to 0.0 in labels with no predicted samples. Use `zero_division` parameter to control this behavior.\n",
      "  _warn_prf(average, modifier, msg_start, len(result))\n",
      "/Users/danielorozco/anaconda3/lib/python3.11/site-packages/sklearn/metrics/_classification.py:1469: UndefinedMetricWarning: Precision and F-score are ill-defined and being set to 0.0 in labels with no predicted samples. Use `zero_division` parameter to control this behavior.\n",
      "  _warn_prf(average, modifier, msg_start, len(result))\n",
      "/Users/danielorozco/anaconda3/lib/python3.11/site-packages/sklearn/metrics/_classification.py:1469: UndefinedMetricWarning: Precision and F-score are ill-defined and being set to 0.0 in labels with no predicted samples. Use `zero_division` parameter to control this behavior.\n",
      "  _warn_prf(average, modifier, msg_start, len(result))\n"
     ]
    }
   ],
   "source": [
    "# Regresión Logística\n",
    "stock.model_input()\n",
    "valuation_models = Models(stock.input)\n",
    "valuation_models.split_data()\n",
    "valuation_models.Logistic_Regression()\n",
    "valuation_models.Logistic_Regression"
   ]
  },
  {
   "cell_type": "markdown",
   "id": "dd5b894d",
   "metadata": {},
   "source": [
    "## Prueba statsmodels, identificar variables significativas"
   ]
  },
  {
   "cell_type": "code",
   "execution_count": 9,
   "id": "f9011c0a",
   "metadata": {},
   "outputs": [
    {
     "data": {
      "text/html": [
       "<table class=\"simpletable\">\n",
       "<caption>OLS Regression Results</caption>\n",
       "<tr>\n",
       "  <th>Dep. Variable:</th>         <td>Return</td>      <th>  R-squared:         </th> <td>   0.033</td> \n",
       "</tr>\n",
       "<tr>\n",
       "  <th>Model:</th>                   <td>OLS</td>       <th>  Adj. R-squared:    </th> <td>   0.033</td> \n",
       "</tr>\n",
       "<tr>\n",
       "  <th>Method:</th>             <td>Least Squares</td>  <th>  F-statistic:       </th> <td>   83.96</td> \n",
       "</tr>\n",
       "<tr>\n",
       "  <th>Date:</th>             <td>Sat, 21 Oct 2023</td> <th>  Prob (F-statistic):</th> <td>2.07e-53</td> \n",
       "</tr>\n",
       "<tr>\n",
       "  <th>Time:</th>                 <td>11:18:56</td>     <th>  Log-Likelihood:    </th> <td> -5024.2</td> \n",
       "</tr>\n",
       "<tr>\n",
       "  <th>No. Observations:</th>      <td>  7372</td>      <th>  AIC:               </th> <td>1.006e+04</td>\n",
       "</tr>\n",
       "<tr>\n",
       "  <th>Df Residuals:</th>          <td>  7368</td>      <th>  BIC:               </th> <td>1.008e+04</td>\n",
       "</tr>\n",
       "<tr>\n",
       "  <th>Df Model:</th>              <td>     3</td>      <th>                     </th>     <td> </td>    \n",
       "</tr>\n",
       "<tr>\n",
       "  <th>Covariance Type:</th>      <td>nonrobust</td>    <th>                     </th>     <td> </td>    \n",
       "</tr>\n",
       "</table>\n",
       "<table class=\"simpletable\">\n",
       "<tr>\n",
       "      <td></td>         <th>coef</th>     <th>std err</th>      <th>t</th>      <th>P>|t|</th>  <th>[0.025</th>    <th>0.975]</th>  \n",
       "</tr>\n",
       "<tr>\n",
       "  <th>const</th>     <td>  343.9315</td> <td>   29.392</td> <td>   11.702</td> <td> 0.000</td> <td>  286.315</td> <td>  401.548</td>\n",
       "</tr>\n",
       "<tr>\n",
       "  <th>Acid_test</th> <td>   -0.0023</td> <td>    0.000</td> <td>   -7.651</td> <td> 0.000</td> <td>   -0.003</td> <td>   -0.002</td>\n",
       "</tr>\n",
       "<tr>\n",
       "  <th>DER</th>       <td>  343.7727</td> <td>   29.367</td> <td>   11.706</td> <td> 0.000</td> <td>  286.205</td> <td>  401.340</td>\n",
       "</tr>\n",
       "<tr>\n",
       "  <th>EM</th>        <td> -343.6231</td> <td>   29.379</td> <td>  -11.696</td> <td> 0.000</td> <td> -401.214</td> <td> -286.032</td>\n",
       "</tr>\n",
       "</table>\n",
       "<table class=\"simpletable\">\n",
       "<tr>\n",
       "  <th>Omnibus:</th>       <td>31727.097</td> <th>  Durbin-Watson:     </th> <td>   2.018</td> \n",
       "</tr>\n",
       "<tr>\n",
       "  <th>Prob(Omnibus):</th>  <td> 0.000</td>   <th>  Jarque-Bera (JB):  </th> <td>1127.493</td> \n",
       "</tr>\n",
       "<tr>\n",
       "  <th>Skew:</th>           <td> 0.423</td>   <th>  Prob(JB):          </th> <td>1.47e-245</td>\n",
       "</tr>\n",
       "<tr>\n",
       "  <th>Kurtosis:</th>       <td> 1.281</td>   <th>  Cond. No.          </th> <td>2.71e+05</td> \n",
       "</tr>\n",
       "</table><br/><br/>Notes:<br/>[1] Standard Errors assume that the covariance matrix of the errors is correctly specified.<br/>[2] The condition number is large, 2.71e+05. This might indicate that there are<br/>strong multicollinearity or other numerical problems."
      ],
      "text/latex": [
       "\\begin{center}\n",
       "\\begin{tabular}{lclc}\n",
       "\\toprule\n",
       "\\textbf{Dep. Variable:}    &      Return      & \\textbf{  R-squared:         } &     0.033   \\\\\n",
       "\\textbf{Model:}            &       OLS        & \\textbf{  Adj. R-squared:    } &     0.033   \\\\\n",
       "\\textbf{Method:}           &  Least Squares   & \\textbf{  F-statistic:       } &     83.96   \\\\\n",
       "\\textbf{Date:}             & Sat, 21 Oct 2023 & \\textbf{  Prob (F-statistic):} &  2.07e-53   \\\\\n",
       "\\textbf{Time:}             &     11:18:56     & \\textbf{  Log-Likelihood:    } &   -5024.2   \\\\\n",
       "\\textbf{No. Observations:} &        7372      & \\textbf{  AIC:               } & 1.006e+04   \\\\\n",
       "\\textbf{Df Residuals:}     &        7368      & \\textbf{  BIC:               } & 1.008e+04   \\\\\n",
       "\\textbf{Df Model:}         &           3      & \\textbf{                     } &             \\\\\n",
       "\\textbf{Covariance Type:}  &    nonrobust     & \\textbf{                     } &             \\\\\n",
       "\\bottomrule\n",
       "\\end{tabular}\n",
       "\\begin{tabular}{lcccccc}\n",
       "                    & \\textbf{coef} & \\textbf{std err} & \\textbf{t} & \\textbf{P$> |$t$|$} & \\textbf{[0.025} & \\textbf{0.975]}  \\\\\n",
       "\\midrule\n",
       "\\textbf{const}      &     343.9315  &       29.392     &    11.702  &         0.000        &      286.315    &      401.548     \\\\\n",
       "\\textbf{Acid\\_test} &      -0.0023  &        0.000     &    -7.651  &         0.000        &       -0.003    &       -0.002     \\\\\n",
       "\\textbf{DER}        &     343.7727  &       29.367     &    11.706  &         0.000        &      286.205    &      401.340     \\\\\n",
       "\\textbf{EM}         &    -343.6231  &       29.379     &   -11.696  &         0.000        &     -401.214    &     -286.032     \\\\\n",
       "\\bottomrule\n",
       "\\end{tabular}\n",
       "\\begin{tabular}{lclc}\n",
       "\\textbf{Omnibus:}       & 31727.097 & \\textbf{  Durbin-Watson:     } &     2.018  \\\\\n",
       "\\textbf{Prob(Omnibus):} &    0.000  & \\textbf{  Jarque-Bera (JB):  } &  1127.493  \\\\\n",
       "\\textbf{Skew:}          &    0.423  & \\textbf{  Prob(JB):          } & 1.47e-245  \\\\\n",
       "\\textbf{Kurtosis:}      &    1.281  & \\textbf{  Cond. No.          } &  2.71e+05  \\\\\n",
       "\\bottomrule\n",
       "\\end{tabular}\n",
       "%\\caption{OLS Regression Results}\n",
       "\\end{center}\n",
       "\n",
       "Notes: \\newline\n",
       " [1] Standard Errors assume that the covariance matrix of the errors is correctly specified. \\newline\n",
       " [2] The condition number is large, 2.71e+05. This might indicate that there are \\newline\n",
       " strong multicollinearity or other numerical problems."
      ],
      "text/plain": [
       "<class 'statsmodels.iolib.summary.Summary'>\n",
       "\"\"\"\n",
       "                            OLS Regression Results                            \n",
       "==============================================================================\n",
       "Dep. Variable:                 Return   R-squared:                       0.033\n",
       "Model:                            OLS   Adj. R-squared:                  0.033\n",
       "Method:                 Least Squares   F-statistic:                     83.96\n",
       "Date:                Sat, 21 Oct 2023   Prob (F-statistic):           2.07e-53\n",
       "Time:                        11:18:56   Log-Likelihood:                -5024.2\n",
       "No. Observations:                7372   AIC:                         1.006e+04\n",
       "Df Residuals:                    7368   BIC:                         1.008e+04\n",
       "Df Model:                           3                                         \n",
       "Covariance Type:            nonrobust                                         \n",
       "==============================================================================\n",
       "                 coef    std err          t      P>|t|      [0.025      0.975]\n",
       "------------------------------------------------------------------------------\n",
       "const        343.9315     29.392     11.702      0.000     286.315     401.548\n",
       "Acid_test     -0.0023      0.000     -7.651      0.000      -0.003      -0.002\n",
       "DER          343.7727     29.367     11.706      0.000     286.205     401.340\n",
       "EM          -343.6231     29.379    -11.696      0.000    -401.214    -286.032\n",
       "==============================================================================\n",
       "Omnibus:                    31727.097   Durbin-Watson:                   2.018\n",
       "Prob(Omnibus):                  0.000   Jarque-Bera (JB):             1127.493\n",
       "Skew:                           0.423   Prob(JB):                    1.47e-245\n",
       "Kurtosis:                       1.281   Cond. No.                     2.71e+05\n",
       "==============================================================================\n",
       "\n",
       "Notes:\n",
       "[1] Standard Errors assume that the covariance matrix of the errors is correctly specified.\n",
       "[2] The condition number is large, 2.71e+05. This might indicate that there are\n",
       "strong multicollinearity or other numerical problems.\n",
       "\"\"\""
      ]
     },
     "execution_count": 9,
     "metadata": {},
     "output_type": "execute_result"
    }
   ],
   "source": [
    "valuation_models.OLS_Regression()\n",
    "valuation_models.OLS_Regression"
   ]
  },
  {
   "cell_type": "markdown",
   "id": "c06bb5ac",
   "metadata": {},
   "source": [
    "## LDA, identificar variables significativas (en construcción)"
   ]
  },
  {
   "cell_type": "markdown",
   "id": "d34f79c0",
   "metadata": {},
   "source": [
    "## Modelaje "
   ]
  },
  {
   "cell_type": "code",
   "execution_count": 10,
   "id": "6eead120",
   "metadata": {},
   "outputs": [],
   "source": [
    "valuation_models.transformations()"
   ]
  },
  {
   "cell_type": "markdown",
   "id": "7ddbe204",
   "metadata": {},
   "source": [
    "### Estandarizado, cada modelo individual"
   ]
  },
  {
   "cell_type": "code",
   "execution_count": 11,
   "id": "b3e701c4",
   "metadata": {},
   "outputs": [
    {
     "name": "stdout",
     "output_type": "stream",
     "text": [
      "-- Gradient Boosting Classifier --\n",
      "Accuracy (train): 75.6%\n",
      "Accuracy (test): 73.49%\n",
      "-- HGBC --\n",
      "Accuracy (train): 75.58%\n",
      "Accuracy (test): 73.42%\n",
      "-- Random Forest Classifier --\n",
      "Accuracy (train): 77.68%\n",
      "Accuracy (test): 72.68%\n",
      "-- XGBoost --\n",
      "Accuracy (train): 75.94%\n",
      "Accuracy (test): 72.47%\n",
      "-- Decision Tree Classifier --\n",
      "Accuracy (train): 77.68%\n",
      "Accuracy (test): 72.27%\n",
      "-- K-Nearest Neighbors (uniformly weighted) --\n",
      "Accuracy (train): 75.14%\n",
      "Accuracy (test): 72.0%\n",
      "-- K-Nearest Neighbors (weighted by distance) --\n",
      "Accuracy (train): 77.26%\n",
      "Accuracy (test): 71.66%\n",
      "-- Support Vector Classifier --\n",
      "Accuracy (train): 65.32%\n",
      "Accuracy (test): 65.15%\n",
      "-- Multilayer Perceptron --\n",
      "Accuracy (train): 61.35%\n",
      "Accuracy (test): 62.37%\n",
      "-- Stochastic Gradient Descent --\n",
      "Accuracy (train): 61.35%\n",
      "Accuracy (test): 62.37%\n",
      "-- Logistic Regression --\n",
      "Accuracy (train): 61.35%\n",
      "Accuracy (test): 62.37%\n",
      "-- Ridge Classifier CV --\n",
      "Accuracy (train): 61.35%\n",
      "Accuracy (test): 62.37%\n",
      "-- Linear Discriminant Analysis --\n",
      "Accuracy (train): 61.35%\n",
      "Accuracy (test): 62.37%\n",
      "-- Categorical Naive-Bayes --\n",
      "Accuracy (train): 61.52%\n",
      "Accuracy (test): 61.56%\n"
     ]
    }
   ],
   "source": [
    "valuation_models.transformed_models_individual()"
   ]
  },
  {
   "cell_type": "markdown",
   "id": "57d1fd71",
   "metadata": {},
   "source": [
    "### Sin estandarización, cada modelo individual"
   ]
  },
  {
   "cell_type": "code",
   "execution_count": 12,
   "id": "0e9e2695",
   "metadata": {},
   "outputs": [
    {
     "name": "stdout",
     "output_type": "stream",
     "text": [
      "Modelo: Gradient Boosting Classifier\n",
      "Accuracy en Train: 0.7560\n",
      "Accuracy en Test: 0.7349\n",
      "----------------------------------------\n",
      "Modelo: HGBC\n",
      "Accuracy en Train: 0.7560\n",
      "Accuracy en Test: 0.7349\n",
      "----------------------------------------\n",
      "Modelo: Random Forest Classifier\n",
      "Accuracy en Train: 0.7768\n",
      "Accuracy en Test: 0.7268\n",
      "----------------------------------------\n",
      "Modelo: XGBoost\n",
      "Accuracy en Train: 0.7594\n",
      "Accuracy en Test: 0.7247\n",
      "----------------------------------------\n",
      "Modelo: Decision Tree Classifier\n",
      "Accuracy en Train: 0.7768\n",
      "Accuracy en Test: 0.7227\n",
      "----------------------------------------\n",
      "Modelo: K-Nearest Neighbors (uniformly weighted)\n",
      "Accuracy en Train: 0.7509\n",
      "Accuracy en Test: 0.7180\n",
      "----------------------------------------\n",
      "Modelo: K-Nearest Neighbors (weighted by distance)\n",
      "Accuracy en Train: 0.7775\n",
      "Accuracy en Test: 0.7146\n",
      "----------------------------------------\n",
      "Modelo: Multilayer Perceptron\n",
      "Accuracy en Train: 0.6892\n",
      "Accuracy en Test: 0.6895\n",
      "----------------------------------------\n",
      "Modelo: Logistic Regression\n",
      "Accuracy en Train: 0.6135\n",
      "Accuracy en Test: 0.6237\n",
      "----------------------------------------\n",
      "Modelo: Ridge Classifier CV\n",
      "Accuracy en Train: 0.6135\n",
      "Accuracy en Test: 0.6237\n",
      "----------------------------------------\n",
      "Modelo: Linear Discriminant Analysis\n",
      "Accuracy en Train: 0.6135\n",
      "Accuracy en Test: 0.6237\n",
      "----------------------------------------\n",
      "Modelo: Support Vector Classifier\n",
      "Accuracy en Train: 0.6135\n",
      "Accuracy en Test: 0.6237\n",
      "----------------------------------------\n",
      "Modelo: Stochastic Gradient Descent\n",
      "Accuracy en Train: 0.5491\n",
      "Accuracy en Test: 0.5512\n",
      "----------------------------------------\n"
     ]
    }
   ],
   "source": [
    "valuation_models.models_individual()"
   ]
  },
  {
   "cell_type": "markdown",
   "id": "8efc4c25",
   "metadata": {},
   "source": [
    "### Stacking"
   ]
  },
  {
   "cell_type": "code",
   "execution_count": 13,
   "id": "2ffc13bb",
   "metadata": {},
   "outputs": [
    {
     "name": "stderr",
     "output_type": "stream",
     "text": [
      "/Users/danielorozco/anaconda3/lib/python3.11/site-packages/sklearn/linear_model/_logistic.py:460: ConvergenceWarning: lbfgs failed to converge (status=1):\n",
      "STOP: TOTAL NO. of ITERATIONS REACHED LIMIT.\n",
      "\n",
      "Increase the number of iterations (max_iter) or scale the data as shown in:\n",
      "    https://scikit-learn.org/stable/modules/preprocessing.html\n",
      "Please also refer to the documentation for alternative solver options:\n",
      "    https://scikit-learn.org/stable/modules/linear_model.html#logistic-regression\n",
      "  n_iter_i = _check_optimize_result(\n"
     ]
    },
    {
     "name": "stdout",
     "output_type": "stream",
     "text": [
      "Accuracy (train): 75.55%\n",
      "Accuracy (test): 73.29%\n"
     ]
    },
    {
     "data": {
      "text/html": [
       "<style>#sk-container-id-1 {color: black;}#sk-container-id-1 pre{padding: 0;}#sk-container-id-1 div.sk-toggleable {background-color: white;}#sk-container-id-1 label.sk-toggleable__label {cursor: pointer;display: block;width: 100%;margin-bottom: 0;padding: 0.3em;box-sizing: border-box;text-align: center;}#sk-container-id-1 label.sk-toggleable__label-arrow:before {content: \"▸\";float: left;margin-right: 0.25em;color: #696969;}#sk-container-id-1 label.sk-toggleable__label-arrow:hover:before {color: black;}#sk-container-id-1 div.sk-estimator:hover label.sk-toggleable__label-arrow:before {color: black;}#sk-container-id-1 div.sk-toggleable__content {max-height: 0;max-width: 0;overflow: hidden;text-align: left;background-color: #f0f8ff;}#sk-container-id-1 div.sk-toggleable__content pre {margin: 0.2em;color: black;border-radius: 0.25em;background-color: #f0f8ff;}#sk-container-id-1 input.sk-toggleable__control:checked~div.sk-toggleable__content {max-height: 200px;max-width: 100%;overflow: auto;}#sk-container-id-1 input.sk-toggleable__control:checked~label.sk-toggleable__label-arrow:before {content: \"▾\";}#sk-container-id-1 div.sk-estimator input.sk-toggleable__control:checked~label.sk-toggleable__label {background-color: #d4ebff;}#sk-container-id-1 div.sk-label input.sk-toggleable__control:checked~label.sk-toggleable__label {background-color: #d4ebff;}#sk-container-id-1 input.sk-hidden--visually {border: 0;clip: rect(1px 1px 1px 1px);clip: rect(1px, 1px, 1px, 1px);height: 1px;margin: -1px;overflow: hidden;padding: 0;position: absolute;width: 1px;}#sk-container-id-1 div.sk-estimator {font-family: monospace;background-color: #f0f8ff;border: 1px dotted black;border-radius: 0.25em;box-sizing: border-box;margin-bottom: 0.5em;}#sk-container-id-1 div.sk-estimator:hover {background-color: #d4ebff;}#sk-container-id-1 div.sk-parallel-item::after {content: \"\";width: 100%;border-bottom: 1px solid gray;flex-grow: 1;}#sk-container-id-1 div.sk-label:hover label.sk-toggleable__label {background-color: #d4ebff;}#sk-container-id-1 div.sk-serial::before {content: \"\";position: absolute;border-left: 1px solid gray;box-sizing: border-box;top: 0;bottom: 0;left: 50%;z-index: 0;}#sk-container-id-1 div.sk-serial {display: flex;flex-direction: column;align-items: center;background-color: white;padding-right: 0.2em;padding-left: 0.2em;position: relative;}#sk-container-id-1 div.sk-item {position: relative;z-index: 1;}#sk-container-id-1 div.sk-parallel {display: flex;align-items: stretch;justify-content: center;background-color: white;position: relative;}#sk-container-id-1 div.sk-item::before, #sk-container-id-1 div.sk-parallel-item::before {content: \"\";position: absolute;border-left: 1px solid gray;box-sizing: border-box;top: 0;bottom: 0;left: 50%;z-index: -1;}#sk-container-id-1 div.sk-parallel-item {display: flex;flex-direction: column;z-index: 1;position: relative;background-color: white;}#sk-container-id-1 div.sk-parallel-item:first-child::after {align-self: flex-end;width: 50%;}#sk-container-id-1 div.sk-parallel-item:last-child::after {align-self: flex-start;width: 50%;}#sk-container-id-1 div.sk-parallel-item:only-child::after {width: 0;}#sk-container-id-1 div.sk-dashed-wrapped {border: 1px dashed gray;margin: 0 0.4em 0.5em 0.4em;box-sizing: border-box;padding-bottom: 0.4em;background-color: white;}#sk-container-id-1 div.sk-label label {font-family: monospace;font-weight: bold;display: inline-block;line-height: 1.2em;}#sk-container-id-1 div.sk-label-container {text-align: center;}#sk-container-id-1 div.sk-container {/* jupyter's `normalize.less` sets `[hidden] { display: none; }` but bootstrap.min.css set `[hidden] { display: none !important; }` so we also need the `!important` here to be able to override the default hidden behavior on the sphinx rendered scikit-learn.org. See: https://github.com/scikit-learn/scikit-learn/issues/21755 */display: inline-block !important;position: relative;}#sk-container-id-1 div.sk-text-repr-fallback {display: none;}</style><div id=\"sk-container-id-1\" class=\"sk-top-container\"><div class=\"sk-text-repr-fallback\"><pre>StackingClassifier(estimators=[(&#x27;MLP&#x27;,\n",
       "                                MLPClassifier(activation=&#x27;logistic&#x27;,\n",
       "                                              max_iter=1000, random_state=0)),\n",
       "                               (&#x27;SGD&#x27;, SGDClassifier()),\n",
       "                               (&#x27;KNC_u&#x27;, KNeighborsClassifier()),\n",
       "                               (&#x27;KNC_d&#x27;,\n",
       "                                KNeighborsClassifier(weights=&#x27;distance&#x27;)),\n",
       "                               (&#x27;CNB&#x27;, CategoricalNB()),\n",
       "                               (&#x27;DTC&#x27;, DecisionTreeClassifier(random_state=0)),\n",
       "                               (&#x27;RFC&#x27;, RandomForestClassifier(random_state=0)),\n",
       "                               (&#x27;LR&#x27;,\n",
       "                                LogisticRegression(max_iter=10000,\n",
       "                                                   random_state=0)),\n",
       "                               (&#x27;RC&#x27;, RidgeClassifierCV()),\n",
       "                               (&#x27;LDA&#x27;, LinearDiscriminantAnalysis()),\n",
       "                               (&#x27;GBC&#x27;, GradientBoostingClassifier()),\n",
       "                               (&#x27;SV&#x27;, SVC()),\n",
       "                               (&#x27;HGBC&#x27;, HistGradientBoostingClassifier())])</pre><b>In a Jupyter environment, please rerun this cell to show the HTML representation or trust the notebook. <br />On GitHub, the HTML representation is unable to render, please try loading this page with nbviewer.org.</b></div><div class=\"sk-container\" hidden><div class=\"sk-item sk-dashed-wrapped\"><div class=\"sk-label-container\"><div class=\"sk-label sk-toggleable\"><input class=\"sk-toggleable__control sk-hidden--visually\" id=\"sk-estimator-id-1\" type=\"checkbox\" ><label for=\"sk-estimator-id-1\" class=\"sk-toggleable__label sk-toggleable__label-arrow\">StackingClassifier</label><div class=\"sk-toggleable__content\"><pre>StackingClassifier(estimators=[(&#x27;MLP&#x27;,\n",
       "                                MLPClassifier(activation=&#x27;logistic&#x27;,\n",
       "                                              max_iter=1000, random_state=0)),\n",
       "                               (&#x27;SGD&#x27;, SGDClassifier()),\n",
       "                               (&#x27;KNC_u&#x27;, KNeighborsClassifier()),\n",
       "                               (&#x27;KNC_d&#x27;,\n",
       "                                KNeighborsClassifier(weights=&#x27;distance&#x27;)),\n",
       "                               (&#x27;CNB&#x27;, CategoricalNB()),\n",
       "                               (&#x27;DTC&#x27;, DecisionTreeClassifier(random_state=0)),\n",
       "                               (&#x27;RFC&#x27;, RandomForestClassifier(random_state=0)),\n",
       "                               (&#x27;LR&#x27;,\n",
       "                                LogisticRegression(max_iter=10000,\n",
       "                                                   random_state=0)),\n",
       "                               (&#x27;RC&#x27;, RidgeClassifierCV()),\n",
       "                               (&#x27;LDA&#x27;, LinearDiscriminantAnalysis()),\n",
       "                               (&#x27;GBC&#x27;, GradientBoostingClassifier()),\n",
       "                               (&#x27;SV&#x27;, SVC()),\n",
       "                               (&#x27;HGBC&#x27;, HistGradientBoostingClassifier())])</pre></div></div></div><div class=\"sk-serial\"><div class=\"sk-item\"><div class=\"sk-parallel\"><div class=\"sk-parallel-item\"><div class=\"sk-item\"><div class=\"sk-label-container\"><div class=\"sk-label sk-toggleable\"><label>MLP</label></div></div><div class=\"sk-serial\"><div class=\"sk-item\"><div class=\"sk-estimator sk-toggleable\"><input class=\"sk-toggleable__control sk-hidden--visually\" id=\"sk-estimator-id-2\" type=\"checkbox\" ><label for=\"sk-estimator-id-2\" class=\"sk-toggleable__label sk-toggleable__label-arrow\">MLPClassifier</label><div class=\"sk-toggleable__content\"><pre>MLPClassifier(activation=&#x27;logistic&#x27;, max_iter=1000, random_state=0)</pre></div></div></div></div></div></div><div class=\"sk-parallel-item\"><div class=\"sk-item\"><div class=\"sk-label-container\"><div class=\"sk-label sk-toggleable\"><label>SGD</label></div></div><div class=\"sk-serial\"><div class=\"sk-item\"><div class=\"sk-estimator sk-toggleable\"><input class=\"sk-toggleable__control sk-hidden--visually\" id=\"sk-estimator-id-3\" type=\"checkbox\" ><label for=\"sk-estimator-id-3\" class=\"sk-toggleable__label sk-toggleable__label-arrow\">SGDClassifier</label><div class=\"sk-toggleable__content\"><pre>SGDClassifier()</pre></div></div></div></div></div></div><div class=\"sk-parallel-item\"><div class=\"sk-item\"><div class=\"sk-label-container\"><div class=\"sk-label sk-toggleable\"><label>KNC_u</label></div></div><div class=\"sk-serial\"><div class=\"sk-item\"><div class=\"sk-estimator sk-toggleable\"><input class=\"sk-toggleable__control sk-hidden--visually\" id=\"sk-estimator-id-4\" type=\"checkbox\" ><label for=\"sk-estimator-id-4\" class=\"sk-toggleable__label sk-toggleable__label-arrow\">KNeighborsClassifier</label><div class=\"sk-toggleable__content\"><pre>KNeighborsClassifier()</pre></div></div></div></div></div></div><div class=\"sk-parallel-item\"><div class=\"sk-item\"><div class=\"sk-label-container\"><div class=\"sk-label sk-toggleable\"><label>KNC_d</label></div></div><div class=\"sk-serial\"><div class=\"sk-item\"><div class=\"sk-estimator sk-toggleable\"><input class=\"sk-toggleable__control sk-hidden--visually\" id=\"sk-estimator-id-5\" type=\"checkbox\" ><label for=\"sk-estimator-id-5\" class=\"sk-toggleable__label sk-toggleable__label-arrow\">KNeighborsClassifier</label><div class=\"sk-toggleable__content\"><pre>KNeighborsClassifier(weights=&#x27;distance&#x27;)</pre></div></div></div></div></div></div><div class=\"sk-parallel-item\"><div class=\"sk-item\"><div class=\"sk-label-container\"><div class=\"sk-label sk-toggleable\"><label>CNB</label></div></div><div class=\"sk-serial\"><div class=\"sk-item\"><div class=\"sk-estimator sk-toggleable\"><input class=\"sk-toggleable__control sk-hidden--visually\" id=\"sk-estimator-id-6\" type=\"checkbox\" ><label for=\"sk-estimator-id-6\" class=\"sk-toggleable__label sk-toggleable__label-arrow\">CategoricalNB</label><div class=\"sk-toggleable__content\"><pre>CategoricalNB()</pre></div></div></div></div></div></div><div class=\"sk-parallel-item\"><div class=\"sk-item\"><div class=\"sk-label-container\"><div class=\"sk-label sk-toggleable\"><label>DTC</label></div></div><div class=\"sk-serial\"><div class=\"sk-item\"><div class=\"sk-estimator sk-toggleable\"><input class=\"sk-toggleable__control sk-hidden--visually\" id=\"sk-estimator-id-7\" type=\"checkbox\" ><label for=\"sk-estimator-id-7\" class=\"sk-toggleable__label sk-toggleable__label-arrow\">DecisionTreeClassifier</label><div class=\"sk-toggleable__content\"><pre>DecisionTreeClassifier(random_state=0)</pre></div></div></div></div></div></div><div class=\"sk-parallel-item\"><div class=\"sk-item\"><div class=\"sk-label-container\"><div class=\"sk-label sk-toggleable\"><label>RFC</label></div></div><div class=\"sk-serial\"><div class=\"sk-item\"><div class=\"sk-estimator sk-toggleable\"><input class=\"sk-toggleable__control sk-hidden--visually\" id=\"sk-estimator-id-8\" type=\"checkbox\" ><label for=\"sk-estimator-id-8\" class=\"sk-toggleable__label sk-toggleable__label-arrow\">RandomForestClassifier</label><div class=\"sk-toggleable__content\"><pre>RandomForestClassifier(random_state=0)</pre></div></div></div></div></div></div><div class=\"sk-parallel-item\"><div class=\"sk-item\"><div class=\"sk-label-container\"><div class=\"sk-label sk-toggleable\"><label>LR</label></div></div><div class=\"sk-serial\"><div class=\"sk-item\"><div class=\"sk-estimator sk-toggleable\"><input class=\"sk-toggleable__control sk-hidden--visually\" id=\"sk-estimator-id-9\" type=\"checkbox\" ><label for=\"sk-estimator-id-9\" class=\"sk-toggleable__label sk-toggleable__label-arrow\">LogisticRegression</label><div class=\"sk-toggleable__content\"><pre>LogisticRegression(max_iter=10000, random_state=0)</pre></div></div></div></div></div></div><div class=\"sk-parallel-item\"><div class=\"sk-item\"><div class=\"sk-label-container\"><div class=\"sk-label sk-toggleable\"><label>RC</label></div></div><div class=\"sk-serial\"><div class=\"sk-item\"><div class=\"sk-estimator sk-toggleable\"><input class=\"sk-toggleable__control sk-hidden--visually\" id=\"sk-estimator-id-10\" type=\"checkbox\" ><label for=\"sk-estimator-id-10\" class=\"sk-toggleable__label sk-toggleable__label-arrow\">RidgeClassifierCV</label><div class=\"sk-toggleable__content\"><pre>RidgeClassifierCV()</pre></div></div></div></div></div></div><div class=\"sk-parallel-item\"><div class=\"sk-item\"><div class=\"sk-label-container\"><div class=\"sk-label sk-toggleable\"><label>LDA</label></div></div><div class=\"sk-serial\"><div class=\"sk-item\"><div class=\"sk-estimator sk-toggleable\"><input class=\"sk-toggleable__control sk-hidden--visually\" id=\"sk-estimator-id-11\" type=\"checkbox\" ><label for=\"sk-estimator-id-11\" class=\"sk-toggleable__label sk-toggleable__label-arrow\">LinearDiscriminantAnalysis</label><div class=\"sk-toggleable__content\"><pre>LinearDiscriminantAnalysis()</pre></div></div></div></div></div></div><div class=\"sk-parallel-item\"><div class=\"sk-item\"><div class=\"sk-label-container\"><div class=\"sk-label sk-toggleable\"><label>GBC</label></div></div><div class=\"sk-serial\"><div class=\"sk-item\"><div class=\"sk-estimator sk-toggleable\"><input class=\"sk-toggleable__control sk-hidden--visually\" id=\"sk-estimator-id-12\" type=\"checkbox\" ><label for=\"sk-estimator-id-12\" class=\"sk-toggleable__label sk-toggleable__label-arrow\">GradientBoostingClassifier</label><div class=\"sk-toggleable__content\"><pre>GradientBoostingClassifier()</pre></div></div></div></div></div></div><div class=\"sk-parallel-item\"><div class=\"sk-item\"><div class=\"sk-label-container\"><div class=\"sk-label sk-toggleable\"><label>SV</label></div></div><div class=\"sk-serial\"><div class=\"sk-item\"><div class=\"sk-estimator sk-toggleable\"><input class=\"sk-toggleable__control sk-hidden--visually\" id=\"sk-estimator-id-13\" type=\"checkbox\" ><label for=\"sk-estimator-id-13\" class=\"sk-toggleable__label sk-toggleable__label-arrow\">SVC</label><div class=\"sk-toggleable__content\"><pre>SVC()</pre></div></div></div></div></div></div><div class=\"sk-parallel-item\"><div class=\"sk-item\"><div class=\"sk-label-container\"><div class=\"sk-label sk-toggleable\"><label>HGBC</label></div></div><div class=\"sk-serial\"><div class=\"sk-item\"><div class=\"sk-estimator sk-toggleable\"><input class=\"sk-toggleable__control sk-hidden--visually\" id=\"sk-estimator-id-14\" type=\"checkbox\" ><label for=\"sk-estimator-id-14\" class=\"sk-toggleable__label sk-toggleable__label-arrow\">HistGradientBoostingClassifier</label><div class=\"sk-toggleable__content\"><pre>HistGradientBoostingClassifier()</pre></div></div></div></div></div></div></div></div><div class=\"sk-item\"><div class=\"sk-parallel\"><div class=\"sk-parallel-item\"><div class=\"sk-item\"><div class=\"sk-label-container\"><div class=\"sk-label sk-toggleable\"><label>final_estimator</label></div></div><div class=\"sk-serial\"><div class=\"sk-item\"><div class=\"sk-estimator sk-toggleable\"><input class=\"sk-toggleable__control sk-hidden--visually\" id=\"sk-estimator-id-15\" type=\"checkbox\" ><label for=\"sk-estimator-id-15\" class=\"sk-toggleable__label sk-toggleable__label-arrow\">LogisticRegression</label><div class=\"sk-toggleable__content\"><pre>LogisticRegression()</pre></div></div></div></div></div></div></div></div></div></div></div></div>"
      ],
      "text/plain": [
       "StackingClassifier(estimators=[('MLP',\n",
       "                                MLPClassifier(activation='logistic',\n",
       "                                              max_iter=1000, random_state=0)),\n",
       "                               ('SGD', SGDClassifier()),\n",
       "                               ('KNC_u', KNeighborsClassifier()),\n",
       "                               ('KNC_d',\n",
       "                                KNeighborsClassifier(weights='distance')),\n",
       "                               ('CNB', CategoricalNB()),\n",
       "                               ('DTC', DecisionTreeClassifier(random_state=0)),\n",
       "                               ('RFC', RandomForestClassifier(random_state=0)),\n",
       "                               ('LR',\n",
       "                                LogisticRegression(max_iter=10000,\n",
       "                                                   random_state=0)),\n",
       "                               ('RC', RidgeClassifierCV()),\n",
       "                               ('LDA', LinearDiscriminantAnalysis()),\n",
       "                               ('GBC', GradientBoostingClassifier()),\n",
       "                               ('SV', SVC()),\n",
       "                               ('HGBC', HistGradientBoostingClassifier())])"
      ]
     },
     "execution_count": 13,
     "metadata": {},
     "output_type": "execute_result"
    }
   ],
   "source": [
    "valuation_models.Stacking_automatic()\n",
    "valuation_models.Stacking_automatic"
   ]
  },
  {
   "cell_type": "code",
   "execution_count": 14,
   "id": "2d35409b",
   "metadata": {},
   "outputs": [
    {
     "name": "stdout",
     "output_type": "stream",
     "text": [
      "Accuracy en datos de entrenamiento: 0.7776835679158894\n",
      "Accuracy en datos de prueba: 0.7186440677966102\n"
     ]
    },
    {
     "data": {
      "text/html": [
       "<style>#sk-container-id-2 {color: black;}#sk-container-id-2 pre{padding: 0;}#sk-container-id-2 div.sk-toggleable {background-color: white;}#sk-container-id-2 label.sk-toggleable__label {cursor: pointer;display: block;width: 100%;margin-bottom: 0;padding: 0.3em;box-sizing: border-box;text-align: center;}#sk-container-id-2 label.sk-toggleable__label-arrow:before {content: \"▸\";float: left;margin-right: 0.25em;color: #696969;}#sk-container-id-2 label.sk-toggleable__label-arrow:hover:before {color: black;}#sk-container-id-2 div.sk-estimator:hover label.sk-toggleable__label-arrow:before {color: black;}#sk-container-id-2 div.sk-toggleable__content {max-height: 0;max-width: 0;overflow: hidden;text-align: left;background-color: #f0f8ff;}#sk-container-id-2 div.sk-toggleable__content pre {margin: 0.2em;color: black;border-radius: 0.25em;background-color: #f0f8ff;}#sk-container-id-2 input.sk-toggleable__control:checked~div.sk-toggleable__content {max-height: 200px;max-width: 100%;overflow: auto;}#sk-container-id-2 input.sk-toggleable__control:checked~label.sk-toggleable__label-arrow:before {content: \"▾\";}#sk-container-id-2 div.sk-estimator input.sk-toggleable__control:checked~label.sk-toggleable__label {background-color: #d4ebff;}#sk-container-id-2 div.sk-label input.sk-toggleable__control:checked~label.sk-toggleable__label {background-color: #d4ebff;}#sk-container-id-2 input.sk-hidden--visually {border: 0;clip: rect(1px 1px 1px 1px);clip: rect(1px, 1px, 1px, 1px);height: 1px;margin: -1px;overflow: hidden;padding: 0;position: absolute;width: 1px;}#sk-container-id-2 div.sk-estimator {font-family: monospace;background-color: #f0f8ff;border: 1px dotted black;border-radius: 0.25em;box-sizing: border-box;margin-bottom: 0.5em;}#sk-container-id-2 div.sk-estimator:hover {background-color: #d4ebff;}#sk-container-id-2 div.sk-parallel-item::after {content: \"\";width: 100%;border-bottom: 1px solid gray;flex-grow: 1;}#sk-container-id-2 div.sk-label:hover label.sk-toggleable__label {background-color: #d4ebff;}#sk-container-id-2 div.sk-serial::before {content: \"\";position: absolute;border-left: 1px solid gray;box-sizing: border-box;top: 0;bottom: 0;left: 50%;z-index: 0;}#sk-container-id-2 div.sk-serial {display: flex;flex-direction: column;align-items: center;background-color: white;padding-right: 0.2em;padding-left: 0.2em;position: relative;}#sk-container-id-2 div.sk-item {position: relative;z-index: 1;}#sk-container-id-2 div.sk-parallel {display: flex;align-items: stretch;justify-content: center;background-color: white;position: relative;}#sk-container-id-2 div.sk-item::before, #sk-container-id-2 div.sk-parallel-item::before {content: \"\";position: absolute;border-left: 1px solid gray;box-sizing: border-box;top: 0;bottom: 0;left: 50%;z-index: -1;}#sk-container-id-2 div.sk-parallel-item {display: flex;flex-direction: column;z-index: 1;position: relative;background-color: white;}#sk-container-id-2 div.sk-parallel-item:first-child::after {align-self: flex-end;width: 50%;}#sk-container-id-2 div.sk-parallel-item:last-child::after {align-self: flex-start;width: 50%;}#sk-container-id-2 div.sk-parallel-item:only-child::after {width: 0;}#sk-container-id-2 div.sk-dashed-wrapped {border: 1px dashed gray;margin: 0 0.4em 0.5em 0.4em;box-sizing: border-box;padding-bottom: 0.4em;background-color: white;}#sk-container-id-2 div.sk-label label {font-family: monospace;font-weight: bold;display: inline-block;line-height: 1.2em;}#sk-container-id-2 div.sk-label-container {text-align: center;}#sk-container-id-2 div.sk-container {/* jupyter's `normalize.less` sets `[hidden] { display: none; }` but bootstrap.min.css set `[hidden] { display: none !important; }` so we also need the `!important` here to be able to override the default hidden behavior on the sphinx rendered scikit-learn.org. See: https://github.com/scikit-learn/scikit-learn/issues/21755 */display: inline-block !important;position: relative;}#sk-container-id-2 div.sk-text-repr-fallback {display: none;}</style><div id=\"sk-container-id-2\" class=\"sk-top-container\"><div class=\"sk-text-repr-fallback\"><pre>LogisticRegression(max_iter=1000, random_state=0)</pre><b>In a Jupyter environment, please rerun this cell to show the HTML representation or trust the notebook. <br />On GitHub, the HTML representation is unable to render, please try loading this page with nbviewer.org.</b></div><div class=\"sk-container\" hidden><div class=\"sk-item\"><div class=\"sk-estimator sk-toggleable\"><input class=\"sk-toggleable__control sk-hidden--visually\" id=\"sk-estimator-id-16\" type=\"checkbox\" checked><label for=\"sk-estimator-id-16\" class=\"sk-toggleable__label sk-toggleable__label-arrow\">LogisticRegression</label><div class=\"sk-toggleable__content\"><pre>LogisticRegression(max_iter=1000, random_state=0)</pre></div></div></div></div></div>"
      ],
      "text/plain": [
       "LogisticRegression(max_iter=1000, random_state=0)"
      ]
     },
     "execution_count": 14,
     "metadata": {},
     "output_type": "execute_result"
    }
   ],
   "source": [
    "valuation_models.Stacking_manual()\n",
    "valuation_models.Stacking_manual"
   ]
  },
  {
   "cell_type": "markdown",
   "id": "e96beac0",
   "metadata": {},
   "source": [
    "### Con todas las variables, sin estandarizar variables"
   ]
  },
  {
   "cell_type": "code",
   "execution_count": 15,
   "id": "69c200c2",
   "metadata": {},
   "outputs": [
    {
     "name": "stdout",
     "output_type": "stream",
     "text": [
      "Modelo: Gradient Boosting Classifier\n",
      "Accuracy en Train: 0.7763\n",
      "Accuracy en Test: 0.7390\n",
      "----------------------------------------\n",
      "Modelo: HGBC\n",
      "Accuracy en Train: 0.8567\n",
      "Accuracy en Test: 0.7356\n",
      "----------------------------------------\n",
      "Modelo: Random Forest Classifier\n",
      "Accuracy en Train: 1.0000\n",
      "Accuracy en Test: 0.7254\n",
      "----------------------------------------\n",
      "Modelo: XGBoost\n",
      "Accuracy en Train: 0.9573\n",
      "Accuracy en Test: 0.7092\n",
      "----------------------------------------\n",
      "Modelo: Decision Tree Classifier\n",
      "Accuracy en Train: 1.0000\n",
      "Accuracy en Test: 0.6508\n",
      "----------------------------------------\n",
      "Modelo: Multilayer Perceptron\n",
      "Accuracy en Train: 0.6152\n",
      "Accuracy en Test: 0.6264\n",
      "----------------------------------------\n",
      "Modelo: Logistic Regression\n",
      "Accuracy en Train: 0.6130\n",
      "Accuracy en Test: 0.6244\n",
      "----------------------------------------\n",
      "Modelo: Support Vector Classifier\n",
      "Accuracy en Train: 0.6137\n",
      "Accuracy en Test: 0.6244\n",
      "----------------------------------------\n",
      "Modelo: Linear Discriminant Analysis\n",
      "Accuracy en Train: 0.6134\n",
      "Accuracy en Test: 0.6237\n",
      "----------------------------------------\n",
      "Modelo: Ridge Classifier CV\n",
      "Accuracy en Train: 0.6137\n",
      "Accuracy en Test: 0.6224\n",
      "----------------------------------------\n",
      "Modelo: Stochastic Gradient Descent\n",
      "Accuracy en Train: 0.5973\n",
      "Accuracy en Test: 0.6115\n",
      "----------------------------------------\n",
      "Modelo: K-Nearest Neighbors (weighted by distance)\n",
      "Accuracy en Train: 1.0000\n",
      "Accuracy en Test: 0.5708\n",
      "----------------------------------------\n",
      "Modelo: K-Nearest Neighbors (uniformly weighted)\n",
      "Accuracy en Train: 0.7160\n",
      "Accuracy en Test: 0.5702\n",
      "----------------------------------------\n"
     ]
    }
   ],
   "source": [
    "valuation_models.load_all(stock.clean)\n",
    "valuation_models.All_Variables_Models()"
   ]
  },
  {
   "cell_type": "markdown",
   "id": "af5e2d28",
   "metadata": {},
   "source": [
    "## Bagging con GBC (default, todas las variables, sin estandarizar)"
   ]
  },
  {
   "cell_type": "code",
   "execution_count": 16,
   "id": "ed733f60",
   "metadata": {},
   "outputs": [
    {
     "name": "stdout",
     "output_type": "stream",
     "text": [
      "Bagging with all the variables\n",
      "              precision    recall  f1-score   support\n",
      "\n",
      "           0       0.75      0.90      0.82       920\n",
      "           1       0.75      0.49      0.59       555\n",
      "\n",
      "    accuracy                           0.75      1475\n",
      "   macro avg       0.75      0.70      0.70      1475\n",
      "weighted avg       0.75      0.75      0.73      1475\n",
      "\n"
     ]
    },
    {
     "data": {
      "text/html": [
       "<style>#sk-container-id-3 {color: black;}#sk-container-id-3 pre{padding: 0;}#sk-container-id-3 div.sk-toggleable {background-color: white;}#sk-container-id-3 label.sk-toggleable__label {cursor: pointer;display: block;width: 100%;margin-bottom: 0;padding: 0.3em;box-sizing: border-box;text-align: center;}#sk-container-id-3 label.sk-toggleable__label-arrow:before {content: \"▸\";float: left;margin-right: 0.25em;color: #696969;}#sk-container-id-3 label.sk-toggleable__label-arrow:hover:before {color: black;}#sk-container-id-3 div.sk-estimator:hover label.sk-toggleable__label-arrow:before {color: black;}#sk-container-id-3 div.sk-toggleable__content {max-height: 0;max-width: 0;overflow: hidden;text-align: left;background-color: #f0f8ff;}#sk-container-id-3 div.sk-toggleable__content pre {margin: 0.2em;color: black;border-radius: 0.25em;background-color: #f0f8ff;}#sk-container-id-3 input.sk-toggleable__control:checked~div.sk-toggleable__content {max-height: 200px;max-width: 100%;overflow: auto;}#sk-container-id-3 input.sk-toggleable__control:checked~label.sk-toggleable__label-arrow:before {content: \"▾\";}#sk-container-id-3 div.sk-estimator input.sk-toggleable__control:checked~label.sk-toggleable__label {background-color: #d4ebff;}#sk-container-id-3 div.sk-label input.sk-toggleable__control:checked~label.sk-toggleable__label {background-color: #d4ebff;}#sk-container-id-3 input.sk-hidden--visually {border: 0;clip: rect(1px 1px 1px 1px);clip: rect(1px, 1px, 1px, 1px);height: 1px;margin: -1px;overflow: hidden;padding: 0;position: absolute;width: 1px;}#sk-container-id-3 div.sk-estimator {font-family: monospace;background-color: #f0f8ff;border: 1px dotted black;border-radius: 0.25em;box-sizing: border-box;margin-bottom: 0.5em;}#sk-container-id-3 div.sk-estimator:hover {background-color: #d4ebff;}#sk-container-id-3 div.sk-parallel-item::after {content: \"\";width: 100%;border-bottom: 1px solid gray;flex-grow: 1;}#sk-container-id-3 div.sk-label:hover label.sk-toggleable__label {background-color: #d4ebff;}#sk-container-id-3 div.sk-serial::before {content: \"\";position: absolute;border-left: 1px solid gray;box-sizing: border-box;top: 0;bottom: 0;left: 50%;z-index: 0;}#sk-container-id-3 div.sk-serial {display: flex;flex-direction: column;align-items: center;background-color: white;padding-right: 0.2em;padding-left: 0.2em;position: relative;}#sk-container-id-3 div.sk-item {position: relative;z-index: 1;}#sk-container-id-3 div.sk-parallel {display: flex;align-items: stretch;justify-content: center;background-color: white;position: relative;}#sk-container-id-3 div.sk-item::before, #sk-container-id-3 div.sk-parallel-item::before {content: \"\";position: absolute;border-left: 1px solid gray;box-sizing: border-box;top: 0;bottom: 0;left: 50%;z-index: -1;}#sk-container-id-3 div.sk-parallel-item {display: flex;flex-direction: column;z-index: 1;position: relative;background-color: white;}#sk-container-id-3 div.sk-parallel-item:first-child::after {align-self: flex-end;width: 50%;}#sk-container-id-3 div.sk-parallel-item:last-child::after {align-self: flex-start;width: 50%;}#sk-container-id-3 div.sk-parallel-item:only-child::after {width: 0;}#sk-container-id-3 div.sk-dashed-wrapped {border: 1px dashed gray;margin: 0 0.4em 0.5em 0.4em;box-sizing: border-box;padding-bottom: 0.4em;background-color: white;}#sk-container-id-3 div.sk-label label {font-family: monospace;font-weight: bold;display: inline-block;line-height: 1.2em;}#sk-container-id-3 div.sk-label-container {text-align: center;}#sk-container-id-3 div.sk-container {/* jupyter's `normalize.less` sets `[hidden] { display: none; }` but bootstrap.min.css set `[hidden] { display: none !important; }` so we also need the `!important` here to be able to override the default hidden behavior on the sphinx rendered scikit-learn.org. See: https://github.com/scikit-learn/scikit-learn/issues/21755 */display: inline-block !important;position: relative;}#sk-container-id-3 div.sk-text-repr-fallback {display: none;}</style><div id=\"sk-container-id-3\" class=\"sk-top-container\"><div class=\"sk-text-repr-fallback\"><pre>BaggingClassifier(estimator=GradientBoostingClassifier())</pre><b>In a Jupyter environment, please rerun this cell to show the HTML representation or trust the notebook. <br />On GitHub, the HTML representation is unable to render, please try loading this page with nbviewer.org.</b></div><div class=\"sk-container\" hidden><div class=\"sk-item sk-dashed-wrapped\"><div class=\"sk-label-container\"><div class=\"sk-label sk-toggleable\"><input class=\"sk-toggleable__control sk-hidden--visually\" id=\"sk-estimator-id-17\" type=\"checkbox\" ><label for=\"sk-estimator-id-17\" class=\"sk-toggleable__label sk-toggleable__label-arrow\">BaggingClassifier</label><div class=\"sk-toggleable__content\"><pre>BaggingClassifier(estimator=GradientBoostingClassifier())</pre></div></div></div><div class=\"sk-parallel\"><div class=\"sk-parallel-item\"><div class=\"sk-item\"><div class=\"sk-label-container\"><div class=\"sk-label sk-toggleable\"><input class=\"sk-toggleable__control sk-hidden--visually\" id=\"sk-estimator-id-18\" type=\"checkbox\" ><label for=\"sk-estimator-id-18\" class=\"sk-toggleable__label sk-toggleable__label-arrow\">estimator: GradientBoostingClassifier</label><div class=\"sk-toggleable__content\"><pre>GradientBoostingClassifier()</pre></div></div></div><div class=\"sk-serial\"><div class=\"sk-item\"><div class=\"sk-estimator sk-toggleable\"><input class=\"sk-toggleable__control sk-hidden--visually\" id=\"sk-estimator-id-19\" type=\"checkbox\" ><label for=\"sk-estimator-id-19\" class=\"sk-toggleable__label sk-toggleable__label-arrow\">GradientBoostingClassifier</label><div class=\"sk-toggleable__content\"><pre>GradientBoostingClassifier()</pre></div></div></div></div></div></div></div></div></div></div>"
      ],
      "text/plain": [
       "BaggingClassifier(estimator=GradientBoostingClassifier())"
      ]
     },
     "execution_count": 16,
     "metadata": {},
     "output_type": "execute_result"
    }
   ],
   "source": [
    "valuation_models.GBC_Bagging(All_Vars = True)\n",
    "valuation_models.GBC_Bagging"
   ]
  },
  {
   "cell_type": "code",
   "execution_count": 17,
   "id": "b2fd165d",
   "metadata": {},
   "outputs": [
    {
     "name": "stdout",
     "output_type": "stream",
     "text": [
      "Confusion Matrix with Training Data\n"
     ]
    },
    {
     "data": {
      "image/png": "[encoded data removed]",
      "text/plain": [
       "<Figure size 640x480 with 2 Axes>"
      ]
     },
     "metadata": {},
     "output_type": "display_data"
    },
    {
     "name": "stdout",
     "output_type": "stream",
     "text": [
      "Classification Report with Training\n",
      "              precision    recall  f1-score   support\n",
      "\n",
      "           0       0.78      0.89      0.83      3618\n",
      "           1       0.77      0.60      0.67      2279\n",
      "\n",
      "    accuracy                           0.78      5897\n",
      "   macro avg       0.78      0.74      0.75      5897\n",
      "weighted avg       0.78      0.78      0.77      5897\n",
      "\n"
     ]
    }
   ],
   "source": [
    "GBC_control = valuation_models.GBC_All\n",
    "valuation_models.ConfusionMatrix(GBC_control, training = True)\n",
    "valuation_models.ClassificationReport(GBC_control, training = True)\n"
   ]
  },
  {
   "cell_type": "code",
   "execution_count": 18,
   "id": "3872bc6b",
   "metadata": {},
   "outputs": [
    {
     "name": "stdout",
     "output_type": "stream",
     "text": [
      "Confusion Matrix with Predicted Values\n"
     ]
    },
    {
     "data": {
      "image/png": "[encoded data removed]",
      "text/plain": [
       "<Figure size 640x480 with 2 Axes>"
      ]
     },
     "metadata": {},
     "output_type": "display_data"
    },
    {
     "name": "stdout",
     "output_type": "stream",
     "text": [
      "Classification Report with Predicted Values\n",
      "              precision    recall  f1-score   support\n",
      "\n",
      "           0       0.75      0.87      0.81       920\n",
      "           1       0.71      0.52      0.60       555\n",
      "\n",
      "    accuracy                           0.74      1475\n",
      "   macro avg       0.73      0.69      0.70      1475\n",
      "weighted avg       0.73      0.74      0.73      1475\n",
      "\n"
     ]
    }
   ],
   "source": [
    "valuation_models.ConfusionMatrix(GBC_control, training = False)\n",
    "valuation_models.ClassificationReport(GBC_control, training = False)"
   ]
  },
  {
   "cell_type": "code",
   "execution_count": 19,
   "id": "784dc706",
   "metadata": {},
   "outputs": [
    {
     "name": "stdout",
     "output_type": "stream",
     "text": [
      "Confusion Matrix with Training Data\n"
     ]
    },
    {
     "data": {
      "image/png": "[encoded data removed]",
      "text/plain": [
       "<Figure size 640x480 with 2 Axes>"
      ]
     },
     "metadata": {},
     "output_type": "display_data"
    },
    {
     "name": "stdout",
     "output_type": "stream",
     "text": [
      "Classification Report with Training\n",
      "              precision    recall  f1-score   support\n",
      "\n",
      "           0       0.77      0.91      0.83      3618\n",
      "           1       0.80      0.57      0.66      2279\n",
      "\n",
      "    accuracy                           0.78      5897\n",
      "   macro avg       0.78      0.74      0.75      5897\n",
      "weighted avg       0.78      0.78      0.77      5897\n",
      "\n"
     ]
    }
   ],
   "source": [
    "GBC_with_Bagging = valuation_models.GBC_Bagging\n",
    "valuation_models.ConfusionMatrix(GBC_with_Bagging, training = True)\n",
    "valuation_models.ClassificationReport(GBC_with_Bagging, training = True)"
   ]
  },
  {
   "cell_type": "code",
   "execution_count": 20,
   "id": "df161e6a",
   "metadata": {},
   "outputs": [
    {
     "name": "stdout",
     "output_type": "stream",
     "text": [
      "Confusion Matrix with Predicted Values\n"
     ]
    },
    {
     "data": {
      "image/png": "[encoded data removed]",
      "text/plain": [
       "<Figure size 640x480 with 2 Axes>"
      ]
     },
     "metadata": {},
     "output_type": "display_data"
    },
    {
     "name": "stdout",
     "output_type": "stream",
     "text": [
      "Classification Report with Predicted Values\n",
      "              precision    recall  f1-score   support\n",
      "\n",
      "           0       0.75      0.90      0.82       920\n",
      "           1       0.75      0.49      0.59       555\n",
      "\n",
      "    accuracy                           0.75      1475\n",
      "   macro avg       0.75      0.70      0.70      1475\n",
      "weighted avg       0.75      0.75      0.73      1475\n",
      "\n"
     ]
    }
   ],
   "source": [
    "valuation_models.ConfusionMatrix(GBC_with_Bagging, training = False)\n",
    "valuation_models.ClassificationReport(GBC_with_Bagging, training = False)"
   ]
  },
  {
   "cell_type": "code",
   "execution_count": 21,
   "id": "6228d140",
   "metadata": {},
   "outputs": [],
   "source": [
    "# Save Model\n",
    "valuation_models.save(GBC_with_Bagging, 'GBC_bagging_model.pkl')"
   ]
  },
  {
   "cell_type": "markdown",
   "id": "95694ceb",
   "metadata": {},
   "source": [
    "### Stacking con GBC control Y GBC con bagging"
   ]
  },
  {
   "cell_type": "code",
   "execution_count": 24,
   "id": "62b00846",
   "metadata": {},
   "outputs": [
    {
     "ename": "NameError",
     "evalue": "name 'X_train' is not defined",
     "output_type": "error",
     "traceback": [
      "\u001b[0;31m---------------------------------------------------------------------------\u001b[0m",
      "\u001b[0;31mNameError\u001b[0m                                 Traceback (most recent call last)",
      "Cell \u001b[0;32mIn[24], line 7\u001b[0m\n\u001b[1;32m      4\u001b[0m test_predictions \u001b[38;5;241m=\u001b[39m []\n\u001b[1;32m      6\u001b[0m \u001b[38;5;28;01mfor\u001b[39;00m model \u001b[38;5;129;01min\u001b[39;00m models:\n\u001b[0;32m----> 7\u001b[0m     train_pred \u001b[38;5;241m=\u001b[39m model\u001b[38;5;241m.\u001b[39mpredict(X_train)\n\u001b[1;32m      8\u001b[0m     test_pred \u001b[38;5;241m=\u001b[39m model\u001b[38;5;241m.\u001b[39mpredict(X_test)\n\u001b[1;32m      9\u001b[0m     train_predictions\u001b[38;5;241m.\u001b[39mappend(train_pred)\n",
      "\u001b[0;31mNameError\u001b[0m: name 'X_train' is not defined"
     ]
    }
   ],
   "source": [
    "# 1. Realizar predicciones de los modelos base en los datos de entrenamiento y prueba\n",
    "models = [GBC_control, GBC_bag]\n",
    "train_predictions = []\n",
    "test_predictions = []\n",
    "\n",
    "for model in models:\n",
    "    train_pred = model.predict(X_train)\n",
    "    test_pred = model.predict(X_test)\n",
    "    train_predictions.append(train_pred)\n",
    "    test_predictions.append(test_pred)\n",
    "\n",
    "# 2. Apilar las predicciones de los modelos base en un nuevo conjunto de datos\n",
    "stacked_train = np.column_stack(train_predictions)\n",
    "stacked_test = np.column_stack(test_predictions)\n",
    "\n",
    "# 3. Entrenar un modelo final (meta-modelo)\n",
    "meta_model = LogisticRegression(max_iter=1000, random_state=0)\n",
    "meta_model.fit(stacked_train, y_train)\n",
    "\n",
    "# Calcular el accuracy en los datos de entrenamiento y prueba\n",
    "train_accuracy = accuracy_score(y_train, meta_model.predict(stacked_train))\n",
    "test_accuracy = accuracy_score(y_test, meta_model.predict(stacked_test))\n",
    "\n",
    "print(\"Accuracy en datos de entrenamiento:\", train_accuracy)\n",
    "print(\"Accuracy en datos de prueba:\", test_accuracy)"
   ]
  },
  {
   "cell_type": "markdown",
   "id": "0cedf731",
   "metadata": {},
   "source": [
    "## Clustering"
   ]
  },
  {
   "cell_type": "code",
   "execution_count": 26,
   "id": "5a1d89aa",
   "metadata": {},
   "outputs": [],
   "source": [
    "industry = pd.read_excel('Data/SP500 List/sp500.xlsx')"
   ]
  },
  {
   "cell_type": "code",
   "execution_count": 27,
   "id": "5e241b3f",
   "metadata": {},
   "outputs": [],
   "source": [
    "industry = industry[[\"Symbol\",\"GICS_Sector\"]]"
   ]
  },
  {
   "cell_type": "code",
   "execution_count": 28,
   "id": "4ce6d7d1",
   "metadata": {},
   "outputs": [
    {
     "ename": "KeyError",
     "evalue": "\"None of [Index(['Stock', 'Industry'], dtype='object')] are in the [columns]\"",
     "output_type": "error",
     "traceback": [
      "\u001b[0;31m---------------------------------------------------------------------------\u001b[0m",
      "\u001b[0;31mKeyError\u001b[0m                                  Traceback (most recent call last)",
      "Cell \u001b[0;32mIn[28], line 1\u001b[0m\n\u001b[0;32m----> 1\u001b[0m result_df \u001b[38;5;241m=\u001b[39m pd\u001b[38;5;241m.\u001b[39mmerge(stock\u001b[38;5;241m.\u001b[39mratios, industry[[\u001b[38;5;124m'\u001b[39m\u001b[38;5;124mStock\u001b[39m\u001b[38;5;124m'\u001b[39m, \u001b[38;5;124m'\u001b[39m\u001b[38;5;124mIndustry\u001b[39m\u001b[38;5;124m'\u001b[39m]], on\u001b[38;5;241m=\u001b[39m\u001b[38;5;124m'\u001b[39m\u001b[38;5;124mStock\u001b[39m\u001b[38;5;124m'\u001b[39m, how\u001b[38;5;241m=\u001b[39m\u001b[38;5;124m'\u001b[39m\u001b[38;5;124mleft\u001b[39m\u001b[38;5;124m'\u001b[39m)\u001b[38;5;241m.\u001b[39mdrop([\u001b[38;5;124m\"\u001b[39m\u001b[38;5;124mIndustry_x\u001b[39m\u001b[38;5;124m\"\u001b[39m],axis\u001b[38;5;241m=\u001b[39m\u001b[38;5;241m1\u001b[39m)\n",
      "File \u001b[0;32m~/anaconda3/lib/python3.11/site-packages/pandas/core/frame.py:3813\u001b[0m, in \u001b[0;36mDataFrame.__getitem__\u001b[0;34m(self, key)\u001b[0m\n\u001b[1;32m   3811\u001b[0m     \u001b[38;5;28;01mif\u001b[39;00m is_iterator(key):\n\u001b[1;32m   3812\u001b[0m         key \u001b[38;5;241m=\u001b[39m \u001b[38;5;28mlist\u001b[39m(key)\n\u001b[0;32m-> 3813\u001b[0m     indexer \u001b[38;5;241m=\u001b[39m \u001b[38;5;28mself\u001b[39m\u001b[38;5;241m.\u001b[39mcolumns\u001b[38;5;241m.\u001b[39m_get_indexer_strict(key, \u001b[38;5;124m\"\u001b[39m\u001b[38;5;124mcolumns\u001b[39m\u001b[38;5;124m\"\u001b[39m)[\u001b[38;5;241m1\u001b[39m]\n\u001b[1;32m   3815\u001b[0m \u001b[38;5;66;03m# take() does not accept boolean indexers\u001b[39;00m\n\u001b[1;32m   3816\u001b[0m \u001b[38;5;28;01mif\u001b[39;00m \u001b[38;5;28mgetattr\u001b[39m(indexer, \u001b[38;5;124m\"\u001b[39m\u001b[38;5;124mdtype\u001b[39m\u001b[38;5;124m\"\u001b[39m, \u001b[38;5;28;01mNone\u001b[39;00m) \u001b[38;5;241m==\u001b[39m \u001b[38;5;28mbool\u001b[39m:\n",
      "File \u001b[0;32m~/anaconda3/lib/python3.11/site-packages/pandas/core/indexes/base.py:6070\u001b[0m, in \u001b[0;36mIndex._get_indexer_strict\u001b[0;34m(self, key, axis_name)\u001b[0m\n\u001b[1;32m   6067\u001b[0m \u001b[38;5;28;01melse\u001b[39;00m:\n\u001b[1;32m   6068\u001b[0m     keyarr, indexer, new_indexer \u001b[38;5;241m=\u001b[39m \u001b[38;5;28mself\u001b[39m\u001b[38;5;241m.\u001b[39m_reindex_non_unique(keyarr)\n\u001b[0;32m-> 6070\u001b[0m \u001b[38;5;28mself\u001b[39m\u001b[38;5;241m.\u001b[39m_raise_if_missing(keyarr, indexer, axis_name)\n\u001b[1;32m   6072\u001b[0m keyarr \u001b[38;5;241m=\u001b[39m \u001b[38;5;28mself\u001b[39m\u001b[38;5;241m.\u001b[39mtake(indexer)\n\u001b[1;32m   6073\u001b[0m \u001b[38;5;28;01mif\u001b[39;00m \u001b[38;5;28misinstance\u001b[39m(key, Index):\n\u001b[1;32m   6074\u001b[0m     \u001b[38;5;66;03m# GH 42790 - Preserve name from an Index\u001b[39;00m\n",
      "File \u001b[0;32m~/anaconda3/lib/python3.11/site-packages/pandas/core/indexes/base.py:6130\u001b[0m, in \u001b[0;36mIndex._raise_if_missing\u001b[0;34m(self, key, indexer, axis_name)\u001b[0m\n\u001b[1;32m   6128\u001b[0m     \u001b[38;5;28;01mif\u001b[39;00m use_interval_msg:\n\u001b[1;32m   6129\u001b[0m         key \u001b[38;5;241m=\u001b[39m \u001b[38;5;28mlist\u001b[39m(key)\n\u001b[0;32m-> 6130\u001b[0m     \u001b[38;5;28;01mraise\u001b[39;00m \u001b[38;5;167;01mKeyError\u001b[39;00m(\u001b[38;5;124mf\u001b[39m\u001b[38;5;124m\"\u001b[39m\u001b[38;5;124mNone of [\u001b[39m\u001b[38;5;132;01m{\u001b[39;00mkey\u001b[38;5;132;01m}\u001b[39;00m\u001b[38;5;124m] are in the [\u001b[39m\u001b[38;5;132;01m{\u001b[39;00maxis_name\u001b[38;5;132;01m}\u001b[39;00m\u001b[38;5;124m]\u001b[39m\u001b[38;5;124m\"\u001b[39m)\n\u001b[1;32m   6132\u001b[0m not_found \u001b[38;5;241m=\u001b[39m \u001b[38;5;28mlist\u001b[39m(ensure_index(key)[missing_mask\u001b[38;5;241m.\u001b[39mnonzero()[\u001b[38;5;241m0\u001b[39m]]\u001b[38;5;241m.\u001b[39munique())\n\u001b[1;32m   6133\u001b[0m \u001b[38;5;28;01mraise\u001b[39;00m \u001b[38;5;167;01mKeyError\u001b[39;00m(\u001b[38;5;124mf\u001b[39m\u001b[38;5;124m\"\u001b[39m\u001b[38;5;132;01m{\u001b[39;00mnot_found\u001b[38;5;132;01m}\u001b[39;00m\u001b[38;5;124m not in index\u001b[39m\u001b[38;5;124m\"\u001b[39m)\n",
      "\u001b[0;31mKeyError\u001b[0m: \"None of [Index(['Stock', 'Industry'], dtype='object')] are in the [columns]\""
     ]
    }
   ],
   "source": [
    "result_df = pd.merge(stock.ratios, industry[['Stock', 'Industry']], on='Stock', how='left').drop([\"Industry_x\"],axis=1)"
   ]
  },
  {
   "cell_type": "code",
   "execution_count": 29,
   "id": "bc2e54f7",
   "metadata": {},
   "outputs": [
    {
     "ename": "NameError",
     "evalue": "name 'result_df' is not defined",
     "output_type": "error",
     "traceback": [
      "\u001b[0;31m---------------------------------------------------------------------------\u001b[0m",
      "\u001b[0;31mNameError\u001b[0m                                 Traceback (most recent call last)",
      "Cell \u001b[0;32mIn[29], line 1\u001b[0m\n\u001b[0;32m----> 1\u001b[0m result_df\n",
      "\u001b[0;31mNameError\u001b[0m: name 'result_df' is not defined"
     ]
    }
   ],
   "source": [
    "result_df"
   ]
  },
  {
   "cell_type": "code",
   "execution_count": null,
   "id": "849862a7",
   "metadata": {},
   "outputs": [],
   "source": [
    "result_df[\"Industry_y\"].unique()"
   ]
  },
  {
   "cell_type": "code",
   "execution_count": null,
   "id": "79c95aff",
   "metadata": {},
   "outputs": [],
   "source": [
    "industry_type_t = result_df[\"Industry_y\"].unique()[1]"
   ]
  },
  {
   "cell_type": "code",
   "execution_count": null,
   "id": "a68b8253",
   "metadata": {},
   "outputs": [],
   "source": [
    "industry_type_t"
   ]
  },
  {
   "cell_type": "code",
   "execution_count": null,
   "id": "5b1139a5",
   "metadata": {},
   "outputs": [],
   "source": [
    "result_df[result_df[\"Industry_y\"]==industry_type_t][[\"PER\",\"PBV\",\"Acid_test\",\"ATR\",\"CCC\",\"ROA\",\"DER\",\"NPM\",\"EM\"]]"
   ]
  },
  {
   "cell_type": "code",
   "execution_count": null,
   "id": "5a3ee36f",
   "metadata": {},
   "outputs": [],
   "source": [
    "# y_pred_bag_train, y_pred_bag, X_train, X_test, GBC_bag, y_test"
   ]
  },
  {
   "cell_type": "code",
   "execution_count": null,
   "id": "5a1620e2",
   "metadata": {
    "scrolled": false
   },
   "outputs": [],
   "source": [
    "for i in range(len(result_df[\"Industry_y\"].unique())):\n",
    "    y_pred_ind = GBC_bag.predict(result_df[result_df[\"Industry_y\"]==result_df[\"Industry_y\"].unique()[i]][[\"PER\",\"PBV\",\"Acid_test\",\"ATR\",\"CCC\",\"ROA\",\"DER\",\"NPM\",\"EM\"]])\n",
    "    print(result_df[\"Industry_y\"].unique()[i])\n",
    "    print(classification_report(result_df[result_df[\"Industry_y\"]==result_df[\"Industry_y\"].unique()[i]][[\"Return\"]], y_pred_ind))"
   ]
  },
  {
   "cell_type": "markdown",
   "id": "815d5a9a",
   "metadata": {},
   "source": [
    "## Conclusines (discutir)\n",
    "* Tomando todas las variables, en el train nos da mejor (a veces overfitting), pero en test usualmente peor, ¿qué tomamos?\n",
    "* Sería bueno conseguir más datos? \n",
    "* Alguna otra técnica o modelo que nos recomiendes?\n",
    "* Hicimos stacking con todas las variables, y solo con las significativas. Con todas las variables no fue bueno, pero con las significativas encontramos un buen modelo, haciendolo de manera manual (no sklearn).\n",
    "\n",
    "* XGBoost dio mejor tomando todas las variables\n",
    "* Es mejor no estandarizar las variables para todos los modelos"
   ]
  },
  {
   "cell_type": "markdown",
   "id": "27510653",
   "metadata": {},
   "source": [
    "## Exploratory Data Analysis (EDA)"
   ]
  },
  {
   "cell_type": "markdown",
   "id": "9a90e376",
   "metadata": {},
   "source": [
    "### Profile Report"
   ]
  },
  {
   "cell_type": "code",
   "execution_count": null,
   "id": "bea720f0",
   "metadata": {
    "scrolled": true
   },
   "outputs": [],
   "source": [
    "# Reporte automatizado utilizando ydata_profiling\n",
    "#profile = ProfileReport(stock.ratios)\n",
    "#profile.to_file('Preliminary Report.html')\n",
    "#profile"
   ]
  },
  {
   "cell_type": "markdown",
   "id": "e48e3abe",
   "metadata": {},
   "source": [
    "### Análisis de correlación"
   ]
  },
  {
   "cell_type": "code",
   "execution_count": null,
   "id": "b4d16622",
   "metadata": {},
   "outputs": [],
   "source": [
    "# Mapear correlación completa\n",
    "sns.heatmap(\n",
    "    stock.ratios.corr(numeric_only=True), \n",
    "    vmin=-1, vmax=1, annot=True, cmap='coolwarm', fmt='.2f', cbar=True, square=True, \n",
    "    annot_kws={'size': 10},  linewidth=1, center = 0.2\n",
    ");"
   ]
  },
  {
   "cell_type": "markdown",
   "id": "84809bb9",
   "metadata": {},
   "source": [
    "### Histogramas"
   ]
  },
  {
   "cell_type": "code",
   "execution_count": null,
   "id": "7cae4b80",
   "metadata": {
    "scrolled": false
   },
   "outputs": [],
   "source": [
    "# Conservar solo ratios\n",
    "ratios_only_full = stock.ratios[['PER','PBV','Acid_test','ATR','CCC','ROA','DER','NPM','EM']]\n",
    "\n",
    "# Drop de valores atípicos en las distribuciones mediante Z_scores\n",
    "## PER\n",
    "z_scores = np.abs((ratios_only_full['PER'] - ratios_only_full['PER'].mean()) / ratios_only_full['PER'].std())\n",
    "per_no_outliers = ratios_only_full['PER'][z_scores <= .4]\n",
    "per_num = \"{:.2f}%\".format((1-(len(ratios_only_full)-len(per_no_outliers))/len(ratios_only_full))*100)\n",
    "\n",
    "## PBV\n",
    "z_scores = np.abs((ratios_only_full['PBV'] - ratios_only_full['PBV'].mean()) / ratios_only_full['PBV'].std())\n",
    "pbv_no_outliers = ratios_only_full['PBV'][z_scores <= 3]\n",
    "pbv_num = \"{:.2f}%\".format((1-(len(ratios_only_full)-len(pbv_no_outliers))/len(ratios_only_full))*100)\n",
    "\n",
    "## Acid test\n",
    "z_scores = np.abs((ratios_only_full['Acid_test'] - ratios_only_full['Acid_test'].mean()) / ratios_only_full['Acid_test'].std())\n",
    "at_no_outliers = ratios_only_full['Acid_test']\n",
    "at_num = \"{:.2f}%\".format((1-(len(ratios_only_full)-len(at_no_outliers))/len(ratios_only_full))*100)\n",
    "\n",
    "## ATR\n",
    "z_scores = np.abs((ratios_only_full['ATR'] - ratios_only_full['ATR'].mean()) / ratios_only_full['ATR'].std())\n",
    "atr_no_outliers = ratios_only_full['ATR'][z_scores <= 3]\n",
    "atr_num = \"{:.2f}%\".format((1-(len(ratios_only_full)-len(atr_no_outliers))/len(ratios_only_full))*100)\n",
    "\n",
    "## CCC\n",
    "z_scores = np.abs((ratios_only_full['CCC'] - ratios_only_full['CCC'].mean()) / ratios_only_full['CCC'].std())\n",
    "ccc_no_outliers = ratios_only_full['CCC']\n",
    "ccc_no_outliers = ccc_no_outliers[ccc_no_outliers <= 10000]\n",
    "ccc_no_outliers = ccc_no_outliers[ccc_no_outliers >= -10000]\n",
    "ccc_num = \"{:.2f}%\".format((1-(len(ratios_only_full)-len(ccc_no_outliers))/len(ratios_only_full))*100)\n",
    "\n",
    "## ROA\n",
    "z_scores = np.abs((ratios_only_full['ROA'] - ratios_only_full['ROA'].mean()) / ratios_only_full['ROA'].std())\n",
    "roa_no_outliers = ratios_only_full['ROA'][z_scores <= 2.4]\n",
    "roa_num = \"{:.2f}%\".format((1-(len(ratios_only_full)-len(roa_no_outliers))/len(ratios_only_full))*100)\n",
    "\n",
    "## DER\n",
    "z_scores = np.abs((ratios_only_full['DER'] - ratios_only_full['DER'].mean()) / ratios_only_full['DER'].std())\n",
    "der_no_outliers = ratios_only_full['DER']\n",
    "der_num = \"{:.2f}%\".format((1-(len(ratios_only_full)-len(der_no_outliers))/len(ratios_only_full))*100)\n",
    "\n",
    "## NPM\n",
    "z_scores = np.abs((ratios_only_full['NPM'] - ratios_only_full['NPM'].mean()) / ratios_only_full['NPM'].std())\n",
    "npm_no_outliers = ratios_only_full['NPM'][z_scores <= .035]\n",
    "npm_num = \"{:.2f}%\".format((1-(len(ratios_only_full)-len(npm_no_outliers))/len(ratios_only_full))*100)\n",
    "\n",
    "## EM\n",
    "z_scores = np.abs((ratios_only_full['EM'] - ratios_only_full['EM'].mean()) / ratios_only_full['EM'].std())\n",
    "em_no_outliers = ratios_only_full['EM']\n",
    "em_num = \"{:.2f}%\".format((1-(len(ratios_only_full)-len(em_no_outliers))/len(ratios_only_full))*100)\n",
    "\n",
    "# Concentrado de nuevos valores\n",
    "ratios = ['PER', 'PBV', 'Acid_test', 'ATR', 'CCC', 'ROA', 'DER', 'NPM', 'EM']\n",
    "ratios_num = [per_num,pbv_num,at_num,atr_num,ccc_num,roa_num,der_num,npm_num,em_num]\n",
    "\n",
    "# Gráficos\n",
    "plots = [sns.displot(x=data, kde=True) for data in \n",
    "         [per_no_outliers, pbv_no_outliers,  at_no_outliers, atr_no_outliers, ccc_no_outliers, \n",
    "          roa_no_outliers, der_no_outliers,npm_no_outliers, em_no_outliers]]\n",
    "fig, axes = plt.subplots(3, 3, figsize=(12, 12))\n",
    "axes = axes.flatten()\n",
    "for i, plot in enumerate(plots):\n",
    "    plot.fig.set_size_inches(4, 4)                 \n",
    "    plot.ax.set_title(ratios[i])                 \n",
    "    plot.savefig(\"temp.png\")                 \n",
    "    temp_img = plt.imread(\"temp.png\")                 \n",
    "    axes[i].imshow(temp_img)                 \n",
    "    axes[i].axis(\"off\")                 \n",
    "plt.tight_layout()\n",
    "plt.show()"
   ]
  },
  {
   "cell_type": "code",
   "execution_count": null,
   "id": "9ebd6d4f",
   "metadata": {},
   "outputs": [],
   "source": [
    "# Cálculo de valores removidos\n",
    "removed_vals = {'StringColumn': ratios, '% de datos en la gráfica': ratios_num}\n",
    "removed_vals = pd.DataFrame(removed_vals)\n",
    "removed_vals"
   ]
  },
  {
   "cell_type": "markdown",
   "id": "afe4be6c",
   "metadata": {},
   "source": [
    "### Análisis de correlación Spearman"
   ]
  },
  {
   "cell_type": "code",
   "execution_count": null,
   "id": "9a2cbe34",
   "metadata": {},
   "outputs": [],
   "source": [
    "corr_spearman = stock.ratios.corr(method = \"spearman\")\n",
    "corr_spearman"
   ]
  },
  {
   "cell_type": "code",
   "execution_count": null,
   "id": "87d4d839",
   "metadata": {},
   "outputs": [],
   "source": [
    "sns.heatmap(\n",
    "    corr_spearman.corr(numeric_only=True), \n",
    "    vmin=-1, vmax=1, annot=True, cmap='coolwarm', fmt='.2f', cbar=True, square=True, \n",
    "    annot_kws={'size': 10},  linewidth=1, center = 0.08\n",
    ");"
   ]
  },
  {
   "cell_type": "code",
   "execution_count": null,
   "id": "1c35dcb2",
   "metadata": {},
   "outputs": [],
   "source": []
  },
  {
   "cell_type": "markdown",
   "id": "5e77f228",
   "metadata": {},
   "source": [
    "# backtesting"
   ]
  },
  {
   "cell_type": "code",
   "execution_count": 183,
   "id": "86790b75",
   "metadata": {},
   "outputs": [
    {
     "data": {
      "text/html": [
       "<div>\n",
       "<style scoped>\n",
       "    .dataframe tbody tr th:only-of-type {\n",
       "        vertical-align: middle;\n",
       "    }\n",
       "\n",
       "    .dataframe tbody tr th {\n",
       "        vertical-align: top;\n",
       "    }\n",
       "\n",
       "    .dataframe thead th {\n",
       "        text-align: right;\n",
       "    }\n",
       "</style>\n",
       "<table border=\"1\" class=\"dataframe\">\n",
       "  <thead>\n",
       "    <tr style=\"text-align: right;\">\n",
       "      <th></th>\n",
       "      <th>Stock</th>\n",
       "      <th>fiscalDateEnding</th>\n",
       "      <th>PER</th>\n",
       "      <th>PBV</th>\n",
       "      <th>Acid_test</th>\n",
       "      <th>ATR</th>\n",
       "      <th>CCC</th>\n",
       "      <th>ROA</th>\n",
       "      <th>DER</th>\n",
       "      <th>NPM</th>\n",
       "      <th>EM</th>\n",
       "      <th>Return</th>\n",
       "    </tr>\n",
       "  </thead>\n",
       "  <tbody>\n",
       "    <tr>\n",
       "      <th>0</th>\n",
       "      <td>A</td>\n",
       "      <td>2023-06-30</td>\n",
       "      <td>117.226398</td>\n",
       "      <td>3.280427</td>\n",
       "      <td>26.970165</td>\n",
       "      <td>0.156505</td>\n",
       "      <td>484.824339</td>\n",
       "      <td>0.027984</td>\n",
       "      <td>0.866805</td>\n",
       "      <td>0.178804</td>\n",
       "      <td>1.866805</td>\n",
       "      <td>1</td>\n",
       "    </tr>\n",
       "    <tr>\n",
       "      <th>1</th>\n",
       "      <td>A</td>\n",
       "      <td>2023-03-31</td>\n",
       "      <td>115.687540</td>\n",
       "      <td>3.729464</td>\n",
       "      <td>12.466387</td>\n",
       "      <td>0.159538</td>\n",
       "      <td>473.104821</td>\n",
       "      <td>0.032237</td>\n",
       "      <td>0.946693</td>\n",
       "      <td>0.202067</td>\n",
       "      <td>1.946693</td>\n",
       "      <td>1</td>\n",
       "    </tr>\n",
       "    <tr>\n",
       "      <th>2</th>\n",
       "      <td>A</td>\n",
       "      <td>2022-12-31</td>\n",
       "      <td>119.300078</td>\n",
       "      <td>4.168480</td>\n",
       "      <td>76.111111</td>\n",
       "      <td>0.174041</td>\n",
       "      <td>425.001250</td>\n",
       "      <td>0.034941</td>\n",
       "      <td>0.985297</td>\n",
       "      <td>0.200764</td>\n",
       "      <td>1.985297</td>\n",
       "      <td>1</td>\n",
       "    </tr>\n",
       "    <tr>\n",
       "      <th>3</th>\n",
       "      <td>A</td>\n",
       "      <td>2022-09-30</td>\n",
       "      <td>108.403277</td>\n",
       "      <td>3.401820</td>\n",
       "      <td>14.888889</td>\n",
       "      <td>0.163201</td>\n",
       "      <td>419.650125</td>\n",
       "      <td>0.031381</td>\n",
       "      <td>1.059320</td>\n",
       "      <td>0.192285</td>\n",
       "      <td>2.059320</td>\n",
       "      <td>0</td>\n",
       "    </tr>\n",
       "    <tr>\n",
       "      <th>4</th>\n",
       "      <td>A</td>\n",
       "      <td>2022-06-30</td>\n",
       "      <td>128.247944</td>\n",
       "      <td>3.361065</td>\n",
       "      <td>15.462857</td>\n",
       "      <td>0.151698</td>\n",
       "      <td>416.910303</td>\n",
       "      <td>0.026208</td>\n",
       "      <td>1.041195</td>\n",
       "      <td>0.172762</td>\n",
       "      <td>2.041195</td>\n",
       "      <td>0</td>\n",
       "    </tr>\n",
       "    <tr>\n",
       "      <th>...</th>\n",
       "      <td>...</td>\n",
       "      <td>...</td>\n",
       "      <td>...</td>\n",
       "      <td>...</td>\n",
       "      <td>...</td>\n",
       "      <td>...</td>\n",
       "      <td>...</td>\n",
       "      <td>...</td>\n",
       "      <td>...</td>\n",
       "      <td>...</td>\n",
       "      <td>...</td>\n",
       "      <td>...</td>\n",
       "    </tr>\n",
       "    <tr>\n",
       "      <th>14</th>\n",
       "      <td>XRAY</td>\n",
       "      <td>2019-12-31</td>\n",
       "      <td>197.198245</td>\n",
       "      <td>1.773366</td>\n",
       "      <td>4.074675</td>\n",
       "      <td>0.101090</td>\n",
       "      <td>520.351878</td>\n",
       "      <td>0.008993</td>\n",
       "      <td>0.990733</td>\n",
       "      <td>0.088959</td>\n",
       "      <td>1.990733</td>\n",
       "      <td>1</td>\n",
       "    </tr>\n",
       "    <tr>\n",
       "      <th>15</th>\n",
       "      <td>XRAY</td>\n",
       "      <td>2019-09-30</td>\n",
       "      <td>434.443223</td>\n",
       "      <td>1.833476</td>\n",
       "      <td>26.970165</td>\n",
       "      <td>0.116104</td>\n",
       "      <td>445.294066</td>\n",
       "      <td>0.004220</td>\n",
       "      <td>0.816937</td>\n",
       "      <td>0.036349</td>\n",
       "      <td>1.816937</td>\n",
       "      <td>0</td>\n",
       "    </tr>\n",
       "    <tr>\n",
       "      <th>16</th>\n",
       "      <td>XRAY</td>\n",
       "      <td>2019-06-30</td>\n",
       "      <td>450.749855</td>\n",
       "      <td>1.958479</td>\n",
       "      <td>26.970165</td>\n",
       "      <td>0.104921</td>\n",
       "      <td>447.986379</td>\n",
       "      <td>0.004345</td>\n",
       "      <td>0.760390</td>\n",
       "      <td>0.041411</td>\n",
       "      <td>1.760390</td>\n",
       "      <td>1</td>\n",
       "    </tr>\n",
       "    <tr>\n",
       "      <th>17</th>\n",
       "      <td>XRAY</td>\n",
       "      <td>2019-03-31</td>\n",
       "      <td>8354.720484</td>\n",
       "      <td>1.679904</td>\n",
       "      <td>26.970165</td>\n",
       "      <td>0.118376</td>\n",
       "      <td>407.148055</td>\n",
       "      <td>0.000201</td>\n",
       "      <td>0.777601</td>\n",
       "      <td>0.001699</td>\n",
       "      <td>1.777601</td>\n",
       "      <td>0</td>\n",
       "    </tr>\n",
       "    <tr>\n",
       "      <th>18</th>\n",
       "      <td>XRAY</td>\n",
       "      <td>2018-12-31</td>\n",
       "      <td>407.346079</td>\n",
       "      <td>1.332752</td>\n",
       "      <td>26.970165</td>\n",
       "      <td>0.107350</td>\n",
       "      <td>119.062181</td>\n",
       "      <td>0.003272</td>\n",
       "      <td>0.862399</td>\n",
       "      <td>0.030478</td>\n",
       "      <td>1.863270</td>\n",
       "      <td>0</td>\n",
       "    </tr>\n",
       "  </tbody>\n",
       "</table>\n",
       "<p>7372 rows × 12 columns</p>\n",
       "</div>"
      ],
      "text/plain": [
       "   Stock fiscalDateEnding          PER       PBV  Acid_test       ATR  \\\n",
       "0      A       2023-06-30   117.226398  3.280427  26.970165  0.156505   \n",
       "1      A       2023-03-31   115.687540  3.729464  12.466387  0.159538   \n",
       "2      A       2022-12-31   119.300078  4.168480  76.111111  0.174041   \n",
       "3      A       2022-09-30   108.403277  3.401820  14.888889  0.163201   \n",
       "4      A       2022-06-30   128.247944  3.361065  15.462857  0.151698   \n",
       "..   ...              ...          ...       ...        ...       ...   \n",
       "14  XRAY       2019-12-31   197.198245  1.773366   4.074675  0.101090   \n",
       "15  XRAY       2019-09-30   434.443223  1.833476  26.970165  0.116104   \n",
       "16  XRAY       2019-06-30   450.749855  1.958479  26.970165  0.104921   \n",
       "17  XRAY       2019-03-31  8354.720484  1.679904  26.970165  0.118376   \n",
       "18  XRAY       2018-12-31   407.346079  1.332752  26.970165  0.107350   \n",
       "\n",
       "           CCC       ROA       DER       NPM        EM  Return  \n",
       "0   484.824339  0.027984  0.866805  0.178804  1.866805       1  \n",
       "1   473.104821  0.032237  0.946693  0.202067  1.946693       1  \n",
       "2   425.001250  0.034941  0.985297  0.200764  1.985297       1  \n",
       "3   419.650125  0.031381  1.059320  0.192285  2.059320       0  \n",
       "4   416.910303  0.026208  1.041195  0.172762  2.041195       0  \n",
       "..         ...       ...       ...       ...       ...     ...  \n",
       "14  520.351878  0.008993  0.990733  0.088959  1.990733       1  \n",
       "15  445.294066  0.004220  0.816937  0.036349  1.816937       0  \n",
       "16  447.986379  0.004345  0.760390  0.041411  1.760390       1  \n",
       "17  407.148055  0.000201  0.777601  0.001699  1.777601       0  \n",
       "18  119.062181  0.003272  0.862399  0.030478  1.863270       0  \n",
       "\n",
       "[7372 rows x 12 columns]"
      ]
     },
     "execution_count": 183,
     "metadata": {},
     "output_type": "execute_result"
    }
   ],
   "source": [
    "database = stock.clean\n",
    "database"
   ]
  },
  {
   "cell_type": "code",
   "execution_count": 184,
   "id": "8a2111c5",
   "metadata": {},
   "outputs": [],
   "source": [
    "database.to_csv('data.csv')"
   ]
  },
  {
   "cell_type": "code",
   "execution_count": 185,
   "id": "343e62a0",
   "metadata": {},
   "outputs": [],
   "source": [
    "loaded_model = joblib.load(open('GBC_bagging_model.pkl', 'rb'))"
   ]
  },
  {
   "cell_type": "code",
   "execution_count": 436,
   "id": "822ff7c5",
   "metadata": {},
   "outputs": [
    {
     "data": {
      "text/html": [
       "<style>#sk-container-id-5 {color: black;}#sk-container-id-5 pre{padding: 0;}#sk-container-id-5 div.sk-toggleable {background-color: white;}#sk-container-id-5 label.sk-toggleable__label {cursor: pointer;display: block;width: 100%;margin-bottom: 0;padding: 0.3em;box-sizing: border-box;text-align: center;}#sk-container-id-5 label.sk-toggleable__label-arrow:before {content: \"▸\";float: left;margin-right: 0.25em;color: #696969;}#sk-container-id-5 label.sk-toggleable__label-arrow:hover:before {color: black;}#sk-container-id-5 div.sk-estimator:hover label.sk-toggleable__label-arrow:before {color: black;}#sk-container-id-5 div.sk-toggleable__content {max-height: 0;max-width: 0;overflow: hidden;text-align: left;background-color: #f0f8ff;}#sk-container-id-5 div.sk-toggleable__content pre {margin: 0.2em;color: black;border-radius: 0.25em;background-color: #f0f8ff;}#sk-container-id-5 input.sk-toggleable__control:checked~div.sk-toggleable__content {max-height: 200px;max-width: 100%;overflow: auto;}#sk-container-id-5 input.sk-toggleable__control:checked~label.sk-toggleable__label-arrow:before {content: \"▾\";}#sk-container-id-5 div.sk-estimator input.sk-toggleable__control:checked~label.sk-toggleable__label {background-color: #d4ebff;}#sk-container-id-5 div.sk-label input.sk-toggleable__control:checked~label.sk-toggleable__label {background-color: #d4ebff;}#sk-container-id-5 input.sk-hidden--visually {border: 0;clip: rect(1px 1px 1px 1px);clip: rect(1px, 1px, 1px, 1px);height: 1px;margin: -1px;overflow: hidden;padding: 0;position: absolute;width: 1px;}#sk-container-id-5 div.sk-estimator {font-family: monospace;background-color: #f0f8ff;border: 1px dotted black;border-radius: 0.25em;box-sizing: border-box;margin-bottom: 0.5em;}#sk-container-id-5 div.sk-estimator:hover {background-color: #d4ebff;}#sk-container-id-5 div.sk-parallel-item::after {content: \"\";width: 100%;border-bottom: 1px solid gray;flex-grow: 1;}#sk-container-id-5 div.sk-label:hover label.sk-toggleable__label {background-color: #d4ebff;}#sk-container-id-5 div.sk-serial::before {content: \"\";position: absolute;border-left: 1px solid gray;box-sizing: border-box;top: 0;bottom: 0;left: 50%;z-index: 0;}#sk-container-id-5 div.sk-serial {display: flex;flex-direction: column;align-items: center;background-color: white;padding-right: 0.2em;padding-left: 0.2em;position: relative;}#sk-container-id-5 div.sk-item {position: relative;z-index: 1;}#sk-container-id-5 div.sk-parallel {display: flex;align-items: stretch;justify-content: center;background-color: white;position: relative;}#sk-container-id-5 div.sk-item::before, #sk-container-id-5 div.sk-parallel-item::before {content: \"\";position: absolute;border-left: 1px solid gray;box-sizing: border-box;top: 0;bottom: 0;left: 50%;z-index: -1;}#sk-container-id-5 div.sk-parallel-item {display: flex;flex-direction: column;z-index: 1;position: relative;background-color: white;}#sk-container-id-5 div.sk-parallel-item:first-child::after {align-self: flex-end;width: 50%;}#sk-container-id-5 div.sk-parallel-item:last-child::after {align-self: flex-start;width: 50%;}#sk-container-id-5 div.sk-parallel-item:only-child::after {width: 0;}#sk-container-id-5 div.sk-dashed-wrapped {border: 1px dashed gray;margin: 0 0.4em 0.5em 0.4em;box-sizing: border-box;padding-bottom: 0.4em;background-color: white;}#sk-container-id-5 div.sk-label label {font-family: monospace;font-weight: bold;display: inline-block;line-height: 1.2em;}#sk-container-id-5 div.sk-label-container {text-align: center;}#sk-container-id-5 div.sk-container {/* jupyter's `normalize.less` sets `[hidden] { display: none; }` but bootstrap.min.css set `[hidden] { display: none !important; }` so we also need the `!important` here to be able to override the default hidden behavior on the sphinx rendered scikit-learn.org. See: https://github.com/scikit-learn/scikit-learn/issues/21755 */display: inline-block !important;position: relative;}#sk-container-id-5 div.sk-text-repr-fallback {display: none;}</style><div id=\"sk-container-id-5\" class=\"sk-top-container\"><div class=\"sk-text-repr-fallback\"><pre>BaggingClassifier(estimator=GradientBoostingClassifier())</pre><b>In a Jupyter environment, please rerun this cell to show the HTML representation or trust the notebook. <br />On GitHub, the HTML representation is unable to render, please try loading this page with nbviewer.org.</b></div><div class=\"sk-container\" hidden><div class=\"sk-item sk-dashed-wrapped\"><div class=\"sk-label-container\"><div class=\"sk-label sk-toggleable\"><input class=\"sk-toggleable__control sk-hidden--visually\" id=\"sk-estimator-id-23\" type=\"checkbox\" ><label for=\"sk-estimator-id-23\" class=\"sk-toggleable__label sk-toggleable__label-arrow\">BaggingClassifier</label><div class=\"sk-toggleable__content\"><pre>BaggingClassifier(estimator=GradientBoostingClassifier())</pre></div></div></div><div class=\"sk-parallel\"><div class=\"sk-parallel-item\"><div class=\"sk-item\"><div class=\"sk-label-container\"><div class=\"sk-label sk-toggleable\"><input class=\"sk-toggleable__control sk-hidden--visually\" id=\"sk-estimator-id-24\" type=\"checkbox\" ><label for=\"sk-estimator-id-24\" class=\"sk-toggleable__label sk-toggleable__label-arrow\">estimator: GradientBoostingClassifier</label><div class=\"sk-toggleable__content\"><pre>GradientBoostingClassifier()</pre></div></div></div><div class=\"sk-serial\"><div class=\"sk-item\"><div class=\"sk-estimator sk-toggleable\"><input class=\"sk-toggleable__control sk-hidden--visually\" id=\"sk-estimator-id-25\" type=\"checkbox\" ><label for=\"sk-estimator-id-25\" class=\"sk-toggleable__label sk-toggleable__label-arrow\">GradientBoostingClassifier</label><div class=\"sk-toggleable__content\"><pre>GradientBoostingClassifier()</pre></div></div></div></div></div></div></div></div></div></div>"
      ],
      "text/plain": [
       "BaggingClassifier(estimator=GradientBoostingClassifier())"
      ]
     },
     "execution_count": 436,
     "metadata": {},
     "output_type": "execute_result"
    }
   ],
   "source": [
    "loaded_model"
   ]
  },
  {
   "cell_type": "code",
   "execution_count": 432,
   "id": "bc736f42",
   "metadata": {},
   "outputs": [
    {
     "data": {
      "text/html": [
       "<div>\n",
       "<style scoped>\n",
       "    .dataframe tbody tr th:only-of-type {\n",
       "        vertical-align: middle;\n",
       "    }\n",
       "\n",
       "    .dataframe tbody tr th {\n",
       "        vertical-align: top;\n",
       "    }\n",
       "\n",
       "    .dataframe thead th {\n",
       "        text-align: right;\n",
       "    }\n",
       "</style>\n",
       "<table border=\"1\" class=\"dataframe\">\n",
       "  <thead>\n",
       "    <tr style=\"text-align: right;\">\n",
       "      <th></th>\n",
       "      <th>Stock</th>\n",
       "      <th>fiscalDateEnding</th>\n",
       "      <th>PER</th>\n",
       "      <th>PBV</th>\n",
       "      <th>Acid_test</th>\n",
       "      <th>ATR</th>\n",
       "      <th>CCC</th>\n",
       "      <th>ROA</th>\n",
       "      <th>DER</th>\n",
       "      <th>NPM</th>\n",
       "      <th>EM</th>\n",
       "      <th>Return</th>\n",
       "    </tr>\n",
       "  </thead>\n",
       "  <tbody>\n",
       "    <tr>\n",
       "      <th>0</th>\n",
       "      <td>A</td>\n",
       "      <td>2023-06-30</td>\n",
       "      <td>117.226398</td>\n",
       "      <td>3.280427</td>\n",
       "      <td>26.970165</td>\n",
       "      <td>0.156505</td>\n",
       "      <td>484.824339</td>\n",
       "      <td>0.027984</td>\n",
       "      <td>0.866805</td>\n",
       "      <td>0.178804</td>\n",
       "      <td>1.866805</td>\n",
       "      <td>1</td>\n",
       "    </tr>\n",
       "    <tr>\n",
       "      <th>1</th>\n",
       "      <td>A</td>\n",
       "      <td>2023-03-31</td>\n",
       "      <td>115.687540</td>\n",
       "      <td>3.729464</td>\n",
       "      <td>12.466387</td>\n",
       "      <td>0.159538</td>\n",
       "      <td>473.104821</td>\n",
       "      <td>0.032237</td>\n",
       "      <td>0.946693</td>\n",
       "      <td>0.202067</td>\n",
       "      <td>1.946693</td>\n",
       "      <td>1</td>\n",
       "    </tr>\n",
       "    <tr>\n",
       "      <th>2</th>\n",
       "      <td>A</td>\n",
       "      <td>2022-12-31</td>\n",
       "      <td>119.300078</td>\n",
       "      <td>4.168480</td>\n",
       "      <td>76.111111</td>\n",
       "      <td>0.174041</td>\n",
       "      <td>425.001250</td>\n",
       "      <td>0.034941</td>\n",
       "      <td>0.985297</td>\n",
       "      <td>0.200764</td>\n",
       "      <td>1.985297</td>\n",
       "      <td>1</td>\n",
       "    </tr>\n",
       "    <tr>\n",
       "      <th>3</th>\n",
       "      <td>A</td>\n",
       "      <td>2022-09-30</td>\n",
       "      <td>108.403277</td>\n",
       "      <td>3.401820</td>\n",
       "      <td>14.888889</td>\n",
       "      <td>0.163201</td>\n",
       "      <td>419.650125</td>\n",
       "      <td>0.031381</td>\n",
       "      <td>1.059320</td>\n",
       "      <td>0.192285</td>\n",
       "      <td>2.059320</td>\n",
       "      <td>0</td>\n",
       "    </tr>\n",
       "    <tr>\n",
       "      <th>4</th>\n",
       "      <td>A</td>\n",
       "      <td>2022-06-30</td>\n",
       "      <td>128.247944</td>\n",
       "      <td>3.361065</td>\n",
       "      <td>15.462857</td>\n",
       "      <td>0.151698</td>\n",
       "      <td>416.910303</td>\n",
       "      <td>0.026208</td>\n",
       "      <td>1.041195</td>\n",
       "      <td>0.172762</td>\n",
       "      <td>2.041195</td>\n",
       "      <td>0</td>\n",
       "    </tr>\n",
       "    <tr>\n",
       "      <th>...</th>\n",
       "      <td>...</td>\n",
       "      <td>...</td>\n",
       "      <td>...</td>\n",
       "      <td>...</td>\n",
       "      <td>...</td>\n",
       "      <td>...</td>\n",
       "      <td>...</td>\n",
       "      <td>...</td>\n",
       "      <td>...</td>\n",
       "      <td>...</td>\n",
       "      <td>...</td>\n",
       "      <td>...</td>\n",
       "    </tr>\n",
       "    <tr>\n",
       "      <th>7367</th>\n",
       "      <td>XRAY</td>\n",
       "      <td>2019-12-31</td>\n",
       "      <td>197.198245</td>\n",
       "      <td>1.773366</td>\n",
       "      <td>4.074675</td>\n",
       "      <td>0.101090</td>\n",
       "      <td>520.351878</td>\n",
       "      <td>0.008993</td>\n",
       "      <td>0.990733</td>\n",
       "      <td>0.088959</td>\n",
       "      <td>1.990733</td>\n",
       "      <td>1</td>\n",
       "    </tr>\n",
       "    <tr>\n",
       "      <th>7368</th>\n",
       "      <td>XRAY</td>\n",
       "      <td>2019-09-30</td>\n",
       "      <td>434.443223</td>\n",
       "      <td>1.833476</td>\n",
       "      <td>26.970165</td>\n",
       "      <td>0.116104</td>\n",
       "      <td>445.294066</td>\n",
       "      <td>0.004220</td>\n",
       "      <td>0.816937</td>\n",
       "      <td>0.036349</td>\n",
       "      <td>1.816937</td>\n",
       "      <td>0</td>\n",
       "    </tr>\n",
       "    <tr>\n",
       "      <th>7369</th>\n",
       "      <td>XRAY</td>\n",
       "      <td>2019-06-30</td>\n",
       "      <td>450.749855</td>\n",
       "      <td>1.958479</td>\n",
       "      <td>26.970165</td>\n",
       "      <td>0.104921</td>\n",
       "      <td>447.986379</td>\n",
       "      <td>0.004345</td>\n",
       "      <td>0.760390</td>\n",
       "      <td>0.041411</td>\n",
       "      <td>1.760390</td>\n",
       "      <td>1</td>\n",
       "    </tr>\n",
       "    <tr>\n",
       "      <th>7370</th>\n",
       "      <td>XRAY</td>\n",
       "      <td>2019-03-31</td>\n",
       "      <td>8354.720484</td>\n",
       "      <td>1.679904</td>\n",
       "      <td>26.970165</td>\n",
       "      <td>0.118376</td>\n",
       "      <td>407.148055</td>\n",
       "      <td>0.000201</td>\n",
       "      <td>0.777601</td>\n",
       "      <td>0.001699</td>\n",
       "      <td>1.777601</td>\n",
       "      <td>0</td>\n",
       "    </tr>\n",
       "    <tr>\n",
       "      <th>7371</th>\n",
       "      <td>XRAY</td>\n",
       "      <td>2018-12-31</td>\n",
       "      <td>407.346079</td>\n",
       "      <td>1.332752</td>\n",
       "      <td>26.970165</td>\n",
       "      <td>0.107350</td>\n",
       "      <td>119.062181</td>\n",
       "      <td>0.003272</td>\n",
       "      <td>0.862399</td>\n",
       "      <td>0.030478</td>\n",
       "      <td>1.863270</td>\n",
       "      <td>0</td>\n",
       "    </tr>\n",
       "  </tbody>\n",
       "</table>\n",
       "<p>7372 rows × 12 columns</p>\n",
       "</div>"
      ],
      "text/plain": [
       "     Stock fiscalDateEnding          PER       PBV  Acid_test       ATR  \\\n",
       "0        A       2023-06-30   117.226398  3.280427  26.970165  0.156505   \n",
       "1        A       2023-03-31   115.687540  3.729464  12.466387  0.159538   \n",
       "2        A       2022-12-31   119.300078  4.168480  76.111111  0.174041   \n",
       "3        A       2022-09-30   108.403277  3.401820  14.888889  0.163201   \n",
       "4        A       2022-06-30   128.247944  3.361065  15.462857  0.151698   \n",
       "...    ...              ...          ...       ...        ...       ...   \n",
       "7367  XRAY       2019-12-31   197.198245  1.773366   4.074675  0.101090   \n",
       "7368  XRAY       2019-09-30   434.443223  1.833476  26.970165  0.116104   \n",
       "7369  XRAY       2019-06-30   450.749855  1.958479  26.970165  0.104921   \n",
       "7370  XRAY       2019-03-31  8354.720484  1.679904  26.970165  0.118376   \n",
       "7371  XRAY       2018-12-31   407.346079  1.332752  26.970165  0.107350   \n",
       "\n",
       "             CCC       ROA       DER       NPM        EM  Return  \n",
       "0     484.824339  0.027984  0.866805  0.178804  1.866805       1  \n",
       "1     473.104821  0.032237  0.946693  0.202067  1.946693       1  \n",
       "2     425.001250  0.034941  0.985297  0.200764  1.985297       1  \n",
       "3     419.650125  0.031381  1.059320  0.192285  2.059320       0  \n",
       "4     416.910303  0.026208  1.041195  0.172762  2.041195       0  \n",
       "...          ...       ...       ...       ...       ...     ...  \n",
       "7367  520.351878  0.008993  0.990733  0.088959  1.990733       1  \n",
       "7368  445.294066  0.004220  0.816937  0.036349  1.816937       0  \n",
       "7369  447.986379  0.004345  0.760390  0.041411  1.760390       1  \n",
       "7370  407.148055  0.000201  0.777601  0.001699  1.777601       0  \n",
       "7371  119.062181  0.003272  0.862399  0.030478  1.863270       0  \n",
       "\n",
       "[7372 rows x 12 columns]"
      ]
     },
     "execution_count": 432,
     "metadata": {},
     "output_type": "execute_result"
    }
   ],
   "source": [
    "data = pd.read_csv('data.csv').drop('Unnamed: 0', axis=1)\n",
    "data"
   ]
  },
  {
   "cell_type": "code",
   "execution_count": 192,
   "id": "d70ce173",
   "metadata": {},
   "outputs": [],
   "source": [
    "from locale import setlocale, LC_TIME\n",
    "setlocale(LC_TIME, 'en_US.UTF-8')\n",
    "data['fiscalDateEnding'] = pd.to_datetime(data['fiscalDateEnding'], format='%Y-%m-%d')"
   ]
  },
  {
   "cell_type": "code",
   "execution_count": 198,
   "id": "0e025a77",
   "metadata": {},
   "outputs": [
    {
     "data": {
      "text/plain": [
       "array(['2018-12-31T00:00:00.000000000', '2019-03-31T00:00:00.000000000',\n",
       "       '2019-06-30T00:00:00.000000000', '2019-09-30T00:00:00.000000000',\n",
       "       '2019-12-31T00:00:00.000000000', '2020-03-31T00:00:00.000000000',\n",
       "       '2020-06-30T00:00:00.000000000', '2020-09-30T00:00:00.000000000',\n",
       "       '2020-12-31T00:00:00.000000000', '2021-03-31T00:00:00.000000000',\n",
       "       '2021-06-30T00:00:00.000000000', '2021-09-30T00:00:00.000000000',\n",
       "       '2021-12-31T00:00:00.000000000', '2022-03-31T00:00:00.000000000',\n",
       "       '2022-06-30T00:00:00.000000000', '2022-09-30T00:00:00.000000000',\n",
       "       '2022-12-31T00:00:00.000000000', '2023-03-31T00:00:00.000000000',\n",
       "       '2023-06-30T00:00:00.000000000'], dtype='datetime64[ns]')"
      ]
     },
     "execution_count": 198,
     "metadata": {},
     "output_type": "execute_result"
    }
   ],
   "source": [
    "dates = data['fiscalDateEnding'].unique()[::-1]\n",
    "dates"
   ]
  },
  {
   "cell_type": "code",
   "execution_count": 395,
   "id": "10cd3288",
   "metadata": {},
   "outputs": [
    {
     "data": {
      "text/plain": [
       "0"
      ]
     },
     "execution_count": 395,
     "metadata": {},
     "output_type": "execute_result"
    }
   ],
   "source": [
    "stock_pool = data[data['fiscalDateEnding']==dates[2]]\n",
    "portfolio = []\n",
    "initial_capital = 1000000\n",
    "sample = stock_pool.sample(n=1)\n",
    "stock_fundamentals = sample.drop(['Stock', 'fiscalDateEnding', 'Return'], axis=1)\n",
    "is_worth_investing = loaded_model.predict(stock_fundamentals)[0]\n",
    "is_worth_investing"
   ]
  },
  {
   "cell_type": "code",
   "execution_count": 433,
   "id": "7d0c52af",
   "metadata": {},
   "outputs": [],
   "source": [
    "data['Yhat'] = loaded_model.predict(data.drop(['Stock', 'fiscalDateEnding', 'Return'], axis=1))[0]"
   ]
  },
  {
   "cell_type": "code",
   "execution_count": 437,
   "id": "d3350ede",
   "metadata": {},
   "outputs": [
    {
     "data": {
      "text/plain": [
       "array([1])"
      ]
     },
     "execution_count": 437,
     "metadata": {},
     "output_type": "execute_result"
    }
   ],
   "source": [
    "data['Yhat'].unique()"
   ]
  },
  {
   "cell_type": "code",
   "execution_count": 207,
   "id": "f59522a6",
   "metadata": {},
   "outputs": [
    {
     "ename": "KeyboardInterrupt",
     "evalue": "",
     "output_type": "error",
     "traceback": [
      "\u001b[0;31m---------------------------------------------------------------------------\u001b[0m",
      "\u001b[0;31mKeyboardInterrupt\u001b[0m                         Traceback (most recent call last)",
      "Cell \u001b[0;32mIn[207], line 9\u001b[0m\n\u001b[1;32m      7\u001b[0m stock \u001b[38;5;241m=\u001b[39m sample[[\u001b[38;5;124m'\u001b[39m\u001b[38;5;124mStock\u001b[39m\u001b[38;5;124m'\u001b[39m]]\u001b[38;5;241m.\u001b[39miloc[\u001b[38;5;241m0\u001b[39m,\u001b[38;5;241m0\u001b[39m]\n\u001b[1;32m      8\u001b[0m stock_fundamentals \u001b[38;5;241m=\u001b[39m sample\u001b[38;5;241m.\u001b[39mdrop([\u001b[38;5;124m'\u001b[39m\u001b[38;5;124mStock\u001b[39m\u001b[38;5;124m'\u001b[39m, \u001b[38;5;124m'\u001b[39m\u001b[38;5;124mfiscalDateEnding\u001b[39m\u001b[38;5;124m'\u001b[39m, \u001b[38;5;124m'\u001b[39m\u001b[38;5;124mReturn\u001b[39m\u001b[38;5;124m'\u001b[39m], axis\u001b[38;5;241m=\u001b[39m\u001b[38;5;241m1\u001b[39m)\n\u001b[0;32m----> 9\u001b[0m is_worth_investing \u001b[38;5;241m=\u001b[39m loaded_model\u001b[38;5;241m.\u001b[39mpredict(stock_fundamentals)[\u001b[38;5;241m0\u001b[39m]\n\u001b[1;32m     10\u001b[0m \u001b[38;5;28;01mif\u001b[39;00m is_worth_investing \u001b[38;5;241m==\u001b[39m \u001b[38;5;241m1\u001b[39m:\n\u001b[1;32m     11\u001b[0m     portfolio\u001b[38;5;241m.\u001b[39mappend(stock)\n",
      "File \u001b[0;32m~/anaconda3/lib/python3.11/site-packages/sklearn/ensemble/_bagging.py:827\u001b[0m, in \u001b[0;36mBaggingClassifier.predict\u001b[0;34m(self, X)\u001b[0m\n\u001b[1;32m    809\u001b[0m \u001b[38;5;28;01mdef\u001b[39;00m \u001b[38;5;21mpredict\u001b[39m(\u001b[38;5;28mself\u001b[39m, X):\n\u001b[1;32m    810\u001b[0m \u001b[38;5;250m    \u001b[39m\u001b[38;5;124;03m\"\"\"Predict class for X.\u001b[39;00m\n\u001b[1;32m    811\u001b[0m \n\u001b[1;32m    812\u001b[0m \u001b[38;5;124;03m    The predicted class of an input sample is computed as the class with\u001b[39;00m\n\u001b[0;32m   (...)\u001b[0m\n\u001b[1;32m    825\u001b[0m \u001b[38;5;124;03m        The predicted classes.\u001b[39;00m\n\u001b[1;32m    826\u001b[0m \u001b[38;5;124;03m    \"\"\"\u001b[39;00m\n\u001b[0;32m--> 827\u001b[0m     predicted_probabilitiy \u001b[38;5;241m=\u001b[39m \u001b[38;5;28mself\u001b[39m\u001b[38;5;241m.\u001b[39mpredict_proba(X)\n\u001b[1;32m    828\u001b[0m     \u001b[38;5;28;01mreturn\u001b[39;00m \u001b[38;5;28mself\u001b[39m\u001b[38;5;241m.\u001b[39mclasses_\u001b[38;5;241m.\u001b[39mtake((np\u001b[38;5;241m.\u001b[39margmax(predicted_probabilitiy, axis\u001b[38;5;241m=\u001b[39m\u001b[38;5;241m1\u001b[39m)), axis\u001b[38;5;241m=\u001b[39m\u001b[38;5;241m0\u001b[39m)\n",
      "File \u001b[0;32m~/anaconda3/lib/python3.11/site-packages/sklearn/ensemble/_bagging.py:854\u001b[0m, in \u001b[0;36mBaggingClassifier.predict_proba\u001b[0;34m(self, X)\u001b[0m\n\u001b[1;32m    852\u001b[0m check_is_fitted(\u001b[38;5;28mself\u001b[39m)\n\u001b[1;32m    853\u001b[0m \u001b[38;5;66;03m# Check data\u001b[39;00m\n\u001b[0;32m--> 854\u001b[0m X \u001b[38;5;241m=\u001b[39m \u001b[38;5;28mself\u001b[39m\u001b[38;5;241m.\u001b[39m_validate_data(\n\u001b[1;32m    855\u001b[0m     X,\n\u001b[1;32m    856\u001b[0m     accept_sparse\u001b[38;5;241m=\u001b[39m[\u001b[38;5;124m\"\u001b[39m\u001b[38;5;124mcsr\u001b[39m\u001b[38;5;124m\"\u001b[39m, \u001b[38;5;124m\"\u001b[39m\u001b[38;5;124mcsc\u001b[39m\u001b[38;5;124m\"\u001b[39m],\n\u001b[1;32m    857\u001b[0m     dtype\u001b[38;5;241m=\u001b[39m\u001b[38;5;28;01mNone\u001b[39;00m,\n\u001b[1;32m    858\u001b[0m     force_all_finite\u001b[38;5;241m=\u001b[39m\u001b[38;5;28;01mFalse\u001b[39;00m,\n\u001b[1;32m    859\u001b[0m     reset\u001b[38;5;241m=\u001b[39m\u001b[38;5;28;01mFalse\u001b[39;00m,\n\u001b[1;32m    860\u001b[0m )\n\u001b[1;32m    862\u001b[0m \u001b[38;5;66;03m# Parallel loop\u001b[39;00m\n\u001b[1;32m    863\u001b[0m n_jobs, _, starts \u001b[38;5;241m=\u001b[39m _partition_estimators(\u001b[38;5;28mself\u001b[39m\u001b[38;5;241m.\u001b[39mn_estimators, \u001b[38;5;28mself\u001b[39m\u001b[38;5;241m.\u001b[39mn_jobs)\n",
      "File \u001b[0;32m~/anaconda3/lib/python3.11/site-packages/sklearn/base.py:604\u001b[0m, in \u001b[0;36mBaseEstimator._validate_data\u001b[0;34m(self, X, y, reset, validate_separately, cast_to_ndarray, **check_params)\u001b[0m\n\u001b[1;32m    602\u001b[0m         out \u001b[38;5;241m=\u001b[39m X, y\n\u001b[1;32m    603\u001b[0m \u001b[38;5;28;01melif\u001b[39;00m \u001b[38;5;129;01mnot\u001b[39;00m no_val_X \u001b[38;5;129;01mand\u001b[39;00m no_val_y:\n\u001b[0;32m--> 604\u001b[0m     out \u001b[38;5;241m=\u001b[39m check_array(X, input_name\u001b[38;5;241m=\u001b[39m\u001b[38;5;124m\"\u001b[39m\u001b[38;5;124mX\u001b[39m\u001b[38;5;124m\"\u001b[39m, \u001b[38;5;241m*\u001b[39m\u001b[38;5;241m*\u001b[39mcheck_params)\n\u001b[1;32m    605\u001b[0m \u001b[38;5;28;01melif\u001b[39;00m no_val_X \u001b[38;5;129;01mand\u001b[39;00m \u001b[38;5;129;01mnot\u001b[39;00m no_val_y:\n\u001b[1;32m    606\u001b[0m     out \u001b[38;5;241m=\u001b[39m _check_y(y, \u001b[38;5;241m*\u001b[39m\u001b[38;5;241m*\u001b[39mcheck_params)\n",
      "File \u001b[0;32m~/anaconda3/lib/python3.11/site-packages/sklearn/utils/validation.py:792\u001b[0m, in \u001b[0;36mcheck_array\u001b[0;34m(array, accept_sparse, accept_large_sparse, dtype, order, copy, force_all_finite, ensure_2d, allow_nd, ensure_min_samples, ensure_min_features, estimator, input_name)\u001b[0m\n\u001b[1;32m    786\u001b[0m     \u001b[38;5;28;01mif\u001b[39;00m \u001b[38;5;129;01mnot\u001b[39;00m \u001b[38;5;28mhasattr\u001b[39m(array, \u001b[38;5;124m\"\u001b[39m\u001b[38;5;124msparse\u001b[39m\u001b[38;5;124m\"\u001b[39m) \u001b[38;5;129;01mand\u001b[39;00m array\u001b[38;5;241m.\u001b[39mdtypes\u001b[38;5;241m.\u001b[39mapply(is_sparse)\u001b[38;5;241m.\u001b[39many():\n\u001b[1;32m    787\u001b[0m         warnings\u001b[38;5;241m.\u001b[39mwarn(\n\u001b[1;32m    788\u001b[0m             \u001b[38;5;124m\"\u001b[39m\u001b[38;5;124mpandas.DataFrame with sparse columns found.\u001b[39m\u001b[38;5;124m\"\u001b[39m\n\u001b[1;32m    789\u001b[0m             \u001b[38;5;124m\"\u001b[39m\u001b[38;5;124mIt will be converted to a dense numpy array.\u001b[39m\u001b[38;5;124m\"\u001b[39m\n\u001b[1;32m    790\u001b[0m         )\n\u001b[0;32m--> 792\u001b[0m dtypes_orig \u001b[38;5;241m=\u001b[39m \u001b[38;5;28mlist\u001b[39m(array\u001b[38;5;241m.\u001b[39mdtypes)\n\u001b[1;32m    793\u001b[0m pandas_requires_conversion \u001b[38;5;241m=\u001b[39m \u001b[38;5;28many\u001b[39m(\n\u001b[1;32m    794\u001b[0m     _pandas_dtype_needs_early_conversion(i) \u001b[38;5;28;01mfor\u001b[39;00m i \u001b[38;5;129;01min\u001b[39;00m dtypes_orig\n\u001b[1;32m    795\u001b[0m )\n\u001b[1;32m    796\u001b[0m \u001b[38;5;28;01mif\u001b[39;00m \u001b[38;5;28mall\u001b[39m(\u001b[38;5;28misinstance\u001b[39m(dtype_iter, np\u001b[38;5;241m.\u001b[39mdtype) \u001b[38;5;28;01mfor\u001b[39;00m dtype_iter \u001b[38;5;129;01min\u001b[39;00m dtypes_orig):\n",
      "File \u001b[0;32m~/anaconda3/lib/python3.11/site-packages/pandas/core/generic.py:6074\u001b[0m, in \u001b[0;36mNDFrame.dtypes\u001b[0;34m(self)\u001b[0m\n\u001b[1;32m   6047\u001b[0m \u001b[38;5;250m\u001b[39m\u001b[38;5;124;03m\"\"\"\u001b[39;00m\n\u001b[1;32m   6048\u001b[0m \u001b[38;5;124;03mReturn the dtypes in the DataFrame.\u001b[39;00m\n\u001b[1;32m   6049\u001b[0m \n\u001b[0;32m   (...)\u001b[0m\n\u001b[1;32m   6071\u001b[0m \u001b[38;5;124;03mdtype: object\u001b[39;00m\n\u001b[1;32m   6072\u001b[0m \u001b[38;5;124;03m\"\"\"\u001b[39;00m\n\u001b[1;32m   6073\u001b[0m data \u001b[38;5;241m=\u001b[39m \u001b[38;5;28mself\u001b[39m\u001b[38;5;241m.\u001b[39m_mgr\u001b[38;5;241m.\u001b[39mget_dtypes()\n\u001b[0;32m-> 6074\u001b[0m \u001b[38;5;28;01mreturn\u001b[39;00m \u001b[38;5;28mself\u001b[39m\u001b[38;5;241m.\u001b[39m_constructor_sliced(data, index\u001b[38;5;241m=\u001b[39m\u001b[38;5;28mself\u001b[39m\u001b[38;5;241m.\u001b[39m_info_axis, dtype\u001b[38;5;241m=\u001b[39mnp\u001b[38;5;241m.\u001b[39mobject_)\n",
      "File \u001b[0;32m~/anaconda3/lib/python3.11/site-packages/pandas/core/series.py:483\u001b[0m, in \u001b[0;36mSeries.__init__\u001b[0;34m(self, data, index, dtype, name, copy, fastpath)\u001b[0m\n\u001b[1;32m    481\u001b[0m     \u001b[38;5;28mobject\u001b[39m\u001b[38;5;241m.\u001b[39m\u001b[38;5;21m__setattr__\u001b[39m(\u001b[38;5;28mself\u001b[39m, \u001b[38;5;124m\"\u001b[39m\u001b[38;5;124m_name\u001b[39m\u001b[38;5;124m\"\u001b[39m, name)\n\u001b[1;32m    482\u001b[0m \u001b[38;5;28;01melse\u001b[39;00m:\n\u001b[0;32m--> 483\u001b[0m     \u001b[38;5;28mself\u001b[39m\u001b[38;5;241m.\u001b[39mname \u001b[38;5;241m=\u001b[39m name\n\u001b[1;32m    484\u001b[0m     \u001b[38;5;28mself\u001b[39m\u001b[38;5;241m.\u001b[39m_set_axis(\u001b[38;5;241m0\u001b[39m, index)\n",
      "File \u001b[0;32m~/anaconda3/lib/python3.11/site-packages/pandas/core/generic.py:5924\u001b[0m, in \u001b[0;36mNDFrame.__setattr__\u001b[0;34m(self, name, value)\u001b[0m\n\u001b[1;32m   5922\u001b[0m     \u001b[38;5;28mobject\u001b[39m\u001b[38;5;241m.\u001b[39m\u001b[38;5;21m__setattr__\u001b[39m(\u001b[38;5;28mself\u001b[39m, name, value)\n\u001b[1;32m   5923\u001b[0m \u001b[38;5;28;01melif\u001b[39;00m name \u001b[38;5;129;01min\u001b[39;00m \u001b[38;5;28mself\u001b[39m\u001b[38;5;241m.\u001b[39m_metadata:\n\u001b[0;32m-> 5924\u001b[0m     \u001b[38;5;28mobject\u001b[39m\u001b[38;5;241m.\u001b[39m\u001b[38;5;21m__setattr__\u001b[39m(\u001b[38;5;28mself\u001b[39m, name, value)\n\u001b[1;32m   5925\u001b[0m \u001b[38;5;28;01melse\u001b[39;00m:\n\u001b[1;32m   5926\u001b[0m     \u001b[38;5;28;01mtry\u001b[39;00m:\n",
      "File \u001b[0;32m~/anaconda3/lib/python3.11/site-packages/pandas/core/series.py:663\u001b[0m, in \u001b[0;36mSeries.name\u001b[0;34m(self, value)\u001b[0m\n\u001b[1;32m    661\u001b[0m \u001b[38;5;129m@name\u001b[39m\u001b[38;5;241m.\u001b[39msetter\n\u001b[1;32m    662\u001b[0m \u001b[38;5;28;01mdef\u001b[39;00m \u001b[38;5;21mname\u001b[39m(\u001b[38;5;28mself\u001b[39m, value: Hashable) \u001b[38;5;241m-\u001b[39m\u001b[38;5;241m>\u001b[39m \u001b[38;5;28;01mNone\u001b[39;00m:\n\u001b[0;32m--> 663\u001b[0m     validate_all_hashable(value, error_name\u001b[38;5;241m=\u001b[39m\u001b[38;5;124mf\u001b[39m\u001b[38;5;124m\"\u001b[39m\u001b[38;5;132;01m{\u001b[39;00m\u001b[38;5;28mtype\u001b[39m(\u001b[38;5;28mself\u001b[39m)\u001b[38;5;241m.\u001b[39m\u001b[38;5;18m__name__\u001b[39m\u001b[38;5;132;01m}\u001b[39;00m\u001b[38;5;124m.name\u001b[39m\u001b[38;5;124m\"\u001b[39m)\n\u001b[1;32m    664\u001b[0m     \u001b[38;5;28mobject\u001b[39m\u001b[38;5;241m.\u001b[39m\u001b[38;5;21m__setattr__\u001b[39m(\u001b[38;5;28mself\u001b[39m, \u001b[38;5;124m\"\u001b[39m\u001b[38;5;124m_name\u001b[39m\u001b[38;5;124m\"\u001b[39m, value)\n",
      "File \u001b[0;32m~/anaconda3/lib/python3.11/site-packages/pandas/core/dtypes/common.py:1744\u001b[0m, in \u001b[0;36mvalidate_all_hashable\u001b[0;34m(error_name, *args)\u001b[0m\n\u001b[1;32m   1725\u001b[0m \u001b[38;5;28;01mdef\u001b[39;00m \u001b[38;5;21mvalidate_all_hashable\u001b[39m(\u001b[38;5;241m*\u001b[39margs, error_name: \u001b[38;5;28mstr\u001b[39m \u001b[38;5;241m|\u001b[39m \u001b[38;5;28;01mNone\u001b[39;00m \u001b[38;5;241m=\u001b[39m \u001b[38;5;28;01mNone\u001b[39;00m) \u001b[38;5;241m-\u001b[39m\u001b[38;5;241m>\u001b[39m \u001b[38;5;28;01mNone\u001b[39;00m:\n\u001b[1;32m   1726\u001b[0m \u001b[38;5;250m    \u001b[39m\u001b[38;5;124;03m\"\"\"\u001b[39;00m\n\u001b[1;32m   1727\u001b[0m \u001b[38;5;124;03m    Return None if all args are hashable, else raise a TypeError.\u001b[39;00m\n\u001b[1;32m   1728\u001b[0m \n\u001b[0;32m   (...)\u001b[0m\n\u001b[1;32m   1742\u001b[0m \u001b[38;5;124;03m    None\u001b[39;00m\n\u001b[1;32m   1743\u001b[0m \u001b[38;5;124;03m    \"\"\"\u001b[39;00m\n\u001b[0;32m-> 1744\u001b[0m     \u001b[38;5;28;01mif\u001b[39;00m \u001b[38;5;129;01mnot\u001b[39;00m \u001b[38;5;28mall\u001b[39m(is_hashable(arg) \u001b[38;5;28;01mfor\u001b[39;00m arg \u001b[38;5;129;01min\u001b[39;00m args):\n\u001b[1;32m   1745\u001b[0m         \u001b[38;5;28;01mif\u001b[39;00m error_name:\n\u001b[1;32m   1746\u001b[0m             \u001b[38;5;28;01mraise\u001b[39;00m \u001b[38;5;167;01mTypeError\u001b[39;00m(\u001b[38;5;124mf\u001b[39m\u001b[38;5;124m\"\u001b[39m\u001b[38;5;132;01m{\u001b[39;00merror_name\u001b[38;5;132;01m}\u001b[39;00m\u001b[38;5;124m must be a hashable type\u001b[39m\u001b[38;5;124m\"\u001b[39m)\n",
      "File \u001b[0;32m~/anaconda3/lib/python3.11/site-packages/pandas/core/dtypes/common.py:1744\u001b[0m, in \u001b[0;36m<genexpr>\u001b[0;34m(.0)\u001b[0m\n\u001b[1;32m   1725\u001b[0m \u001b[38;5;28;01mdef\u001b[39;00m \u001b[38;5;21mvalidate_all_hashable\u001b[39m(\u001b[38;5;241m*\u001b[39margs, error_name: \u001b[38;5;28mstr\u001b[39m \u001b[38;5;241m|\u001b[39m \u001b[38;5;28;01mNone\u001b[39;00m \u001b[38;5;241m=\u001b[39m \u001b[38;5;28;01mNone\u001b[39;00m) \u001b[38;5;241m-\u001b[39m\u001b[38;5;241m>\u001b[39m \u001b[38;5;28;01mNone\u001b[39;00m:\n\u001b[1;32m   1726\u001b[0m \u001b[38;5;250m    \u001b[39m\u001b[38;5;124;03m\"\"\"\u001b[39;00m\n\u001b[1;32m   1727\u001b[0m \u001b[38;5;124;03m    Return None if all args are hashable, else raise a TypeError.\u001b[39;00m\n\u001b[1;32m   1728\u001b[0m \n\u001b[0;32m   (...)\u001b[0m\n\u001b[1;32m   1742\u001b[0m \u001b[38;5;124;03m    None\u001b[39;00m\n\u001b[1;32m   1743\u001b[0m \u001b[38;5;124;03m    \"\"\"\u001b[39;00m\n\u001b[0;32m-> 1744\u001b[0m     \u001b[38;5;28;01mif\u001b[39;00m \u001b[38;5;129;01mnot\u001b[39;00m \u001b[38;5;28mall\u001b[39m(is_hashable(arg) \u001b[38;5;28;01mfor\u001b[39;00m arg \u001b[38;5;129;01min\u001b[39;00m args):\n\u001b[1;32m   1745\u001b[0m         \u001b[38;5;28;01mif\u001b[39;00m error_name:\n\u001b[1;32m   1746\u001b[0m             \u001b[38;5;28;01mraise\u001b[39;00m \u001b[38;5;167;01mTypeError\u001b[39;00m(\u001b[38;5;124mf\u001b[39m\u001b[38;5;124m\"\u001b[39m\u001b[38;5;132;01m{\u001b[39;00merror_name\u001b[38;5;132;01m}\u001b[39;00m\u001b[38;5;124m must be a hashable type\u001b[39m\u001b[38;5;124m\"\u001b[39m)\n",
      "\u001b[0;31mKeyboardInterrupt\u001b[0m: "
     ]
    }
   ],
   "source": [
    "for i in range(len(dates)):\n",
    "    stock_pool = data[data['fiscalDateEnding']==dates[i]]\n",
    "    portfolio = []\n",
    "    initial_capital = 1000000\n",
    "    while len(portfolio) < 5:\n",
    "        sample = stock_pool.sample(n=1)\n",
    "        stock = sample[['Stock']].iloc[0,0]\n",
    "        stock_fundamentals = sample.drop(['Stock', 'fiscalDateEnding', 'Return'], axis=1)\n",
    "        is_worth_investing = loaded_model.predict(stock_fundamentals)[0]\n",
    "        if is_worth_investing == 1:\n",
    "            portfolio.append(stock)\n",
    "        else:\n",
    "            pass"
   ]
  },
  {
   "cell_type": "code",
   "execution_count": 208,
   "id": "4b80bbe6",
   "metadata": {},
   "outputs": [
    {
     "data": {
      "text/plain": [
       "[]"
      ]
     },
     "execution_count": 208,
     "metadata": {},
     "output_type": "execute_result"
    }
   ],
   "source": [
    "portfolio"
   ]
  },
  {
   "cell_type": "code",
   "execution_count": 205,
   "id": "2839f3db",
   "metadata": {},
   "outputs": [],
   "source": [
    "import AssetAllocation as AA"
   ]
  },
  {
   "cell_type": "code",
   "execution_count": null,
   "id": "95ca11ab",
   "metadata": {},
   "outputs": [],
   "source": [
    "for i in range(len(dates)):\n",
    "    stock_pool = data[data['fiscalDateEnding']==dates[i]]\n",
    "    portfolio = []\n",
    "    initial_capital = 1000000\n",
    "    while len(portfolio) < 5:\n",
    "        sample = stock_pool.sample(n=1)\n",
    "        stock = sample[['Stock']].iloc[0,0]\n",
    "        stock_fundamentals = sample.drop(['Stock', 'fiscalDateEnding', 'Return'], axis=1)\n",
    "        is_worth_investing = loaded_model.predict(stock_fundamentals)[0]\n",
    "        if is_worth_investing == 1:\n",
    "            portfolio.append(stock)\n",
    "        else:\n",
    "            pass\n",
    "    "
   ]
  },
  {
   "cell_type": "code",
   "execution_count": 172,
   "id": "333a947c",
   "metadata": {},
   "outputs": [
    {
     "name": "stdout",
     "output_type": "stream",
     "text": [
      "['MO', 'META', 'CTRA', 'CPRT', 'CARR']\n"
     ]
    }
   ],
   "source": [
    "portfolio = []\n",
    "while len(portfolio) < 5:\n",
    "    sample = most_recent_stock_info.sample(n=1)\n",
    "    stock = sample[['Stock']].iloc[0,0]\n",
    "    stock_fundamentals = sample.drop(['Stock', 'fiscalDateEnding', 'Return'], axis=1)\n",
    "    is_worth_investing = loaded_model.predict(stock_fundamentals)[0]\n",
    "    if is_worth_investing == 1:\n",
    "        portfolio.append(stock)\n",
    "    else:\n",
    "        pass\n",
    "print(portfolio)"
   ]
  },
  {
   "cell_type": "code",
   "execution_count": 159,
   "id": "8b515d7a",
   "metadata": {},
   "outputs": [],
   "source": [
    "portfolio = []\n",
    "a = 5\n",
    "is_worth_investing = 1\n",
    "portfolio = portfolio.append(a) if is_worth_investing ==1 else portfolio"
   ]
  },
  {
   "cell_type": "code",
   "execution_count": 163,
   "id": "48a89a40",
   "metadata": {},
   "outputs": [],
   "source": [
    "portfolio = []\n",
    "portfolio = portfolio.append(5)"
   ]
  },
  {
   "cell_type": "code",
   "execution_count": 164,
   "id": "724eb960",
   "metadata": {},
   "outputs": [],
   "source": [
    "portfolio"
   ]
  }
 ],
 "metadata": {
  "kernelspec": {
   "display_name": "Python 3 (ipykernel)",
   "language": "python",
   "name": "python3"
  },
  "language_info": {
   "codemirror_mode": {
    "name": "ipython",
    "version": 3
   },
   "file_extension": ".py",
   "mimetype": "text/x-python",
   "name": "python",
   "nbconvert_exporter": "python",
   "pygments_lexer": "ipython3",
   "version": "3.11.4"
  }
 },
 "nbformat": 4,
 "nbformat_minor": 5
}
