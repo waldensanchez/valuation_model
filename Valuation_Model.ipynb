{
 "cells": [
  {
   "cell_type": "markdown",
   "id": "23983fde",
   "metadata": {},
   "source": [
    "# Optimización de Procesos de Inversión\n",
    "<img style=\"float: right; margin: 15px 15px 15px 15px;\" src=\"https://upload.wikimedia.org/wikipedia/commons/d/db/Logo_ITESO_normal.jpg\" title=\"git\" width=\"180\" height=\"50\">\n",
    "\n",
    "**Proyecto de Aplicación Profesional**\n",
    "\n",
    "#### Mtro. Nicolás Vázquez González\n",
    "\n",
    "\n",
    "### Equipo 1\n",
    "##### CASTILLO MEDA, LUCÍA\n",
    "##### GUTIÉRREZ VALDIVIA, JUAN CARLOS\n",
    "##### OROZCO GÓMEZ, DANIEL\n",
    "##### PONCE ANGUIANO, CARLOS DANIEL\n",
    "##### SÁNCHEZ PASZKO, JOSÉ WALDEN\n"
   ]
  },
  {
   "cell_type": "markdown",
   "id": "7acc96c0",
   "metadata": {},
   "source": [
    "## Primera Entrega\n",
    "**Definición y Alcance del Proyecto**\n"
   ]
  },
  {
   "cell_type": "markdown",
   "id": "5398a19e",
   "metadata": {},
   "source": [
    "### Proyecto 1: Selección y Evaluación de Activos\n",
    "\n",
    "> Objetivo: Automatizar el análisis bursátil en la selección de activos financieros.\n"
   ]
  },
  {
   "cell_type": "markdown",
   "id": "e430fa8d",
   "metadata": {},
   "source": [
    "<div class=\"alert alert-block alert-info\">\n",
    "<b>Introducción</b>\n",
    "</div>"
   ]
  },
  {
   "cell_type": "markdown",
   "id": "45a71010",
   "metadata": {},
   "source": [
    "La constante evolución de los mercados financieros y la creciente complejidad de la toma de decisiones de inversión han generado la necesidad de adoptar enfoques innovadores que optimicen la precisión y la eficiencia en la gestión de activos financieros. En este contexto, el presente proyecto surge como una propuesta ambiciosa para abordar esta problemática, a través de la implementación programática de un modelo matemático que integra el análisis fundamental con las tecnologías de vanguardia.\n",
    "\n",
    "La aplicación resultante de este proyecto se presenta como una solución innovadora que contribuirá a brindar a los profesionales del ámbito financiero una herramienta sólida y confiable para la toma de decisiones de inversión. Al aprovechar la potencia de la tecnología y los avances en el campo del análisis de datos, se espera que los usuarios puedan contar con información objetiva y precisa, respaldada por el rigor del análisis fundamental y la robustez de los modelos matemáticos.\n",
    "\n",
    "Es así que este proyecto de aplicación profesional propone una solución orientada a optimizar las decisiones de inversión en activos financieros a través de la implementación de un modelo matemático que combina el análisis fundamental con las capacidades tecnológicas actuales. La contribución de esta iniciativa reside en su potencial para revolucionar la manera en que los profesionales abordan la gestión de activos financieros, permitiéndoles tomar decisiones más informadas, eficientes y libres de sesgos cognitivos."
   ]
  },
  {
   "cell_type": "markdown",
   "id": "caf94d12",
   "metadata": {},
   "source": [
    "<div class=\"alert alert-block alert-info\">\n",
    "<b>Definición del Proyecto</b>\n",
    "</div>"
   ]
  },
  {
   "cell_type": "markdown",
   "id": "801d6502",
   "metadata": {},
   "source": [
    "El proyecto tiene como objetivo principal la creación de una aplicación profesional altamente especializada para la toma de decisiones de inversión en activos financieros. Para lograr esto, se empleará un enfoque de análisis fundamental, que se basa en la evaluación exhaustiva de diversos factores clave. Esto incluye el análisis de los estados financieros de las empresas, lo que permitirá una comprensión profunda de su salud económica y solidez financiera.\n",
    "\n",
    "Se utilizarán modelos y algoritmos que permitirán procesar grandes volúmenes de datos de manera eficiente y realizar análisis complejos en tiempo real. Uno de los objetivos clave es reducir significativamente el tiempo que los profesionales de inversión requieren para tomar decisiones informadas. Además, al utilizar un enfoque basado en datos y análisis cuantitativos, se busca eliminar el sesgo cognitivo inherente a las decisiones de inversión, lo que podría mejorar significativamente la calidad de las decisiones tomadas.\n",
    "\n",
    "Este proyecto busca revolucionar la forma en que se toman decisiones de inversión al combinar la experiencia humana con la potencia de la tecnología y la inteligencia artificial. En caso de encontrar un modelo que efectivamente sea capaz de emitir recomendaciones de inversión con base en los fundamentales, la aplicación resultante se convertirá en una herramienta esencial para los profesionales financieros, permitiéndoles tomar decisiones más fundamentadas y precisas en un mercado cada vez más complejo y dinámico."
   ]
  },
  {
   "cell_type": "markdown",
   "id": "c0662787",
   "metadata": {},
   "source": [
    "<div class=\"alert alert-block alert-info\">\n",
    "<b>Conceptos Básicos </b>\n",
    "</div>"
   ]
  },
  {
   "cell_type": "markdown",
   "id": "eb45d529",
   "metadata": {},
   "source": [
    "Con el propósito de establecer una base sólida para comprender las generalidades y alcances del proyecto, se presenta a continuación una sección dedicada a la definición de conceptos fundamentales en el ámbito financiero y tecnológico. Estos conceptos servirán como cimientos para una comprensión más profunda de la implementación programática del modelo matemático y el análisis fundamental en la toma de decisiones de inversión. Es entonces que a continuación se definen los siguientes tecnicismos:\n",
    "\n",
    "\n",
    "- *Análisis Fundamental:* Representa un enfoque exhaustivo que busca calcular el valor real de un título financiero a través de la evaluación detallada de los balances y estados financieros de una entidad. Este método compara este valor calculado con el precio actual de mercado del activo, con el fin de identificar posibles situaciones de infravaloración en un momento dado. Es importante tener en cuenta que tanto los resultados financieros como los precios experimentan cambios constantes, lo que implica que la cotización de un activo puede ser influenciada por una diversidad de factores, incluyendo los de naturaleza política y económica. El análisis fundamental se erige como una herramienta de gran relevancia para evaluar el riesgo financiero asociado a empresas, haciendo uso de un análisis minucioso del entorno en el que operan, la determinación de ratios financieros clave y la valoración intrínseca de las propias compañías. Es importante destacar que este enfoque se diferencia del análisis técnico, que se centra principalmente en el estudio de tendencias de mercado y gráficos bursátiles.\n",
    "\n",
    "\n",
    "- *Activo:* En el ámbito bursátil, se refiere a un instrumento que representa un valor económico y puede ser objeto de negociación en los mercados financieros. Estos activos representan derechos de propiedad o de deuda sobre una entidad, como una empresa, gobierno u otra entidad emisora. Los activos financieros pueden variar en naturaleza y características, incluyendo acciones, bonos, opciones, futuros, divisas y otros instrumentos financieros.\n",
    "\n",
    "\n",
    "- *Acción:* Representa una parte de la propiedad en la empresa emisora y otorga al titular el derecho a participar en las decisiones de la empresa y recibir una parte proporcional de las ganancias en forma de dividendos.\n",
    "\n",
    "\n",
    "- *Indices bursátiles:* medidas estadísticas que reflejan el rendimiento general de un grupo de activos financieros, como acciones o bonos, en un mercado financiero específico. Calculados mediante fórmulas ponderadas, estos brindan una visión general del comportamiento del mercado y ayudan a los inversores a comprender cómo se está desempeñando un grupo de acciones en relación con un período anterior o un mercado más amplio. Ejemplos incluyen el S&P 500 y el Dow Jones en EE. UU.\n",
    "\n",
    "\n",
    "- *Liquidez:* Se refiere a la facilidad con la que un activo financiero puede ser comprado o vendido en el mercado sin afectar significativamente su precio. Los activos líquidos son aquellos que pueden ser convertidos rápidamente en efectivo sin una disminución sustancial en su valor.\n",
    "\n",
    "\n",
    "- *Riesgo de mercado:* Se define como la posibilidad de pérdidas en el valor de inversiones debido a cambios generales en los mercados financieros, como fluctuaciones en precios de activos, tasas de interés o tipos de cambio. Es un riesgo no diversificable y se vincula a factores macroeconómicos que afectan ampliamente a las inversiones, independientemente de su naturaleza. Este riesgo es una preocupación inherente para los inversores, ya que los movimientos en los precios de los activos financieros pueden impactar negativamente el valor de una inversión, incluso si los activos en cuestión tienen fundamentos sólidos. El riesgo de mercado puede influir en activos de diferentes clases y sectores, lo que subraya la importancia de gestionarlo de manera efectiva. Los inversores abordan este riesgo mediante estrategias de asignación de activos, diversificación y, en algunos casos, mediante el uso de instrumentos financieros de cobertura, como futuros o opciones\n",
    "\n",
    "\n",
    "- *Sentimiento de mercado:* Actitud general o percepción emocional de los inversores y participantes de mercados financieros. Puede ser positivo, negativo o neutral, y a menudo influye en las decisiones de compra y venta de los inversores. Se basa en factores como noticias, tendencias económicas y opiniones públicas, y puede tener un impacto en la volatilidad de los precios y en las tendencias del mercado. \n",
    "\n",
    "\n",
    "- *Ciclo económico:* Es la fluctuación periódica de la actividad económica en una economía, que incluye fases de expansión y contracción. Las fases incluyen el auge, la recesión, la depresión y la recuperación, y están influenciadas por factores económicos y políticos.\n",
    "\n",
    "\n",
    "- *Parsimonía:* En el contexto del análisis y modelado, alude al principio de que un modelo simple que explica los datos de manera efectiva es preferible a un modelo más complejo si no proporciona una mejora sustancial en la comprensión o la predicción.\n",
    "\n",
    "\n",
    "- *Aprendizaje Supervisado:* Es un enfoque dentro del campo del machine learning donde se entrena un modelo utilizando un conjunto de datos etiquetados, es decir, datos donde la respuesta o el resultado deseado está previamente conocido. El modelo utiliza esta información para aprender a hacer predicciones o tomar decisiones sobre nuevos datos no vistos previamente. En el contexto financiero, esto podría implicar la creación de un modelo que \"aprende\" a hacer recomendaciones de inversión al comparar los datos históricos de activos financieros con sus resultados reales de rendimiento."
   ]
  },
  {
   "cell_type": "markdown",
   "id": "4e28dd21",
   "metadata": {},
   "source": [
    "<div class=\"alert alert-block alert-info\">\n",
    "<b>Flujo de Trabajo del Proyecto</b>\n",
    "</div>"
   ]
  },
  {
   "cell_type": "markdown",
   "id": "8e88554a",
   "metadata": {},
   "source": [
    "Para lograr la implementación exitosa de este proyecto, se establecerá un flujo de trabajo riguroso y estructurado que abarcará desde la recopilación y procesamiento de datos hasta la generación y evaluación de recomendaciones de inversión. El proceso comenzará con la obtención de datos financieros relevantes, que posteriormente serán sometidos a un proceso de limpieza y transformación para asegurar su calidad y consistencia. A continuación, se desarrollarán modelos matemáticos avanzados que analizarán de manera integral los factores clave que influyen en la valoración de los activos financieros. Estos modelos permitirán generar recomendaciones basadas en evidencia objetiva y establecerán criterios cuantitativos para la toma de decisiones. Finalmente, se implementará una interfaz de usuario intuitiva que presentará de manera clara y concisa las recomendaciones generadas. Este enfoque de flujo de trabajo garantiza la coherencia y la precisión en todas las etapas del proceso, brindando confiabilidad y eficacia a la aplicación desarrollada.\n",
    "\n",
    "A continuación, se muestra un esquema que visualiza de manera clara el flujo de trabajo propuesto para la implementación del proyecto; más delante se encuentra también la asignación de las tareas a cada una de las entregas que se tienen estipuladas a lo largo del proyecto:\n",
    "<img style=\"center\" src=\"https://ibm.box.com/shared/static/oeyhn9eiz48mf8m5hpf53kzo8upv24ba.jpeg\" width=\"500px\" height=\"200px\" alt=\"atom\" />\n",
    "\n",
    "- **1er avance:** Algoritmo que descargue fundamentales de las compañías (pasos 1-3 del diagrama).\n",
    "    - Definir activos y fundamentales a utilizar\n",
    "    - Diseñar algoritmo para descargar los fundamentales \n",
    "    - Acomodar los datos recabados con miras a la fase de modelación\n",
    "\n",
    "    \n",
    "- **2do avance:** Implementación de análisis fundamental y demás tipos de análisis (pasos 4-9 del diagrama).\n",
    "    - Evaluar rendimiento de las acciones seleccionadas.\n",
    "    - Asignar \"1\" o \"0\" dependiendo del rendimiento.\n",
    "    - Separar los datos en entrenamiento y prueba.\n",
    "    - Realizar distintos modelos de clasificación y evaluarlos.\n",
    "    - Seleccionar del mejor modelo.\n",
    " \n",
    " \n",
    "- **3er avance:** Análisis y backtesting (pasos 10-12 del diagrama).\n",
    "    - Realizar el análisis de significancia de las variables involucradas en el modelo.\n",
    "    - Simular varios escenarios de backtesting para comprobar la eficiencia del modelo.\n",
    "    \n",
    "Los avances planteados con anterioridad corresponden a las entregas 2, 3 y 4, respectivamente, pues existen elementos adicionales a considerar para el transcurso de las prácticas profesionales. Tomando esto en consideración, a continuación se muestra un calendario propuesto para realizar la totalidad de las actividades en el tiempo que se tiene estipulado:\n",
    "<img style=\"center\" src=https://ibm.box.com/shared/static/kymna81s6p490gdogtski2r2qvw7vo8u.png alt=\"atom\" />"
   ]
  },
  {
   "cell_type": "markdown",
   "id": "1ae54836",
   "metadata": {},
   "source": [
    "<div class=\"alert alert-block alert-info\">\n",
    "<b>Documentacion, Herramientas y Recursos </b>\n",
    "</div>"
   ]
  },
  {
   "cell_type": "markdown",
   "id": "afbba39d",
   "metadata": {},
   "source": [
    "- **Descarga de Fundamentales: [Alpha Vantage API](https://www.alphavantage.co/documentation/)**\n",
    "     - Free stock API service covering the majority of our datasets for up to 5 API requests per minute and 100 requests per day.\n",
    " - **Descarga de Precios: [Yahoo! Finance's API](https://pypi.org/project/yfinance/)**\n",
    " - **Trabajo Colaborativo: [GitHub](https://github.com)**\n",
    " - **Python**"
   ]
  },
  {
   "cell_type": "markdown",
   "id": "b4f3c828",
   "metadata": {},
   "source": [
    "## Entrega 2"
   ]
  },
  {
   "cell_type": "code",
   "execution_count": 1,
   "id": "bd193e7d",
   "metadata": {},
   "outputs": [],
   "source": [
    "# Importar librerías \n",
    "from datetime import datetime\n",
    "import yfinance as yf\n",
    "import pandas as pd\n",
    "import numpy as np\n",
    "import Functions\n",
    "import requests\n",
    "import time\n",
    "import os"
   ]
  },
  {
   "cell_type": "code",
   "execution_count": 2,
   "id": "29f31c65",
   "metadata": {},
   "outputs": [],
   "source": [
    "# Cargar Datos\n",
    "income_statement = Functions.load_full_excel('Data/Income/Income_Statement.xlsx')\n",
    "balance_statement = Functions.load_full_excel('Data/Balance/Balance_Statement.xlsx')\n",
    "sp500 = Functions.assets(income_statement=income_statement)\n",
    "# Si se desea cambiar de periodo de analisis cambiar la siguiente fecha:\n",
    "prices = yf.download(tickers=sp500, start='2018-09-01', progress=False)['Adj Close'] "
   ]
  },
  {
   "cell_type": "code",
   "execution_count": 3,
   "id": "9a04f1e6",
   "metadata": {},
   "outputs": [],
   "source": [
    "# Filtrado de fechas y correcciones temporales\n",
    "prices_fiscal = Functions.prices_date(balance_statement=balance_statement, prices=prices, sp500=sp500)\n",
    "# DataFrame Limpio con información consolidada de ambos Estados Financieros y Precios\n",
    "companies = Functions.clean_df(balance_statement=balance_statement, income_statement=income_statement, sp500=sp500, prices_fiscal=prices_fiscal)"
   ]
  },
  {
   "cell_type": "markdown",
   "id": "c87a027d",
   "metadata": {},
   "source": [
    "Recomienda Nico:\n",
    "\n",
    "PER\n",
    "\n",
    "$$ PER = \\frac{Precio De Accion}{\\frac{Ingresos Netos}{Número De Acciones}} $$\n",
    "\n",
    "Price Book Value\n",
    "\n",
    "$$ PBV = \\frac{Número de Acciones * Precios}{Activo Total} $$\n",
    "\n",
    "Prueba del acido (Liquidez a Corto Plazo)\n",
    "\n",
    "$$ Acido = \\frac{Activo Circulante - Inventarios}{Pasivo Circulante} $$\n",
    "\n",
    "Rotacion de los activos\n",
    "\n",
    "$$ RA = \\frac{Ventas Netas}{Activo Total} $$\n",
    "\n",
    "Ciclo de conversión del efectivo\n",
    "\n",
    "$$ CCE = \\frac{365}{\\frac{Costo Venta}{Inventario}} + \\frac{365}{\\frac{Ventas}{CXC}} - \\frac{365}{\\frac{Costo Venta}{CXP}} $$"
   ]
  }
 ],
 "metadata": {
  "kernelspec": {
   "display_name": "Python 3 (ipykernel)",
   "language": "python",
   "name": "python3"
  },
  "language_info": {
   "codemirror_mode": {
    "name": "ipython",
    "version": 3
   },
   "file_extension": ".py",
   "mimetype": "text/x-python",
   "name": "python",
   "nbconvert_exporter": "python",
   "pygments_lexer": "ipython3",
   "version": "3.11.2"
  }
 },
 "nbformat": 4,
 "nbformat_minor": 5
}
