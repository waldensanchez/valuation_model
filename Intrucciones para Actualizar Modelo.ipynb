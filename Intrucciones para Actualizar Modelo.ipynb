{
 "cells": [
  {
   "cell_type": "markdown",
   "id": "89c35463",
   "metadata": {},
   "source": [
    "### Instrucciones para la Actualización del Modelo\n",
    "\n",
    "El proyecto está estructurado para admitir actualizaciones eficientes, permitiendo la incorporación de nuevos conjuntos de datos con facilidad. Para actualizar el modelo, se deben seguir los pasos detallados a continuación:\n",
    "\n",
    "1. **Extracción de Datos**: Inicie el proceso utilizando la **API de Alpha Vantage**, que facilita la obtención de datos fundamentales. Es fundamental que en el script `DataFunctions.py`, especifique las fechas de interés y los tickers de las acciones que desea descargar. Este script procesa y limpia los datos descargados, además de calcular los ratios financieros pertinentes, normalmente realizados en Excel. Es crucial tener en cuenta las limitaciones inherentes a la API de Alpha Vantage, que incluyen un tope de descargas de 100 datos diarios y ciertas inconsistencias en la disponibilidad de datos debido a errores ocasionales en la API. Para la integración de datos de fuentes alternativas, es imprescindible adaptar el formato de los datos para asegurar la compatibilidad con las funciones existentes.\n",
    "\n",
    "2. **Consolidación de Datos**: Utilice el script `Join_Excel_Files.py` para combinar los diversos archivos de datos en un único documento. Esto facilitará el manejo del conjunto de datos completo que se utilizará para el reentrenamiento del modelo.\n",
    "\n",
    "3. **Entrenamiento del Modelo**: Con los datos preparados, proceda a utilizar `ModelFunctions.py` para entrenar los modelos. Este paso requiere una selección manual del modelo óptimo, basada en las métricas que el script proporciona. Posteriormente, el script generará un modelo serializado con la extensión `.pkl`, listo para ser evaluado y utilizado en la predicción de datos futuros.\n",
    "\n",
    "4. **Backtesting**: Para evaluar la efectividad del modelo actualizado, diríjase al notebook `Backtesting(Jupyter).ipynb`. Este notebook requiere los datos limpios y el modelo `.pkl` para realizar el backtesting. Se generará una serie de gráficos y métricas que permitirán analizar el desempeño histórico del modelo.\n",
    "\n",
    "Se aconseja reentrenar el modelo de manera anual para mantener su precisión y relevancia, garantizando así la continuidad en la generación de predicciones fiables y basadas en los datos más recientes disponibles."
   ]
  }
 ],
 "metadata": {
  "kernelspec": {
   "display_name": "Python 3 (ipykernel)",
   "language": "python",
   "name": "python3"
  },
  "language_info": {
   "codemirror_mode": {
    "name": "ipython",
    "version": 3
   },
   "file_extension": ".py",
   "mimetype": "text/x-python",
   "name": "python",
   "nbconvert_exporter": "python",
   "pygments_lexer": "ipython3",
   "version": "3.11.4"
  }
 },
 "nbformat": 4,
 "nbformat_minor": 5
}
