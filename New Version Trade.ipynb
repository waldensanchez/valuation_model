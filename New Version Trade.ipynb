{
 "cells": [
  {
   "cell_type": "code",
   "execution_count": 1,
   "metadata": {},
   "outputs": [],
   "source": [
    "from PortfolioSelection import asset_picker, asset_allocation, valuate_portfolio\n",
    "from Trade import trade\n",
    "from datetime import datetime, timedelta\n",
    "import pandas as pd\n",
    "import yfinance as yf\n",
    "import numpy as np\n",
    "\n",
    "data = pd.read_excel('Data/data.xlsx').drop(columns=['Unnamed: 0'])\n",
    "data = data[data.Stock != 'ABC']\n"
   ]
  },
  {
   "cell_type": "code",
   "execution_count": 2,
   "metadata": {},
   "outputs": [],
   "source": [
    "## Investing Process\n",
    "def InvestingProcess(data, portfolio, fiscal_date, initial_date, initial_capital, verbose):\n",
    "    # Functions\n",
    "    assets_list = asset_picker(data, portfolio, fiscal_date)\n",
    "    weights = asset_allocation(data, assets_list, fiscal_date)\n",
    "    if fiscal_date == initial_date:\n",
    "        portfolio_value = initial_capital\n",
    "        initial_trade = True\n",
    "    else:\n",
    "        portfolio_value = valuate_portfolio(data, portfolio, fiscal_date)\n",
    "        initial_trade = False\n",
    "    portfolio, cash = trade(data, portfolio, weights, portfolio_value, assets_list, fiscal_date, initial_trade, initial_capital, verbose)\n",
    "    return portfolio\n",
    "\n",
    "## Portfolio Valuation\n",
    "def portfolio_valuation(portfolio):\n",
    "    capitals = portfolio[portfolio.Asset != 'Rf']\n",
    "    valuation = capitals.Amount * capitals.Price\n",
    "    valuation = valuation.sum()\n",
    "    if 'Rf' in portfolio.Asset.values:\n",
    "        valuation += portfolio[portfolio.Asset == 'Rf'].Amount.iloc[0]\n",
    "    return valuation"
   ]
  },
  {
   "cell_type": "code",
   "execution_count": 3,
   "metadata": {},
   "outputs": [],
   "source": [
    "### Backtesting\n",
    "def Backtesting(data, initial_capital: int = 1000000, verbose: bool = False):\n",
    "    portfolio = pd.DataFrame(columns=['Date','Asset','Amount','Price'])\n",
    "    value_in_time = pd.DataFrame(columns=['Date','Portfolio'])\n",
    "    fiscal_dates = data.fiscalDateEnding.unique()\n",
    "    initial_date = fiscal_dates[0]\n",
    "    # Calculate the total amount of money in the portfolio at each step\n",
    "    for fiscal_date in fiscal_dates:\n",
    "        if verbose:\n",
    "            print('Date :', fiscal_date)\n",
    "        portfolio = InvestingProcess(data, portfolio, fiscal_date, initial_date, initial_capital, verbose)\n",
    "        print(portfolio)\n",
    "        valuation = portfolio_valuation(portfolio)\n",
    "        valuation = pd.DataFrame([fiscal_date, valuation], index = ['Date', 'Portfolio']).T\n",
    "        value_in_time = pd.concat([value_in_time, valuation], axis=0, ignore_index=True)\n",
    "        if verbose:\n",
    "            print('Assets: ', portfolio.Asset.values)\n",
    "            print('')\n",
    "    return value_in_time"
   ]
  },
  {
   "cell_type": "code",
   "execution_count": 5,
   "metadata": {},
   "outputs": [
    {
     "name": "stdout",
     "output_type": "stream",
     "text": [
      "Date : 2018-12-31 00:00:00\n",
      "Portfolio Value:  1000000\n",
      "TRADE ORDER\n",
      "   Old Asset      New  TradeOrder\n",
      "0    0   LIN    127.0       127.0\n",
      "1    0  GOOG   5952.0      5952.0\n",
      "2    0   EIX    740.0       740.0\n",
      "3    0   GIS   1726.0      1726.0\n",
      "4    0   EMR  11012.0     11012.0\n",
      "Sell Order\n",
      "Empty DataFrame\n",
      "Columns: [Asset, TradeOrder]\n",
      "Index: []\n",
      "Full purchase\n",
      "Cash spent in capitals:  18362.181518554688  Remaining:  981637.8184814453\n",
      "Full purchase\n",
      "Cash spent in capitals:  308197.5270996094  Remaining:  673440.2913818359\n",
      "Full purchase\n",
      "Cash spent in capitals:  34294.747619628906  Remaining:  639145.543762207\n",
      "Full purchase\n",
      "Cash spent in capitals:  56909.461517333984  Remaining:  582236.082244873\n",
      "Full purchase\n",
      "Cash spent in capitals:  582066.3077545166  Remaining:  169.7744903564453\n",
      "Rf bought: 169.7744903564453\n",
      "        Date Asset     Amount       Price\n",
      "0 2018-12-31   LIN      127.0  144.584106\n",
      "1 2018-12-31  GOOG     5952.0   51.780499\n",
      "2 2018-12-31   EIX      740.0   46.344254\n",
      "3 2018-12-31   GIS     1726.0   32.971878\n",
      "4 2018-12-31   EMR    11012.0   52.857456\n",
      "5 2018-12-31    Rf  169.77449         2.3\n",
      "Assets:  ['LIN' 'GOOG' 'EIX' 'GIS' 'EMR' 'Rf']\n",
      "\n",
      "Date : 2019-03-31 00:00:00\n",
      "Cash from RF:  170.75069367599485\n",
      "Portfolio Value:  1156296.588408825\n",
      "TRADE ORDER\n",
      "  Asset      Old     New  TradeOrder\n",
      "0   LIN    127.0   705.0       578.0\n",
      "1  GOOG   5952.0  9903.0      3951.0\n",
      "2   EIX    740.0  8499.0      7759.0\n",
      "3   GIS   1726.0   107.0     -1619.0\n",
      "4   EMR  11012.0   346.0    -10666.0\n",
      "Sell Order\n",
      "  Asset  TradeOrder\n",
      "3   GIS     -1619.0\n",
      "4   EMR    -10666.0\n",
      "Partial Sell\n",
      "Cash from capitals:  71798.42932510376  Remaining:  -71627.67863142777\n",
      "Partial Sell\n",
      "Cash from capitals:  650717.0994491576  Remaining:  -722344.7780805854\n",
      "Partial purchase\n",
      "Full purchase\n",
      "Cash spent in capitals:  94712.01522827148  Remaining:  -837867.2188001899\n",
      "Partial purchase\n",
      "Full purchase\n",
      "Cash spent in capitals:  231787.39303207397  Remaining:  -1418831.671646717\n",
      "Partial purchase\n",
      "Full purchase\n",
      "Cash spent in capitals:  396009.8956680297  Remaining:  -1852610.2646719245\n",
      "Rf bought: -1852610.2646719245\n",
      "        Date Asset          Amount       Price\n",
      "0 2019-03-31   LIN      160.388932  144.584106\n",
      "1 2019-03-31  GOOG       54.527408   51.780499\n",
      "2 2019-03-31   EIX       50.630032   46.344254\n",
      "3 2018-12-31   GIS           107.0   32.971878\n",
      "4 2018-12-31   EMR           346.0   52.857456\n",
      "5 2019-03-31    Rf -1852610.264672       2.328\n",
      "Assets:  ['LIN' 'GOOG' 'EIX' 'GIS' 'EMR' 'Rf']\n",
      "\n",
      "Date : 2019-06-30 00:00:00\n",
      "Cash from RF:  -1863392.456412315\n",
      "Portfolio Value:  -1801905.087812918\n",
      "TRADE ORDER\n",
      "  Asset         Old      New    TradeOrder\n",
      "0   LIN  160.388932   -923.0  -1083.388932\n",
      "1  GOOG   54.527408  -3727.0  -3781.527408\n",
      "2   EIX   50.630032   -243.0   -293.630032\n",
      "3   GIS  107.000000  -5647.0  -5754.000000\n",
      "4   EMR  346.000000 -19319.0 -19665.000000\n",
      "Sell Order\n",
      "  Asset    TradeOrder\n",
      "0   LIN  -1083.388932\n",
      "1  GOOG  -3781.527408\n",
      "2   EIX   -293.630032\n",
      "3   GIS  -5754.000000\n",
      "4   EMR -19665.000000\n",
      "Full Sell\n",
      "Cash from capitals:  203592.77693386635  Remaining:  -1833251.82361297\n",
      "Full Sell\n",
      "Cash from capitals:  204374.54598458248  Remaining:  -1830304.8624977723\n",
      "Full Sell\n",
      "Cash from capitals:  16315.264465280257  Remaining:  -1827491.6544671233\n",
      "Full Sell\n",
      "Cash from capitals:  261468.68822479248  Remaining:  -1822629.4456315215\n",
      "Full Sell\n",
      "Cash from capitals:  1177874.2673492432  Remaining:  -1801905.087812918\n",
      "Rf bought: -1801905.087812918\n",
      "        Date Asset          Amount  Price\n",
      "0 2019-06-30    Rf -1801905.087813  2.035\n",
      "Assets:  ['Rf']\n",
      "\n",
      "Date : 2019-09-30 00:00:00\n",
      "Cash from RF:  -1811072.279947166\n",
      "Portfolio Value:  -1811072.279947166\n",
      "TRADE ORDER\n",
      "   Old Asset      New  TradeOrder\n",
      "0    0   AON  -3011.0     -3011.0\n",
      "1    0  BKNG    -54.0       -54.0\n",
      "2    0   AFL   -905.0      -905.0\n",
      "3    0   PWR  -1324.0     -1324.0\n",
      "4    0   HPQ -63263.0    -63263.0\n",
      "Sell Order\n",
      "  Asset  TradeOrder\n",
      "0   AON     -3011.0\n",
      "1  BKNG       -54.0\n",
      "2   AFL      -905.0\n",
      "3   PWR     -1324.0\n",
      "4   HPQ    -63263.0\n"
     ]
    },
    {
     "ename": "IndexError",
     "evalue": "index 0 is out of bounds for axis 0 with size 0",
     "output_type": "error",
     "traceback": [
      "\u001b[1;31m---------------------------------------------------------------------------\u001b[0m",
      "\u001b[1;31mIndexError\u001b[0m                                Traceback (most recent call last)",
      "\u001b[1;32mc:\\Users\\Administrator\\Documents\\ITESO\\9no\\PAP Modelos bursatiles\\Ultima Version\\valuation_model\\New Version Trade.ipynb Cell 4\u001b[0m line \u001b[0;36m1\n\u001b[1;32m----> <a href='vscode-notebook-cell:/c%3A/Users/Administrator/Documents/ITESO/9no/PAP%20Modelos%20bursatiles/Ultima%20Version/valuation_model/New%20Version%20Trade.ipynb#W3sZmlsZQ%3D%3D?line=0'>1</a>\u001b[0m a \u001b[39m=\u001b[39m Backtesting(data, verbose\u001b[39m=\u001b[39;49m\u001b[39mTrue\u001b[39;49;00m)\n",
      "\u001b[1;32mc:\\Users\\Administrator\\Documents\\ITESO\\9no\\PAP Modelos bursatiles\\Ultima Version\\valuation_model\\New Version Trade.ipynb Cell 4\u001b[0m line \u001b[0;36m1\n\u001b[0;32m      <a href='vscode-notebook-cell:/c%3A/Users/Administrator/Documents/ITESO/9no/PAP%20Modelos%20bursatiles/Ultima%20Version/valuation_model/New%20Version%20Trade.ipynb#W3sZmlsZQ%3D%3D?line=8'>9</a>\u001b[0m \u001b[39mif\u001b[39;00m verbose:\n\u001b[0;32m     <a href='vscode-notebook-cell:/c%3A/Users/Administrator/Documents/ITESO/9no/PAP%20Modelos%20bursatiles/Ultima%20Version/valuation_model/New%20Version%20Trade.ipynb#W3sZmlsZQ%3D%3D?line=9'>10</a>\u001b[0m     \u001b[39mprint\u001b[39m(\u001b[39m'\u001b[39m\u001b[39mDate :\u001b[39m\u001b[39m'\u001b[39m, fiscal_date)\n\u001b[1;32m---> <a href='vscode-notebook-cell:/c%3A/Users/Administrator/Documents/ITESO/9no/PAP%20Modelos%20bursatiles/Ultima%20Version/valuation_model/New%20Version%20Trade.ipynb#W3sZmlsZQ%3D%3D?line=10'>11</a>\u001b[0m portfolio \u001b[39m=\u001b[39m InvestingProcess(data, portfolio, fiscal_date, initial_date, initial_capital, verbose)\n\u001b[0;32m     <a href='vscode-notebook-cell:/c%3A/Users/Administrator/Documents/ITESO/9no/PAP%20Modelos%20bursatiles/Ultima%20Version/valuation_model/New%20Version%20Trade.ipynb#W3sZmlsZQ%3D%3D?line=11'>12</a>\u001b[0m \u001b[39mprint\u001b[39m(portfolio)\n\u001b[0;32m     <a href='vscode-notebook-cell:/c%3A/Users/Administrator/Documents/ITESO/9no/PAP%20Modelos%20bursatiles/Ultima%20Version/valuation_model/New%20Version%20Trade.ipynb#W3sZmlsZQ%3D%3D?line=12'>13</a>\u001b[0m valuation \u001b[39m=\u001b[39m portfolio_valuation(portfolio)\n",
      "\u001b[1;32mc:\\Users\\Administrator\\Documents\\ITESO\\9no\\PAP Modelos bursatiles\\Ultima Version\\valuation_model\\New Version Trade.ipynb Cell 4\u001b[0m line \u001b[0;36m1\n\u001b[0;32m     <a href='vscode-notebook-cell:/c%3A/Users/Administrator/Documents/ITESO/9no/PAP%20Modelos%20bursatiles/Ultima%20Version/valuation_model/New%20Version%20Trade.ipynb#W3sZmlsZQ%3D%3D?line=9'>10</a>\u001b[0m     portfolio_value \u001b[39m=\u001b[39m valuate_portfolio(data, portfolio, fiscal_date)\n\u001b[0;32m     <a href='vscode-notebook-cell:/c%3A/Users/Administrator/Documents/ITESO/9no/PAP%20Modelos%20bursatiles/Ultima%20Version/valuation_model/New%20Version%20Trade.ipynb#W3sZmlsZQ%3D%3D?line=10'>11</a>\u001b[0m     initial_trade \u001b[39m=\u001b[39m \u001b[39mFalse\u001b[39;00m\n\u001b[1;32m---> <a href='vscode-notebook-cell:/c%3A/Users/Administrator/Documents/ITESO/9no/PAP%20Modelos%20bursatiles/Ultima%20Version/valuation_model/New%20Version%20Trade.ipynb#W3sZmlsZQ%3D%3D?line=11'>12</a>\u001b[0m portfolio, cash \u001b[39m=\u001b[39m trade(data, portfolio, weights, portfolio_value, assets_list, fiscal_date, initial_trade, initial_capital, verbose)\n\u001b[0;32m     <a href='vscode-notebook-cell:/c%3A/Users/Administrator/Documents/ITESO/9no/PAP%20Modelos%20bursatiles/Ultima%20Version/valuation_model/New%20Version%20Trade.ipynb#W3sZmlsZQ%3D%3D?line=12'>13</a>\u001b[0m \u001b[39mreturn\u001b[39;00m portfolio\n",
      "File \u001b[1;32mc:\\Users\\Administrator\\Documents\\ITESO\\9no\\PAP Modelos bursatiles\\Ultima Version\\valuation_model\\Trade.py:152\u001b[0m, in \u001b[0;36mtrade\u001b[1;34m(data, portfolio, weights, portfolio_value, assets_list, fiscal_date, initial_trade, initial_capital, verbose)\u001b[0m\n\u001b[0;32m    150\u001b[0m \u001b[39m#if 'Rf' not in assets_list:\u001b[39;00m\n\u001b[0;32m    151\u001b[0m trade_order \u001b[39m=\u001b[39m calculate_positions(data, portfolio, weights, portfolio_value, cash, fiscal_date, initial_trade)\n\u001b[1;32m--> 152\u001b[0m portfolio, cash \u001b[39m=\u001b[39m portfolio_adjustments(data, trade_order, portfolio, cash, fiscal_date, verbose)\n\u001b[0;32m    153\u001b[0m portfolio \u001b[39m=\u001b[39m buy_risk_free(data, portfolio, cash, fiscal_date, verbose)\n\u001b[0;32m    154\u001b[0m \u001b[39mreturn\u001b[39;00m portfolio, cash\n",
      "File \u001b[1;32mc:\\Users\\Administrator\\Documents\\ITESO\\9no\\PAP Modelos bursatiles\\Ultima Version\\valuation_model\\Trade.py:129\u001b[0m, in \u001b[0;36mportfolio_adjustments\u001b[1;34m(data, trade_order, portfolio, cash, fiscal_date, verbose)\u001b[0m\n\u001b[0;32m    128\u001b[0m \u001b[39mdef\u001b[39;00m \u001b[39mportfolio_adjustments\u001b[39m(data, trade_order, portfolio, cash, fiscal_date, verbose):\n\u001b[1;32m--> 129\u001b[0m     portfolio, cash \u001b[39m=\u001b[39m sell_capitals(data, trade_order, portfolio, cash, fiscal_date, verbose)\n\u001b[0;32m    130\u001b[0m     portfolio, cash \u001b[39m=\u001b[39m buy_capitals(data, trade_order, portfolio, cash, fiscal_date, verbose)\n\u001b[0;32m    131\u001b[0m     \u001b[39mreturn\u001b[39;00m portfolio, cash\n",
      "File \u001b[1;32mc:\\Users\\Administrator\\Documents\\ITESO\\9no\\PAP Modelos bursatiles\\Ultima Version\\valuation_model\\Trade.py:72\u001b[0m, in \u001b[0;36msell_capitals\u001b[1;34m(data, trade_order, portfolio, cash, fiscal_date, verbose)\u001b[0m\n\u001b[0;32m     70\u001b[0m \u001b[39mprint\u001b[39m(sell_orders)\n\u001b[0;32m     71\u001b[0m \u001b[39mfor\u001b[39;00m asset \u001b[39min\u001b[39;00m sell_orders\u001b[39m.\u001b[39mAsset:\n\u001b[1;32m---> 72\u001b[0m     available_amount \u001b[39m=\u001b[39m portfolio[portfolio\u001b[39m.\u001b[39;49mAsset \u001b[39m==\u001b[39;49m asset]\u001b[39m.\u001b[39;49mAmount\u001b[39m.\u001b[39;49mvalues[\u001b[39m0\u001b[39;49m]\n\u001b[0;32m     73\u001b[0m     amount_to_sell \u001b[39m=\u001b[39m sell_orders[sell_orders\u001b[39m.\u001b[39mAsset \u001b[39m==\u001b[39m asset]\u001b[39m.\u001b[39mTradeOrder\u001b[39m.\u001b[39mvalues[\u001b[39m0\u001b[39m]\n\u001b[0;32m     74\u001b[0m     sell_price \u001b[39m=\u001b[39m prices[prices\u001b[39m.\u001b[39mStock \u001b[39m==\u001b[39m asset][\u001b[39m'\u001b[39m\u001b[39mAdj Close\u001b[39m\u001b[39m'\u001b[39m]\u001b[39m.\u001b[39mvalues[\u001b[39m0\u001b[39m]\n",
      "\u001b[1;31mIndexError\u001b[0m: index 0 is out of bounds for axis 0 with size 0"
     ]
    }
   ],
   "source": [
    "a = Backtesting(data, verbose=True)"
   ]
  },
  {
   "cell_type": "code",
   "execution_count": null,
   "metadata": {},
   "outputs": [
    {
     "data": {
      "text/plain": [
       "<Axes: xlabel='Date'>"
      ]
     },
     "execution_count": 5,
     "metadata": {},
     "output_type": "execute_result"
    },
    {
     "data": {
      "image/png": "[encoded data removed]",
      "text/plain": [
       "<Figure size 640x480 with 1 Axes>"
      ]
     },
     "metadata": {},
     "output_type": "display_data"
    }
   ],
   "source": [
    "a.set_index('Date').plot()"
   ]
  }
 ],
 "metadata": {
  "kernelspec": {
   "display_name": "Python 3",
   "language": "python",
   "name": "python3"
  },
  "language_info": {
   "codemirror_mode": {
    "name": "ipython",
    "version": 3
   },
   "file_extension": ".py",
   "mimetype": "text/x-python",
   "name": "python",
   "nbconvert_exporter": "python",
   "pygments_lexer": "ipython3",
   "version": "3.11.2"
  }
 },
 "nbformat": 4,
 "nbformat_minor": 2
}
